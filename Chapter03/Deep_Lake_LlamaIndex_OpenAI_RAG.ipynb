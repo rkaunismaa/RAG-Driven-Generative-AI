{
 "cells": [
  {
   "cell_type": "markdown",
   "metadata": {},
   "source": [
    "#### Wednesday, November 13, 2024\n",
    "\n",
    "mamba activate rag_genai\n",
    "\n",
    "This all runs in one pass. The code does not make any explicit reference to anything OpenAI yet a quick look at my usage for today reveals 17c of usage. I'm guessing LLamaIndex is using OpenAI under the hood, and if this is true, how can I control the model used?"
   ]
  },
  {
   "cell_type": "markdown",
   "metadata": {
    "id": "LBX9kCJ4wDPb"
   },
   "source": [
    "# Constructing an Index-Based Deep Lake Vector Store for Semantic Search with LlamaIndex and OpenAI\n",
    "\n",
    "copyright 2024, Denis Rothman\n",
    "\n",
    "A Practical Guide to Building a Semantic Search Engine with Deep Lake, LlamaIndex, and OpenAI:\n",
    "\n",
    "*   Installing the Environment\n",
    "*   Creating and populating the Vector Store &   dataset\n",
    "*   Getting started with  index-based semantic search\n",
    "\n",
    "\n"
   ]
  },
  {
   "cell_type": "markdown",
   "metadata": {
    "id": "UJ-fctVvf3wA"
   },
   "source": [
    "# Installing the environment"
   ]
  },
  {
   "cell_type": "code",
   "execution_count": null,
   "metadata": {
    "colab": {
     "base_uri": "https://localhost:8080/"
    },
    "id": "pu-obY57BKtV",
    "outputId": "f0995511-4f23-470a-b912-ddb573e9c6fc"
   },
   "outputs": [
    {
     "name": "stdout",
     "output_type": "stream",
     "text": [
      "Mounted at /content/drive\n"
     ]
    }
   ],
   "source": [
    "#Google Drive option to store API Keys\n",
    "#Store you key in a file and read it(you can type it directly in the notebook but it will be visible for somebody next to you)\n",
    "# from google.colab import drive\n",
    "# drive.mount('/content/drive')"
   ]
  },
  {
   "cell_type": "markdown",
   "metadata": {
    "id": "3EtKelOLcbeN"
   },
   "source": [
    "*First run the following cells and restart Google Colab session if prompted. Then run the notebook again cell by cell to explore the code.*"
   ]
  },
  {
   "cell_type": "code",
   "execution_count": null,
   "metadata": {
    "colab": {
     "base_uri": "https://localhost:8080/",
     "height": 1000
    },
    "collapsed": true,
    "id": "N9nUXvMFwDPb",
    "outputId": "d50a6288-4ee8-4212-88bc-8fa1c1b829b1"
   },
   "outputs": [
    {
     "name": "stdout",
     "output_type": "stream",
     "text": [
      "Collecting llama-index-vector-stores-deeplake==0.1.6\n",
      "  Downloading llama_index_vector_stores_deeplake-0.1.6-py3-none-any.whl.metadata (709 bytes)\n",
      "Collecting deeplake>=3.9.12 (from llama-index-vector-stores-deeplake==0.1.6)\n",
      "  Downloading deeplake-3.9.18.tar.gz (608 kB)\n",
      "\u001b[2K     \u001b[90m━━━━━━━━━━━━━━━━━━━━━━━━━━━━━━━━━━━━━━━━\u001b[0m \u001b[32m608.9/608.9 kB\u001b[0m \u001b[31m7.3 MB/s\u001b[0m eta \u001b[36m0:00:00\u001b[0m\n",
      "\u001b[?25h  Installing build dependencies ... \u001b[?25l\u001b[?25hdone\n",
      "  Getting requirements to build wheel ... \u001b[?25l\u001b[?25hdone\n",
      "  Preparing metadata (pyproject.toml) ... \u001b[?25l\u001b[?25hdone\n",
      "Collecting llama-index-core<0.11.0,>=0.10.1 (from llama-index-vector-stores-deeplake==0.1.6)\n",
      "  Downloading llama_index_core-0.10.63-py3-none-any.whl.metadata (2.4 kB)\n",
      "Requirement already satisfied: numpy<2.0 in /usr/local/lib/python3.10/dist-packages (from deeplake>=3.9.12->llama-index-vector-stores-deeplake==0.1.6) (1.26.4)\n",
      "Collecting pillow~=10.2.0 (from deeplake>=3.9.12->llama-index-vector-stores-deeplake==0.1.6)\n",
      "  Downloading pillow-10.2.0-cp310-cp310-manylinux_2_28_x86_64.whl.metadata (9.7 kB)\n",
      "Collecting boto3 (from deeplake>=3.9.12->llama-index-vector-stores-deeplake==0.1.6)\n",
      "  Downloading boto3-1.34.157-py3-none-any.whl.metadata (6.6 kB)\n",
      "Requirement already satisfied: click in /usr/local/lib/python3.10/dist-packages (from deeplake>=3.9.12->llama-index-vector-stores-deeplake==0.1.6) (8.1.7)\n",
      "Collecting pathos (from deeplake>=3.9.12->llama-index-vector-stores-deeplake==0.1.6)\n",
      "  Downloading pathos-0.3.2-py3-none-any.whl.metadata (11 kB)\n",
      "Collecting humbug>=0.3.1 (from deeplake>=3.9.12->llama-index-vector-stores-deeplake==0.1.6)\n",
      "  Downloading humbug-0.3.2-py3-none-any.whl.metadata (6.8 kB)\n",
      "Requirement already satisfied: tqdm in /usr/local/lib/python3.10/dist-packages (from deeplake>=3.9.12->llama-index-vector-stores-deeplake==0.1.6) (4.66.5)\n",
      "Collecting lz4 (from deeplake>=3.9.12->llama-index-vector-stores-deeplake==0.1.6)\n",
      "  Downloading lz4-4.3.3-cp310-cp310-manylinux_2_17_x86_64.manylinux2014_x86_64.whl.metadata (3.7 kB)\n",
      "Requirement already satisfied: pyjwt in /usr/local/lib/python3.10/dist-packages (from deeplake>=3.9.12->llama-index-vector-stores-deeplake==0.1.6) (2.9.0)\n",
      "Requirement already satisfied: pydantic in /usr/local/lib/python3.10/dist-packages (from deeplake>=3.9.12->llama-index-vector-stores-deeplake==0.1.6) (2.8.2)\n",
      "Collecting libdeeplake==0.0.138 (from deeplake>=3.9.12->llama-index-vector-stores-deeplake==0.1.6)\n",
      "  Downloading libdeeplake-0.0.138-cp310-cp310-manylinux2014_x86_64.whl.metadata (352 bytes)\n",
      "Collecting aioboto3>=10.4.0 (from deeplake>=3.9.12->llama-index-vector-stores-deeplake==0.1.6)\n",
      "  Downloading aioboto3-13.1.1-py3-none-any.whl.metadata (8.8 kB)\n",
      "Requirement already satisfied: nest-asyncio in /usr/local/lib/python3.10/dist-packages (from deeplake>=3.9.12->llama-index-vector-stores-deeplake==0.1.6) (1.6.0)\n",
      "Collecting dill (from libdeeplake==0.0.138->deeplake>=3.9.12->llama-index-vector-stores-deeplake==0.1.6)\n",
      "  Downloading dill-0.3.8-py3-none-any.whl.metadata (10 kB)\n",
      "Requirement already satisfied: PyYAML>=6.0.1 in /usr/local/lib/python3.10/dist-packages (from llama-index-core<0.11.0,>=0.10.1->llama-index-vector-stores-deeplake==0.1.6) (6.0.2)\n",
      "Requirement already satisfied: SQLAlchemy>=1.4.49 in /usr/local/lib/python3.10/dist-packages (from SQLAlchemy[asyncio]>=1.4.49->llama-index-core<0.11.0,>=0.10.1->llama-index-vector-stores-deeplake==0.1.6) (2.0.32)\n",
      "Requirement already satisfied: aiohttp<4.0.0,>=3.8.6 in /usr/local/lib/python3.10/dist-packages (from llama-index-core<0.11.0,>=0.10.1->llama-index-vector-stores-deeplake==0.1.6) (3.10.1)\n",
      "Collecting dataclasses-json (from llama-index-core<0.11.0,>=0.10.1->llama-index-vector-stores-deeplake==0.1.6)\n",
      "  Downloading dataclasses_json-0.6.7-py3-none-any.whl.metadata (25 kB)\n",
      "Collecting deprecated>=1.2.9.3 (from llama-index-core<0.11.0,>=0.10.1->llama-index-vector-stores-deeplake==0.1.6)\n",
      "  Downloading Deprecated-1.2.14-py2.py3-none-any.whl.metadata (5.4 kB)\n",
      "Collecting dirtyjson<2.0.0,>=1.0.8 (from llama-index-core<0.11.0,>=0.10.1->llama-index-vector-stores-deeplake==0.1.6)\n",
      "  Downloading dirtyjson-1.0.8-py3-none-any.whl.metadata (11 kB)\n",
      "Requirement already satisfied: fsspec>=2023.5.0 in /usr/local/lib/python3.10/dist-packages (from llama-index-core<0.11.0,>=0.10.1->llama-index-vector-stores-deeplake==0.1.6) (2024.6.1)\n",
      "Collecting httpx (from llama-index-core<0.11.0,>=0.10.1->llama-index-vector-stores-deeplake==0.1.6)\n",
      "  Downloading httpx-0.27.0-py3-none-any.whl.metadata (7.2 kB)\n",
      "Requirement already satisfied: networkx>=3.0 in /usr/local/lib/python3.10/dist-packages (from llama-index-core<0.11.0,>=0.10.1->llama-index-vector-stores-deeplake==0.1.6) (3.3)\n",
      "Requirement already satisfied: nltk<4.0.0,>=3.8.1 in /usr/local/lib/python3.10/dist-packages (from llama-index-core<0.11.0,>=0.10.1->llama-index-vector-stores-deeplake==0.1.6) (3.8.1)\n",
      "Collecting openai>=1.1.0 (from llama-index-core<0.11.0,>=0.10.1->llama-index-vector-stores-deeplake==0.1.6)\n",
      "  Downloading openai-1.40.2-py3-none-any.whl.metadata (22 kB)\n",
      "Requirement already satisfied: pandas in /usr/local/lib/python3.10/dist-packages (from llama-index-core<0.11.0,>=0.10.1->llama-index-vector-stores-deeplake==0.1.6) (2.1.4)\n",
      "Requirement already satisfied: requests>=2.31.0 in /usr/local/lib/python3.10/dist-packages (from llama-index-core<0.11.0,>=0.10.1->llama-index-vector-stores-deeplake==0.1.6) (2.32.3)\n",
      "Collecting tenacity!=8.4.0,<9.0.0,>=8.2.0 (from llama-index-core<0.11.0,>=0.10.1->llama-index-vector-stores-deeplake==0.1.6)\n",
      "  Downloading tenacity-8.5.0-py3-none-any.whl.metadata (1.2 kB)\n",
      "Collecting tiktoken>=0.3.3 (from llama-index-core<0.11.0,>=0.10.1->llama-index-vector-stores-deeplake==0.1.6)\n",
      "  Downloading tiktoken-0.7.0-cp310-cp310-manylinux_2_17_x86_64.manylinux2014_x86_64.whl.metadata (6.6 kB)\n",
      "Requirement already satisfied: typing-extensions>=4.5.0 in /usr/local/lib/python3.10/dist-packages (from llama-index-core<0.11.0,>=0.10.1->llama-index-vector-stores-deeplake==0.1.6) (4.12.2)\n",
      "Collecting typing-inspect>=0.8.0 (from llama-index-core<0.11.0,>=0.10.1->llama-index-vector-stores-deeplake==0.1.6)\n",
      "  Downloading typing_inspect-0.9.0-py3-none-any.whl.metadata (1.5 kB)\n",
      "Requirement already satisfied: wrapt in /usr/local/lib/python3.10/dist-packages (from llama-index-core<0.11.0,>=0.10.1->llama-index-vector-stores-deeplake==0.1.6) (1.16.0)\n",
      "Collecting aiobotocore==2.13.1 (from aiobotocore[boto3]==2.13.1->aioboto3>=10.4.0->deeplake>=3.9.12->llama-index-vector-stores-deeplake==0.1.6)\n",
      "  Downloading aiobotocore-2.13.1-py3-none-any.whl.metadata (22 kB)\n",
      "Collecting aiofiles>=23.2.1 (from aioboto3>=10.4.0->deeplake>=3.9.12->llama-index-vector-stores-deeplake==0.1.6)\n",
      "  Downloading aiofiles-24.1.0-py3-none-any.whl.metadata (10 kB)\n",
      "Collecting botocore<1.34.132,>=1.34.70 (from aiobotocore==2.13.1->aiobotocore[boto3]==2.13.1->aioboto3>=10.4.0->deeplake>=3.9.12->llama-index-vector-stores-deeplake==0.1.6)\n",
      "  Downloading botocore-1.34.131-py3-none-any.whl.metadata (5.7 kB)\n",
      "Collecting aioitertools<1.0.0,>=0.5.1 (from aiobotocore==2.13.1->aiobotocore[boto3]==2.13.1->aioboto3>=10.4.0->deeplake>=3.9.12->llama-index-vector-stores-deeplake==0.1.6)\n",
      "  Downloading aioitertools-0.11.0-py3-none-any.whl.metadata (3.3 kB)\n",
      "Collecting boto3 (from deeplake>=3.9.12->llama-index-vector-stores-deeplake==0.1.6)\n",
      "  Downloading boto3-1.34.131-py3-none-any.whl.metadata (6.6 kB)\n",
      "Requirement already satisfied: aiohappyeyeballs>=2.3.0 in /usr/local/lib/python3.10/dist-packages (from aiohttp<4.0.0,>=3.8.6->llama-index-core<0.11.0,>=0.10.1->llama-index-vector-stores-deeplake==0.1.6) (2.3.4)\n",
      "Requirement already satisfied: aiosignal>=1.1.2 in /usr/local/lib/python3.10/dist-packages (from aiohttp<4.0.0,>=3.8.6->llama-index-core<0.11.0,>=0.10.1->llama-index-vector-stores-deeplake==0.1.6) (1.3.1)\n",
      "Requirement already satisfied: attrs>=17.3.0 in /usr/local/lib/python3.10/dist-packages (from aiohttp<4.0.0,>=3.8.6->llama-index-core<0.11.0,>=0.10.1->llama-index-vector-stores-deeplake==0.1.6) (24.2.0)\n",
      "Requirement already satisfied: frozenlist>=1.1.1 in /usr/local/lib/python3.10/dist-packages (from aiohttp<4.0.0,>=3.8.6->llama-index-core<0.11.0,>=0.10.1->llama-index-vector-stores-deeplake==0.1.6) (1.4.1)\n",
      "Requirement already satisfied: multidict<7.0,>=4.5 in /usr/local/lib/python3.10/dist-packages (from aiohttp<4.0.0,>=3.8.6->llama-index-core<0.11.0,>=0.10.1->llama-index-vector-stores-deeplake==0.1.6) (6.0.5)\n",
      "Requirement already satisfied: yarl<2.0,>=1.0 in /usr/local/lib/python3.10/dist-packages (from aiohttp<4.0.0,>=3.8.6->llama-index-core<0.11.0,>=0.10.1->llama-index-vector-stores-deeplake==0.1.6) (1.9.4)\n",
      "Requirement already satisfied: async-timeout<5.0,>=4.0 in /usr/local/lib/python3.10/dist-packages (from aiohttp<4.0.0,>=3.8.6->llama-index-core<0.11.0,>=0.10.1->llama-index-vector-stores-deeplake==0.1.6) (4.0.3)\n",
      "Collecting jmespath<2.0.0,>=0.7.1 (from boto3->deeplake>=3.9.12->llama-index-vector-stores-deeplake==0.1.6)\n",
      "  Downloading jmespath-1.0.1-py3-none-any.whl.metadata (7.6 kB)\n",
      "Collecting s3transfer<0.11.0,>=0.10.0 (from boto3->deeplake>=3.9.12->llama-index-vector-stores-deeplake==0.1.6)\n",
      "  Downloading s3transfer-0.10.2-py3-none-any.whl.metadata (1.7 kB)\n",
      "Requirement already satisfied: joblib in /usr/local/lib/python3.10/dist-packages (from nltk<4.0.0,>=3.8.1->llama-index-core<0.11.0,>=0.10.1->llama-index-vector-stores-deeplake==0.1.6) (1.4.2)\n",
      "Requirement already satisfied: regex>=2021.8.3 in /usr/local/lib/python3.10/dist-packages (from nltk<4.0.0,>=3.8.1->llama-index-core<0.11.0,>=0.10.1->llama-index-vector-stores-deeplake==0.1.6) (2024.5.15)\n",
      "Requirement already satisfied: anyio<5,>=3.5.0 in /usr/local/lib/python3.10/dist-packages (from openai>=1.1.0->llama-index-core<0.11.0,>=0.10.1->llama-index-vector-stores-deeplake==0.1.6) (3.7.1)\n",
      "Requirement already satisfied: distro<2,>=1.7.0 in /usr/lib/python3/dist-packages (from openai>=1.1.0->llama-index-core<0.11.0,>=0.10.1->llama-index-vector-stores-deeplake==0.1.6) (1.7.0)\n",
      "Collecting jiter<1,>=0.4.0 (from openai>=1.1.0->llama-index-core<0.11.0,>=0.10.1->llama-index-vector-stores-deeplake==0.1.6)\n",
      "  Downloading jiter-0.5.0-cp310-cp310-manylinux_2_17_x86_64.manylinux2014_x86_64.whl.metadata (3.6 kB)\n",
      "Requirement already satisfied: sniffio in /usr/local/lib/python3.10/dist-packages (from openai>=1.1.0->llama-index-core<0.11.0,>=0.10.1->llama-index-vector-stores-deeplake==0.1.6) (1.3.1)\n",
      "Requirement already satisfied: certifi in /usr/local/lib/python3.10/dist-packages (from httpx->llama-index-core<0.11.0,>=0.10.1->llama-index-vector-stores-deeplake==0.1.6) (2024.7.4)\n",
      "Collecting httpcore==1.* (from httpx->llama-index-core<0.11.0,>=0.10.1->llama-index-vector-stores-deeplake==0.1.6)\n",
      "  Downloading httpcore-1.0.5-py3-none-any.whl.metadata (20 kB)\n",
      "Requirement already satisfied: idna in /usr/local/lib/python3.10/dist-packages (from httpx->llama-index-core<0.11.0,>=0.10.1->llama-index-vector-stores-deeplake==0.1.6) (3.7)\n",
      "Collecting h11<0.15,>=0.13 (from httpcore==1.*->httpx->llama-index-core<0.11.0,>=0.10.1->llama-index-vector-stores-deeplake==0.1.6)\n",
      "  Downloading h11-0.14.0-py3-none-any.whl.metadata (8.2 kB)\n",
      "Requirement already satisfied: annotated-types>=0.4.0 in /usr/local/lib/python3.10/dist-packages (from pydantic->deeplake>=3.9.12->llama-index-vector-stores-deeplake==0.1.6) (0.7.0)\n",
      "Requirement already satisfied: pydantic-core==2.20.1 in /usr/local/lib/python3.10/dist-packages (from pydantic->deeplake>=3.9.12->llama-index-vector-stores-deeplake==0.1.6) (2.20.1)\n",
      "Requirement already satisfied: charset-normalizer<4,>=2 in /usr/local/lib/python3.10/dist-packages (from requests>=2.31.0->llama-index-core<0.11.0,>=0.10.1->llama-index-vector-stores-deeplake==0.1.6) (3.3.2)\n",
      "Requirement already satisfied: urllib3<3,>=1.21.1 in /usr/local/lib/python3.10/dist-packages (from requests>=2.31.0->llama-index-core<0.11.0,>=0.10.1->llama-index-vector-stores-deeplake==0.1.6) (2.0.7)\n",
      "Requirement already satisfied: greenlet!=0.4.17 in /usr/local/lib/python3.10/dist-packages (from SQLAlchemy>=1.4.49->SQLAlchemy[asyncio]>=1.4.49->llama-index-core<0.11.0,>=0.10.1->llama-index-vector-stores-deeplake==0.1.6) (3.0.3)\n",
      "Collecting mypy-extensions>=0.3.0 (from typing-inspect>=0.8.0->llama-index-core<0.11.0,>=0.10.1->llama-index-vector-stores-deeplake==0.1.6)\n",
      "  Downloading mypy_extensions-1.0.0-py3-none-any.whl.metadata (1.1 kB)\n",
      "Collecting marshmallow<4.0.0,>=3.18.0 (from dataclasses-json->llama-index-core<0.11.0,>=0.10.1->llama-index-vector-stores-deeplake==0.1.6)\n",
      "  Downloading marshmallow-3.21.3-py3-none-any.whl.metadata (7.1 kB)\n",
      "Requirement already satisfied: python-dateutil>=2.8.2 in /usr/local/lib/python3.10/dist-packages (from pandas->llama-index-core<0.11.0,>=0.10.1->llama-index-vector-stores-deeplake==0.1.6) (2.8.2)\n",
      "Requirement already satisfied: pytz>=2020.1 in /usr/local/lib/python3.10/dist-packages (from pandas->llama-index-core<0.11.0,>=0.10.1->llama-index-vector-stores-deeplake==0.1.6) (2024.1)\n",
      "Requirement already satisfied: tzdata>=2022.1 in /usr/local/lib/python3.10/dist-packages (from pandas->llama-index-core<0.11.0,>=0.10.1->llama-index-vector-stores-deeplake==0.1.6) (2024.1)\n",
      "Collecting ppft>=1.7.6.8 (from pathos->deeplake>=3.9.12->llama-index-vector-stores-deeplake==0.1.6)\n",
      "  Downloading ppft-1.7.6.8-py3-none-any.whl.metadata (12 kB)\n",
      "Collecting pox>=0.3.4 (from pathos->deeplake>=3.9.12->llama-index-vector-stores-deeplake==0.1.6)\n",
      "  Downloading pox-0.3.4-py3-none-any.whl.metadata (8.0 kB)\n",
      "Collecting multiprocess>=0.70.16 (from pathos->deeplake>=3.9.12->llama-index-vector-stores-deeplake==0.1.6)\n",
      "  Downloading multiprocess-0.70.16-py310-none-any.whl.metadata (7.2 kB)\n",
      "Requirement already satisfied: exceptiongroup in /usr/local/lib/python3.10/dist-packages (from anyio<5,>=3.5.0->openai>=1.1.0->llama-index-core<0.11.0,>=0.10.1->llama-index-vector-stores-deeplake==0.1.6) (1.2.2)\n",
      "Requirement already satisfied: packaging>=17.0 in /usr/local/lib/python3.10/dist-packages (from marshmallow<4.0.0,>=3.18.0->dataclasses-json->llama-index-core<0.11.0,>=0.10.1->llama-index-vector-stores-deeplake==0.1.6) (24.1)\n",
      "Requirement already satisfied: six>=1.5 in /usr/local/lib/python3.10/dist-packages (from python-dateutil>=2.8.2->pandas->llama-index-core<0.11.0,>=0.10.1->llama-index-vector-stores-deeplake==0.1.6) (1.16.0)\n",
      "Downloading llama_index_vector_stores_deeplake-0.1.6-py3-none-any.whl (5.1 kB)\n",
      "Downloading libdeeplake-0.0.138-cp310-cp310-manylinux2014_x86_64.whl (16.8 MB)\n",
      "\u001b[2K   \u001b[90m━━━━━━━━━━━━━━━━━━━━━━━━━━━━━━━━━━━━━━━━\u001b[0m \u001b[32m16.8/16.8 MB\u001b[0m \u001b[31m34.6 MB/s\u001b[0m eta \u001b[36m0:00:00\u001b[0m\n",
      "\u001b[?25hDownloading llama_index_core-0.10.63-py3-none-any.whl (15.5 MB)\n",
      "\u001b[2K   \u001b[90m━━━━━━━━━━━━━━━━━━━━━━━━━━━━━━━━━━━━━━━━\u001b[0m \u001b[32m15.5/15.5 MB\u001b[0m \u001b[31m31.9 MB/s\u001b[0m eta \u001b[36m0:00:00\u001b[0m\n",
      "\u001b[?25hDownloading aioboto3-13.1.1-py3-none-any.whl (34 kB)\n",
      "Downloading aiobotocore-2.13.1-py3-none-any.whl (76 kB)\n",
      "\u001b[2K   \u001b[90m━━━━━━━━━━━━━━━━━━━━━━━━━━━━━━━━━━━━━━━━\u001b[0m \u001b[32m76.9/76.9 kB\u001b[0m \u001b[31m5.1 MB/s\u001b[0m eta \u001b[36m0:00:00\u001b[0m\n",
      "\u001b[?25hDownloading boto3-1.34.131-py3-none-any.whl (139 kB)\n",
      "\u001b[2K   \u001b[90m━━━━━━━━━━━━━━━━━━━━━━━━━━━━━━━━━━━━━━━━\u001b[0m \u001b[32m139.2/139.2 kB\u001b[0m \u001b[31m8.4 MB/s\u001b[0m eta \u001b[36m0:00:00\u001b[0m\n",
      "\u001b[?25hDownloading Deprecated-1.2.14-py2.py3-none-any.whl (9.6 kB)\n",
      "Downloading dirtyjson-1.0.8-py3-none-any.whl (25 kB)\n",
      "Downloading humbug-0.3.2-py3-none-any.whl (15 kB)\n",
      "Downloading openai-1.40.2-py3-none-any.whl (360 kB)\n",
      "\u001b[2K   \u001b[90m━━━━━━━━━━━━━━━━━━━━━━━━━━━━━━━━━━━━━━━━\u001b[0m \u001b[32m360.7/360.7 kB\u001b[0m \u001b[31m17.6 MB/s\u001b[0m eta \u001b[36m0:00:00\u001b[0m\n",
      "\u001b[?25hDownloading httpx-0.27.0-py3-none-any.whl (75 kB)\n",
      "\u001b[2K   \u001b[90m━━━━━━━━━━━━━━━━━━━━━━━━━━━━━━━━━━━━━━━━\u001b[0m \u001b[32m75.6/75.6 kB\u001b[0m \u001b[31m4.2 MB/s\u001b[0m eta \u001b[36m0:00:00\u001b[0m\n",
      "\u001b[?25hDownloading httpcore-1.0.5-py3-none-any.whl (77 kB)\n",
      "\u001b[2K   \u001b[90m━━━━━━━━━━━━━━━━━━━━━━━━━━━━━━━━━━━━━━━━\u001b[0m \u001b[32m77.9/77.9 kB\u001b[0m \u001b[31m5.3 MB/s\u001b[0m eta \u001b[36m0:00:00\u001b[0m\n",
      "\u001b[?25hDownloading pillow-10.2.0-cp310-cp310-manylinux_2_28_x86_64.whl (4.5 MB)\n",
      "\u001b[2K   \u001b[90m━━━━━━━━━━━━━━━━━━━━━━━━━━━━━━━━━━━━━━━━\u001b[0m \u001b[32m4.5/4.5 MB\u001b[0m \u001b[31m54.1 MB/s\u001b[0m eta \u001b[36m0:00:00\u001b[0m\n",
      "\u001b[?25hDownloading tenacity-8.5.0-py3-none-any.whl (28 kB)\n",
      "Downloading tiktoken-0.7.0-cp310-cp310-manylinux_2_17_x86_64.manylinux2014_x86_64.whl (1.1 MB)\n",
      "\u001b[2K   \u001b[90m━━━━━━━━━━━━━━━━━━━━━━━━━━━━━━━━━━━━━━━━\u001b[0m \u001b[32m1.1/1.1 MB\u001b[0m \u001b[31m37.4 MB/s\u001b[0m eta \u001b[36m0:00:00\u001b[0m\n",
      "\u001b[?25hDownloading typing_inspect-0.9.0-py3-none-any.whl (8.8 kB)\n",
      "Downloading dataclasses_json-0.6.7-py3-none-any.whl (28 kB)\n",
      "Downloading lz4-4.3.3-cp310-cp310-manylinux_2_17_x86_64.manylinux2014_x86_64.whl (1.3 MB)\n",
      "\u001b[2K   \u001b[90m━━━━━━━━━━━━━━━━━━━━━━━━━━━━━━━━━━━━━━━━\u001b[0m \u001b[32m1.3/1.3 MB\u001b[0m \u001b[31m39.3 MB/s\u001b[0m eta \u001b[36m0:00:00\u001b[0m\n",
      "\u001b[?25hDownloading pathos-0.3.2-py3-none-any.whl (82 kB)\n",
      "\u001b[2K   \u001b[90m━━━━━━━━━━━━━━━━━━━━━━━━━━━━━━━━━━━━━━━━\u001b[0m \u001b[32m82.1/82.1 kB\u001b[0m \u001b[31m4.8 MB/s\u001b[0m eta \u001b[36m0:00:00\u001b[0m\n",
      "\u001b[?25hDownloading aiofiles-24.1.0-py3-none-any.whl (15 kB)\n",
      "Downloading botocore-1.34.131-py3-none-any.whl (12.3 MB)\n",
      "\u001b[2K   \u001b[90m━━━━━━━━━━━━━━━━━━━━━━━━━━━━━━━━━━━━━━━━\u001b[0m \u001b[32m12.3/12.3 MB\u001b[0m \u001b[31m57.1 MB/s\u001b[0m eta \u001b[36m0:00:00\u001b[0m\n",
      "\u001b[?25hDownloading dill-0.3.8-py3-none-any.whl (116 kB)\n",
      "\u001b[2K   \u001b[90m━━━━━━━━━━━━━━━━━━━━━━━━━━━━━━━━━━━━━━━━\u001b[0m \u001b[32m116.3/116.3 kB\u001b[0m \u001b[31m7.0 MB/s\u001b[0m eta \u001b[36m0:00:00\u001b[0m\n",
      "\u001b[?25hDownloading jiter-0.5.0-cp310-cp310-manylinux_2_17_x86_64.manylinux2014_x86_64.whl (318 kB)\n",
      "\u001b[2K   \u001b[90m━━━━━━━━━━━━━━━━━━━━━━━━━━━━━━━━━━━━━━━━\u001b[0m \u001b[32m318.9/318.9 kB\u001b[0m \u001b[31m17.8 MB/s\u001b[0m eta \u001b[36m0:00:00\u001b[0m\n",
      "\u001b[?25hDownloading jmespath-1.0.1-py3-none-any.whl (20 kB)\n",
      "Downloading marshmallow-3.21.3-py3-none-any.whl (49 kB)\n",
      "\u001b[2K   \u001b[90m━━━━━━━━━━━━━━━━━━━━━━━━━━━━━━━━━━━━━━━━\u001b[0m \u001b[32m49.2/49.2 kB\u001b[0m \u001b[31m2.8 MB/s\u001b[0m eta \u001b[36m0:00:00\u001b[0m\n",
      "\u001b[?25hDownloading multiprocess-0.70.16-py310-none-any.whl (134 kB)\n",
      "\u001b[2K   \u001b[90m━━━━━━━━━━━━━━━━━━━━━━━━━━━━━━━━━━━━━━━━\u001b[0m \u001b[32m134.8/134.8 kB\u001b[0m \u001b[31m7.4 MB/s\u001b[0m eta \u001b[36m0:00:00\u001b[0m\n",
      "\u001b[?25hDownloading mypy_extensions-1.0.0-py3-none-any.whl (4.7 kB)\n",
      "Downloading pox-0.3.4-py3-none-any.whl (29 kB)\n",
      "Downloading ppft-1.7.6.8-py3-none-any.whl (56 kB)\n",
      "\u001b[2K   \u001b[90m━━━━━━━━━━━━━━━━━━━━━━━━━━━━━━━━━━━━━━━━\u001b[0m \u001b[32m56.8/56.8 kB\u001b[0m \u001b[31m3.4 MB/s\u001b[0m eta \u001b[36m0:00:00\u001b[0m\n",
      "\u001b[?25hDownloading s3transfer-0.10.2-py3-none-any.whl (82 kB)\n",
      "\u001b[2K   \u001b[90m━━━━━━━━━━━━━━━━━━━━━━━━━━━━━━━━━━━━━━━━\u001b[0m \u001b[32m82.7/82.7 kB\u001b[0m \u001b[31m5.1 MB/s\u001b[0m eta \u001b[36m0:00:00\u001b[0m\n",
      "\u001b[?25hDownloading aioitertools-0.11.0-py3-none-any.whl (23 kB)\n",
      "Downloading h11-0.14.0-py3-none-any.whl (58 kB)\n",
      "\u001b[2K   \u001b[90m━━━━━━━━━━━━━━━━━━━━━━━━━━━━━━━━━━━━━━━━\u001b[0m \u001b[32m58.3/58.3 kB\u001b[0m \u001b[31m3.0 MB/s\u001b[0m eta \u001b[36m0:00:00\u001b[0m\n",
      "\u001b[?25hBuilding wheels for collected packages: deeplake\n",
      "  Building wheel for deeplake (pyproject.toml) ... \u001b[?25l\u001b[?25hdone\n",
      "  Created wheel for deeplake: filename=deeplake-3.9.18-py3-none-any.whl size=731672 sha256=116d37c814165a0581e98308a70c2a1865389e2d32b687b8d3812eaa42310f4a\n",
      "  Stored in directory: /root/.cache/pip/wheels/e4/a0/1f/c60dc926c4dab93f909a6036f595908a014d315073739ac254\n",
      "Successfully built deeplake\n",
      "Installing collected packages: dirtyjson, tenacity, ppft, pox, pillow, mypy-extensions, marshmallow, lz4, jmespath, jiter, h11, dill, deprecated, aioitertools, aiofiles, typing-inspect, tiktoken, multiprocess, libdeeplake, humbug, httpcore, botocore, s3transfer, pathos, httpx, dataclasses-json, aiobotocore, openai, boto3, llama-index-core, aioboto3, deeplake, llama-index-vector-stores-deeplake\n",
      "  Attempting uninstall: tenacity\n",
      "    Found existing installation: tenacity 9.0.0\n",
      "    Uninstalling tenacity-9.0.0:\n",
      "      Successfully uninstalled tenacity-9.0.0\n",
      "  Attempting uninstall: pillow\n",
      "    Found existing installation: Pillow 9.4.0\n",
      "    Uninstalling Pillow-9.4.0:\n",
      "      Successfully uninstalled Pillow-9.4.0\n",
      "Successfully installed aioboto3-13.1.1 aiobotocore-2.13.1 aiofiles-24.1.0 aioitertools-0.11.0 boto3-1.34.131 botocore-1.34.131 dataclasses-json-0.6.7 deeplake-3.9.18 deprecated-1.2.14 dill-0.3.8 dirtyjson-1.0.8 h11-0.14.0 httpcore-1.0.5 httpx-0.27.0 humbug-0.3.2 jiter-0.5.0 jmespath-1.0.1 libdeeplake-0.0.138 llama-index-core-0.10.63 llama-index-vector-stores-deeplake-0.1.6 lz4-4.3.3 marshmallow-3.21.3 multiprocess-0.70.16 mypy-extensions-1.0.0 openai-1.40.2 pathos-0.3.2 pillow-10.2.0 pox-0.3.4 ppft-1.7.6.8 s3transfer-0.10.2 tenacity-8.5.0 tiktoken-0.7.0 typing-inspect-0.9.0\n"
     ]
    },
    {
     "data": {
      "application/vnd.colab-display-data+json": {
       "id": "e3cf35f494854c4e8ca6de19f8d2d5f3",
       "pip_warning": {
        "packages": [
         "PIL"
        ]
       }
      }
     },
     "metadata": {},
     "output_type": "display_data"
    }
   ],
   "source": [
    "# !pip install llama-index-vector-stores-deeplake==0.1.6"
   ]
  },
  {
   "cell_type": "markdown",
   "metadata": {
    "id": "QdKOPZwODhMF"
   },
   "source": [
    "LlamaIndex supports Deep Lake vector stores through the DeepLakeVectorStore class."
   ]
  },
  {
   "cell_type": "code",
   "execution_count": null,
   "metadata": {
    "colab": {
     "base_uri": "https://localhost:8080/"
    },
    "collapsed": true,
    "id": "8M5z1Bw9Dnmb",
    "outputId": "ca31cc15-d889-4f84-e608-5f683c6b768d"
   },
   "outputs": [
    {
     "name": "stdout",
     "output_type": "stream",
     "text": [
      "Requirement already satisfied: deeplake==3.9.18 in /usr/local/lib/python3.10/dist-packages (3.9.18)\n",
      "Requirement already satisfied: numpy<2.0 in /usr/local/lib/python3.10/dist-packages (from deeplake==3.9.18) (1.26.4)\n",
      "Requirement already satisfied: pillow~=10.2.0 in /usr/local/lib/python3.10/dist-packages (from deeplake==3.9.18) (10.2.0)\n",
      "Requirement already satisfied: boto3 in /usr/local/lib/python3.10/dist-packages (from deeplake==3.9.18) (1.34.131)\n",
      "Requirement already satisfied: click in /usr/local/lib/python3.10/dist-packages (from deeplake==3.9.18) (8.1.7)\n",
      "Requirement already satisfied: pathos in /usr/local/lib/python3.10/dist-packages (from deeplake==3.9.18) (0.3.2)\n",
      "Requirement already satisfied: humbug>=0.3.1 in /usr/local/lib/python3.10/dist-packages (from deeplake==3.9.18) (0.3.2)\n",
      "Requirement already satisfied: tqdm in /usr/local/lib/python3.10/dist-packages (from deeplake==3.9.18) (4.66.5)\n",
      "Requirement already satisfied: lz4 in /usr/local/lib/python3.10/dist-packages (from deeplake==3.9.18) (4.3.3)\n",
      "Requirement already satisfied: pyjwt in /usr/local/lib/python3.10/dist-packages (from deeplake==3.9.18) (2.9.0)\n",
      "Requirement already satisfied: pydantic in /usr/local/lib/python3.10/dist-packages (from deeplake==3.9.18) (2.8.2)\n",
      "Requirement already satisfied: libdeeplake==0.0.138 in /usr/local/lib/python3.10/dist-packages (from deeplake==3.9.18) (0.0.138)\n",
      "Requirement already satisfied: aioboto3>=10.4.0 in /usr/local/lib/python3.10/dist-packages (from deeplake==3.9.18) (13.1.1)\n",
      "Requirement already satisfied: nest-asyncio in /usr/local/lib/python3.10/dist-packages (from deeplake==3.9.18) (1.6.0)\n",
      "Requirement already satisfied: dill in /usr/local/lib/python3.10/dist-packages (from libdeeplake==0.0.138->deeplake==3.9.18) (0.3.8)\n",
      "Requirement already satisfied: aiobotocore==2.13.1 in /usr/local/lib/python3.10/dist-packages (from aiobotocore[boto3]==2.13.1->aioboto3>=10.4.0->deeplake==3.9.18) (2.13.1)\n",
      "Requirement already satisfied: aiofiles>=23.2.1 in /usr/local/lib/python3.10/dist-packages (from aioboto3>=10.4.0->deeplake==3.9.18) (24.1.0)\n",
      "Requirement already satisfied: botocore<1.34.132,>=1.34.70 in /usr/local/lib/python3.10/dist-packages (from aiobotocore==2.13.1->aiobotocore[boto3]==2.13.1->aioboto3>=10.4.0->deeplake==3.9.18) (1.34.131)\n",
      "Requirement already satisfied: aiohttp<4.0.0,>=3.9.2 in /usr/local/lib/python3.10/dist-packages (from aiobotocore==2.13.1->aiobotocore[boto3]==2.13.1->aioboto3>=10.4.0->deeplake==3.9.18) (3.10.1)\n",
      "Requirement already satisfied: wrapt<2.0.0,>=1.10.10 in /usr/local/lib/python3.10/dist-packages (from aiobotocore==2.13.1->aiobotocore[boto3]==2.13.1->aioboto3>=10.4.0->deeplake==3.9.18) (1.16.0)\n",
      "Requirement already satisfied: aioitertools<1.0.0,>=0.5.1 in /usr/local/lib/python3.10/dist-packages (from aiobotocore==2.13.1->aiobotocore[boto3]==2.13.1->aioboto3>=10.4.0->deeplake==3.9.18) (0.11.0)\n",
      "Requirement already satisfied: jmespath<2.0.0,>=0.7.1 in /usr/local/lib/python3.10/dist-packages (from boto3->deeplake==3.9.18) (1.0.1)\n",
      "Requirement already satisfied: s3transfer<0.11.0,>=0.10.0 in /usr/local/lib/python3.10/dist-packages (from boto3->deeplake==3.9.18) (0.10.2)\n",
      "Requirement already satisfied: requests in /usr/local/lib/python3.10/dist-packages (from humbug>=0.3.1->deeplake==3.9.18) (2.32.3)\n",
      "Requirement already satisfied: ppft>=1.7.6.8 in /usr/local/lib/python3.10/dist-packages (from pathos->deeplake==3.9.18) (1.7.6.8)\n",
      "Requirement already satisfied: pox>=0.3.4 in /usr/local/lib/python3.10/dist-packages (from pathos->deeplake==3.9.18) (0.3.4)\n",
      "Requirement already satisfied: multiprocess>=0.70.16 in /usr/local/lib/python3.10/dist-packages (from pathos->deeplake==3.9.18) (0.70.16)\n",
      "Requirement already satisfied: annotated-types>=0.4.0 in /usr/local/lib/python3.10/dist-packages (from pydantic->deeplake==3.9.18) (0.7.0)\n",
      "Requirement already satisfied: pydantic-core==2.20.1 in /usr/local/lib/python3.10/dist-packages (from pydantic->deeplake==3.9.18) (2.20.1)\n",
      "Requirement already satisfied: typing-extensions>=4.6.1 in /usr/local/lib/python3.10/dist-packages (from pydantic->deeplake==3.9.18) (4.12.2)\n",
      "Requirement already satisfied: python-dateutil<3.0.0,>=2.1 in /usr/local/lib/python3.10/dist-packages (from botocore<1.34.132,>=1.34.70->aiobotocore==2.13.1->aiobotocore[boto3]==2.13.1->aioboto3>=10.4.0->deeplake==3.9.18) (2.8.2)\n",
      "Requirement already satisfied: urllib3!=2.2.0,<3,>=1.25.4 in /usr/local/lib/python3.10/dist-packages (from botocore<1.34.132,>=1.34.70->aiobotocore==2.13.1->aiobotocore[boto3]==2.13.1->aioboto3>=10.4.0->deeplake==3.9.18) (2.0.7)\n",
      "Requirement already satisfied: charset-normalizer<4,>=2 in /usr/local/lib/python3.10/dist-packages (from requests->humbug>=0.3.1->deeplake==3.9.18) (3.3.2)\n",
      "Requirement already satisfied: idna<4,>=2.5 in /usr/local/lib/python3.10/dist-packages (from requests->humbug>=0.3.1->deeplake==3.9.18) (3.7)\n",
      "Requirement already satisfied: certifi>=2017.4.17 in /usr/local/lib/python3.10/dist-packages (from requests->humbug>=0.3.1->deeplake==3.9.18) (2024.7.4)\n",
      "Requirement already satisfied: aiohappyeyeballs>=2.3.0 in /usr/local/lib/python3.10/dist-packages (from aiohttp<4.0.0,>=3.9.2->aiobotocore==2.13.1->aiobotocore[boto3]==2.13.1->aioboto3>=10.4.0->deeplake==3.9.18) (2.3.4)\n",
      "Requirement already satisfied: aiosignal>=1.1.2 in /usr/local/lib/python3.10/dist-packages (from aiohttp<4.0.0,>=3.9.2->aiobotocore==2.13.1->aiobotocore[boto3]==2.13.1->aioboto3>=10.4.0->deeplake==3.9.18) (1.3.1)\n",
      "Requirement already satisfied: attrs>=17.3.0 in /usr/local/lib/python3.10/dist-packages (from aiohttp<4.0.0,>=3.9.2->aiobotocore==2.13.1->aiobotocore[boto3]==2.13.1->aioboto3>=10.4.0->deeplake==3.9.18) (24.2.0)\n",
      "Requirement already satisfied: frozenlist>=1.1.1 in /usr/local/lib/python3.10/dist-packages (from aiohttp<4.0.0,>=3.9.2->aiobotocore==2.13.1->aiobotocore[boto3]==2.13.1->aioboto3>=10.4.0->deeplake==3.9.18) (1.4.1)\n",
      "Requirement already satisfied: multidict<7.0,>=4.5 in /usr/local/lib/python3.10/dist-packages (from aiohttp<4.0.0,>=3.9.2->aiobotocore==2.13.1->aiobotocore[boto3]==2.13.1->aioboto3>=10.4.0->deeplake==3.9.18) (6.0.5)\n",
      "Requirement already satisfied: yarl<2.0,>=1.0 in /usr/local/lib/python3.10/dist-packages (from aiohttp<4.0.0,>=3.9.2->aiobotocore==2.13.1->aiobotocore[boto3]==2.13.1->aioboto3>=10.4.0->deeplake==3.9.18) (1.9.4)\n",
      "Requirement already satisfied: async-timeout<5.0,>=4.0 in /usr/local/lib/python3.10/dist-packages (from aiohttp<4.0.0,>=3.9.2->aiobotocore==2.13.1->aiobotocore[boto3]==2.13.1->aioboto3>=10.4.0->deeplake==3.9.18) (4.0.3)\n",
      "Requirement already satisfied: six>=1.5 in /usr/local/lib/python3.10/dist-packages (from python-dateutil<3.0.0,>=2.1->botocore<1.34.132,>=1.34.70->aiobotocore==2.13.1->aiobotocore[boto3]==2.13.1->aioboto3>=10.4.0->deeplake==3.9.18) (1.16.0)\n"
     ]
    }
   ],
   "source": [
    "# !pip install deeplake==3.9.18"
   ]
  },
  {
   "cell_type": "code",
   "execution_count": null,
   "metadata": {
    "colab": {
     "base_uri": "https://localhost:8080/"
    },
    "collapsed": true,
    "id": "mu_Oaz-iwDPc",
    "outputId": "00707efc-8758-4e04-885b-55960676ffee"
   },
   "outputs": [
    {
     "name": "stdout",
     "output_type": "stream",
     "text": [
      "Collecting llama-index==0.10.63\n",
      "  Downloading llama_index-0.10.63-py3-none-any.whl.metadata (11 kB)\n",
      "Collecting llama-index-agent-openai<0.3.0,>=0.1.4 (from llama-index==0.10.63)\n",
      "  Downloading llama_index_agent_openai-0.2.9-py3-none-any.whl.metadata (729 bytes)\n",
      "Collecting llama-index-cli<0.2.0,>=0.1.2 (from llama-index==0.10.63)\n",
      "  Downloading llama_index_cli-0.1.13-py3-none-any.whl.metadata (1.5 kB)\n",
      "Requirement already satisfied: llama-index-core==0.10.63 in /usr/local/lib/python3.10/dist-packages (from llama-index==0.10.63) (0.10.63)\n",
      "Collecting llama-index-embeddings-openai<0.2.0,>=0.1.5 (from llama-index==0.10.63)\n",
      "  Downloading llama_index_embeddings_openai-0.1.11-py3-none-any.whl.metadata (655 bytes)\n",
      "Collecting llama-index-indices-managed-llama-cloud>=0.2.0 (from llama-index==0.10.63)\n",
      "  Downloading llama_index_indices_managed_llama_cloud-0.2.7-py3-none-any.whl.metadata (3.8 kB)\n",
      "Collecting llama-index-legacy<0.10.0,>=0.9.48 (from llama-index==0.10.63)\n",
      "  Downloading llama_index_legacy-0.9.48-py3-none-any.whl.metadata (8.5 kB)\n",
      "Collecting llama-index-llms-openai<0.2.0,>=0.1.27 (from llama-index==0.10.63)\n",
      "  Downloading llama_index_llms_openai-0.1.29-py3-none-any.whl.metadata (650 bytes)\n",
      "Collecting llama-index-multi-modal-llms-openai<0.2.0,>=0.1.3 (from llama-index==0.10.63)\n",
      "  Downloading llama_index_multi_modal_llms_openai-0.1.9-py3-none-any.whl.metadata (728 bytes)\n",
      "Collecting llama-index-program-openai<0.2.0,>=0.1.3 (from llama-index==0.10.63)\n",
      "  Downloading llama_index_program_openai-0.1.7-py3-none-any.whl.metadata (760 bytes)\n",
      "Collecting llama-index-question-gen-openai<0.2.0,>=0.1.2 (from llama-index==0.10.63)\n",
      "  Downloading llama_index_question_gen_openai-0.1.3-py3-none-any.whl.metadata (785 bytes)\n",
      "Collecting llama-index-readers-file<0.2.0,>=0.1.4 (from llama-index==0.10.63)\n",
      "  Downloading llama_index_readers_file-0.1.32-py3-none-any.whl.metadata (5.4 kB)\n",
      "Collecting llama-index-readers-llama-parse>=0.1.2 (from llama-index==0.10.63)\n",
      "  Downloading llama_index_readers_llama_parse-0.1.6-py3-none-any.whl.metadata (3.6 kB)\n",
      "Requirement already satisfied: PyYAML>=6.0.1 in /usr/local/lib/python3.10/dist-packages (from llama-index-core==0.10.63->llama-index==0.10.63) (6.0.2)\n",
      "Requirement already satisfied: SQLAlchemy>=1.4.49 in /usr/local/lib/python3.10/dist-packages (from SQLAlchemy[asyncio]>=1.4.49->llama-index-core==0.10.63->llama-index==0.10.63) (2.0.32)\n",
      "Requirement already satisfied: aiohttp<4.0.0,>=3.8.6 in /usr/local/lib/python3.10/dist-packages (from llama-index-core==0.10.63->llama-index==0.10.63) (3.10.1)\n",
      "Requirement already satisfied: dataclasses-json in /usr/local/lib/python3.10/dist-packages (from llama-index-core==0.10.63->llama-index==0.10.63) (0.6.7)\n",
      "Requirement already satisfied: deprecated>=1.2.9.3 in /usr/local/lib/python3.10/dist-packages (from llama-index-core==0.10.63->llama-index==0.10.63) (1.2.14)\n",
      "Requirement already satisfied: dirtyjson<2.0.0,>=1.0.8 in /usr/local/lib/python3.10/dist-packages (from llama-index-core==0.10.63->llama-index==0.10.63) (1.0.8)\n",
      "Requirement already satisfied: fsspec>=2023.5.0 in /usr/local/lib/python3.10/dist-packages (from llama-index-core==0.10.63->llama-index==0.10.63) (2024.6.1)\n",
      "Requirement already satisfied: httpx in /usr/local/lib/python3.10/dist-packages (from llama-index-core==0.10.63->llama-index==0.10.63) (0.27.0)\n",
      "Requirement already satisfied: nest-asyncio<2.0.0,>=1.5.8 in /usr/local/lib/python3.10/dist-packages (from llama-index-core==0.10.63->llama-index==0.10.63) (1.6.0)\n",
      "Requirement already satisfied: networkx>=3.0 in /usr/local/lib/python3.10/dist-packages (from llama-index-core==0.10.63->llama-index==0.10.63) (3.3)\n",
      "Requirement already satisfied: nltk<4.0.0,>=3.8.1 in /usr/local/lib/python3.10/dist-packages (from llama-index-core==0.10.63->llama-index==0.10.63) (3.8.1)\n",
      "Requirement already satisfied: numpy<2.0.0 in /usr/local/lib/python3.10/dist-packages (from llama-index-core==0.10.63->llama-index==0.10.63) (1.26.4)\n",
      "Requirement already satisfied: openai>=1.1.0 in /usr/local/lib/python3.10/dist-packages (from llama-index-core==0.10.63->llama-index==0.10.63) (1.40.2)\n",
      "Requirement already satisfied: pandas in /usr/local/lib/python3.10/dist-packages (from llama-index-core==0.10.63->llama-index==0.10.63) (2.1.4)\n",
      "Requirement already satisfied: pillow>=9.0.0 in /usr/local/lib/python3.10/dist-packages (from llama-index-core==0.10.63->llama-index==0.10.63) (10.2.0)\n",
      "Requirement already satisfied: requests>=2.31.0 in /usr/local/lib/python3.10/dist-packages (from llama-index-core==0.10.63->llama-index==0.10.63) (2.32.3)\n",
      "Requirement already satisfied: tenacity!=8.4.0,<9.0.0,>=8.2.0 in /usr/local/lib/python3.10/dist-packages (from llama-index-core==0.10.63->llama-index==0.10.63) (8.5.0)\n",
      "Requirement already satisfied: tiktoken>=0.3.3 in /usr/local/lib/python3.10/dist-packages (from llama-index-core==0.10.63->llama-index==0.10.63) (0.7.0)\n",
      "Requirement already satisfied: tqdm<5.0.0,>=4.66.1 in /usr/local/lib/python3.10/dist-packages (from llama-index-core==0.10.63->llama-index==0.10.63) (4.66.5)\n",
      "Requirement already satisfied: typing-extensions>=4.5.0 in /usr/local/lib/python3.10/dist-packages (from llama-index-core==0.10.63->llama-index==0.10.63) (4.12.2)\n",
      "Requirement already satisfied: typing-inspect>=0.8.0 in /usr/local/lib/python3.10/dist-packages (from llama-index-core==0.10.63->llama-index==0.10.63) (0.9.0)\n",
      "Requirement already satisfied: wrapt in /usr/local/lib/python3.10/dist-packages (from llama-index-core==0.10.63->llama-index==0.10.63) (1.16.0)\n",
      "Collecting llama-cloud>=0.0.11 (from llama-index-indices-managed-llama-cloud>=0.2.0->llama-index==0.10.63)\n",
      "  Downloading llama_cloud-0.0.13-py3-none-any.whl.metadata (751 bytes)\n",
      "Requirement already satisfied: beautifulsoup4<5.0.0,>=4.12.3 in /usr/local/lib/python3.10/dist-packages (from llama-index-readers-file<0.2.0,>=0.1.4->llama-index==0.10.63) (4.12.3)\n",
      "Collecting pypdf<5.0.0,>=4.0.1 (from llama-index-readers-file<0.2.0,>=0.1.4->llama-index==0.10.63)\n",
      "  Downloading pypdf-4.3.1-py3-none-any.whl.metadata (7.4 kB)\n",
      "Collecting striprtf<0.0.27,>=0.0.26 (from llama-index-readers-file<0.2.0,>=0.1.4->llama-index==0.10.63)\n",
      "  Downloading striprtf-0.0.26-py3-none-any.whl.metadata (2.1 kB)\n",
      "Collecting llama-parse>=0.4.0 (from llama-index-readers-llama-parse>=0.1.2->llama-index==0.10.63)\n",
      "  Downloading llama_parse-0.4.9-py3-none-any.whl.metadata (4.4 kB)\n",
      "Requirement already satisfied: aiohappyeyeballs>=2.3.0 in /usr/local/lib/python3.10/dist-packages (from aiohttp<4.0.0,>=3.8.6->llama-index-core==0.10.63->llama-index==0.10.63) (2.3.4)\n",
      "Requirement already satisfied: aiosignal>=1.1.2 in /usr/local/lib/python3.10/dist-packages (from aiohttp<4.0.0,>=3.8.6->llama-index-core==0.10.63->llama-index==0.10.63) (1.3.1)\n",
      "Requirement already satisfied: attrs>=17.3.0 in /usr/local/lib/python3.10/dist-packages (from aiohttp<4.0.0,>=3.8.6->llama-index-core==0.10.63->llama-index==0.10.63) (24.2.0)\n",
      "Requirement already satisfied: frozenlist>=1.1.1 in /usr/local/lib/python3.10/dist-packages (from aiohttp<4.0.0,>=3.8.6->llama-index-core==0.10.63->llama-index==0.10.63) (1.4.1)\n",
      "Requirement already satisfied: multidict<7.0,>=4.5 in /usr/local/lib/python3.10/dist-packages (from aiohttp<4.0.0,>=3.8.6->llama-index-core==0.10.63->llama-index==0.10.63) (6.0.5)\n",
      "Requirement already satisfied: yarl<2.0,>=1.0 in /usr/local/lib/python3.10/dist-packages (from aiohttp<4.0.0,>=3.8.6->llama-index-core==0.10.63->llama-index==0.10.63) (1.9.4)\n",
      "Requirement already satisfied: async-timeout<5.0,>=4.0 in /usr/local/lib/python3.10/dist-packages (from aiohttp<4.0.0,>=3.8.6->llama-index-core==0.10.63->llama-index==0.10.63) (4.0.3)\n",
      "Requirement already satisfied: soupsieve>1.2 in /usr/local/lib/python3.10/dist-packages (from beautifulsoup4<5.0.0,>=4.12.3->llama-index-readers-file<0.2.0,>=0.1.4->llama-index==0.10.63) (2.5)\n",
      "Requirement already satisfied: pydantic>=1.10 in /usr/local/lib/python3.10/dist-packages (from llama-cloud>=0.0.11->llama-index-indices-managed-llama-cloud>=0.2.0->llama-index==0.10.63) (2.8.2)\n",
      "Requirement already satisfied: anyio in /usr/local/lib/python3.10/dist-packages (from httpx->llama-index-core==0.10.63->llama-index==0.10.63) (3.7.1)\n",
      "Requirement already satisfied: certifi in /usr/local/lib/python3.10/dist-packages (from httpx->llama-index-core==0.10.63->llama-index==0.10.63) (2024.7.4)\n",
      "Requirement already satisfied: httpcore==1.* in /usr/local/lib/python3.10/dist-packages (from httpx->llama-index-core==0.10.63->llama-index==0.10.63) (1.0.5)\n",
      "Requirement already satisfied: idna in /usr/local/lib/python3.10/dist-packages (from httpx->llama-index-core==0.10.63->llama-index==0.10.63) (3.7)\n",
      "Requirement already satisfied: sniffio in /usr/local/lib/python3.10/dist-packages (from httpx->llama-index-core==0.10.63->llama-index==0.10.63) (1.3.1)\n",
      "Requirement already satisfied: h11<0.15,>=0.13 in /usr/local/lib/python3.10/dist-packages (from httpcore==1.*->httpx->llama-index-core==0.10.63->llama-index==0.10.63) (0.14.0)\n",
      "Requirement already satisfied: click in /usr/local/lib/python3.10/dist-packages (from nltk<4.0.0,>=3.8.1->llama-index-core==0.10.63->llama-index==0.10.63) (8.1.7)\n",
      "Requirement already satisfied: joblib in /usr/local/lib/python3.10/dist-packages (from nltk<4.0.0,>=3.8.1->llama-index-core==0.10.63->llama-index==0.10.63) (1.4.2)\n",
      "Requirement already satisfied: regex>=2021.8.3 in /usr/local/lib/python3.10/dist-packages (from nltk<4.0.0,>=3.8.1->llama-index-core==0.10.63->llama-index==0.10.63) (2024.5.15)\n",
      "Requirement already satisfied: distro<2,>=1.7.0 in /usr/lib/python3/dist-packages (from openai>=1.1.0->llama-index-core==0.10.63->llama-index==0.10.63) (1.7.0)\n",
      "Requirement already satisfied: jiter<1,>=0.4.0 in /usr/local/lib/python3.10/dist-packages (from openai>=1.1.0->llama-index-core==0.10.63->llama-index==0.10.63) (0.5.0)\n",
      "Requirement already satisfied: charset-normalizer<4,>=2 in /usr/local/lib/python3.10/dist-packages (from requests>=2.31.0->llama-index-core==0.10.63->llama-index==0.10.63) (3.3.2)\n",
      "Requirement already satisfied: urllib3<3,>=1.21.1 in /usr/local/lib/python3.10/dist-packages (from requests>=2.31.0->llama-index-core==0.10.63->llama-index==0.10.63) (2.0.7)\n",
      "Requirement already satisfied: greenlet!=0.4.17 in /usr/local/lib/python3.10/dist-packages (from SQLAlchemy>=1.4.49->SQLAlchemy[asyncio]>=1.4.49->llama-index-core==0.10.63->llama-index==0.10.63) (3.0.3)\n",
      "Requirement already satisfied: mypy-extensions>=0.3.0 in /usr/local/lib/python3.10/dist-packages (from typing-inspect>=0.8.0->llama-index-core==0.10.63->llama-index==0.10.63) (1.0.0)\n",
      "Requirement already satisfied: marshmallow<4.0.0,>=3.18.0 in /usr/local/lib/python3.10/dist-packages (from dataclasses-json->llama-index-core==0.10.63->llama-index==0.10.63) (3.21.3)\n",
      "Requirement already satisfied: python-dateutil>=2.8.2 in /usr/local/lib/python3.10/dist-packages (from pandas->llama-index-core==0.10.63->llama-index==0.10.63) (2.8.2)\n",
      "Requirement already satisfied: pytz>=2020.1 in /usr/local/lib/python3.10/dist-packages (from pandas->llama-index-core==0.10.63->llama-index==0.10.63) (2024.1)\n",
      "Requirement already satisfied: tzdata>=2022.1 in /usr/local/lib/python3.10/dist-packages (from pandas->llama-index-core==0.10.63->llama-index==0.10.63) (2024.1)\n",
      "Requirement already satisfied: exceptiongroup in /usr/local/lib/python3.10/dist-packages (from anyio->httpx->llama-index-core==0.10.63->llama-index==0.10.63) (1.2.2)\n",
      "Requirement already satisfied: packaging>=17.0 in /usr/local/lib/python3.10/dist-packages (from marshmallow<4.0.0,>=3.18.0->dataclasses-json->llama-index-core==0.10.63->llama-index==0.10.63) (24.1)\n",
      "Requirement already satisfied: annotated-types>=0.4.0 in /usr/local/lib/python3.10/dist-packages (from pydantic>=1.10->llama-cloud>=0.0.11->llama-index-indices-managed-llama-cloud>=0.2.0->llama-index==0.10.63) (0.7.0)\n",
      "Requirement already satisfied: pydantic-core==2.20.1 in /usr/local/lib/python3.10/dist-packages (from pydantic>=1.10->llama-cloud>=0.0.11->llama-index-indices-managed-llama-cloud>=0.2.0->llama-index==0.10.63) (2.20.1)\n",
      "Requirement already satisfied: six>=1.5 in /usr/local/lib/python3.10/dist-packages (from python-dateutil>=2.8.2->pandas->llama-index-core==0.10.63->llama-index==0.10.63) (1.16.0)\n",
      "Downloading llama_index-0.10.63-py3-none-any.whl (6.8 kB)\n",
      "Downloading llama_index_agent_openai-0.2.9-py3-none-any.whl (13 kB)\n",
      "Downloading llama_index_cli-0.1.13-py3-none-any.whl (27 kB)\n",
      "Downloading llama_index_embeddings_openai-0.1.11-py3-none-any.whl (6.3 kB)\n",
      "Downloading llama_index_indices_managed_llama_cloud-0.2.7-py3-none-any.whl (9.5 kB)\n",
      "Downloading llama_index_legacy-0.9.48-py3-none-any.whl (2.0 MB)\n",
      "\u001b[2K   \u001b[90m━━━━━━━━━━━━━━━━━━━━━━━━━━━━━━━━━━━━━━━━\u001b[0m \u001b[32m2.0/2.0 MB\u001b[0m \u001b[31m20.9 MB/s\u001b[0m eta \u001b[36m0:00:00\u001b[0m\n",
      "\u001b[?25hDownloading llama_index_llms_openai-0.1.29-py3-none-any.whl (11 kB)\n",
      "Downloading llama_index_multi_modal_llms_openai-0.1.9-py3-none-any.whl (5.9 kB)\n",
      "Downloading llama_index_program_openai-0.1.7-py3-none-any.whl (5.3 kB)\n",
      "Downloading llama_index_question_gen_openai-0.1.3-py3-none-any.whl (2.9 kB)\n",
      "Downloading llama_index_readers_file-0.1.32-py3-none-any.whl (38 kB)\n",
      "Downloading llama_index_readers_llama_parse-0.1.6-py3-none-any.whl (2.5 kB)\n",
      "Downloading llama_cloud-0.0.13-py3-none-any.whl (169 kB)\n",
      "\u001b[2K   \u001b[90m━━━━━━━━━━━━━━━━━━━━━━━━━━━━━━━━━━━━━━━━\u001b[0m \u001b[32m169.4/169.4 kB\u001b[0m \u001b[31m10.3 MB/s\u001b[0m eta \u001b[36m0:00:00\u001b[0m\n",
      "\u001b[?25hDownloading llama_parse-0.4.9-py3-none-any.whl (9.4 kB)\n",
      "Downloading pypdf-4.3.1-py3-none-any.whl (295 kB)\n",
      "\u001b[2K   \u001b[90m━━━━━━━━━━━━━━━━━━━━━━━━━━━━━━━━━━━━━━━━\u001b[0m \u001b[32m295.8/295.8 kB\u001b[0m \u001b[31m8.0 MB/s\u001b[0m eta \u001b[36m0:00:00\u001b[0m\n",
      "\u001b[?25hDownloading striprtf-0.0.26-py3-none-any.whl (6.9 kB)\n",
      "Installing collected packages: striprtf, pypdf, llama-cloud, llama-index-legacy, llama-parse, llama-index-readers-file, llama-index-llms-openai, llama-index-indices-managed-llama-cloud, llama-index-embeddings-openai, llama-index-readers-llama-parse, llama-index-multi-modal-llms-openai, llama-index-cli, llama-index-agent-openai, llama-index-program-openai, llama-index-question-gen-openai, llama-index\n",
      "Successfully installed llama-cloud-0.0.13 llama-index-0.10.63 llama-index-agent-openai-0.2.9 llama-index-cli-0.1.13 llama-index-embeddings-openai-0.1.11 llama-index-indices-managed-llama-cloud-0.2.7 llama-index-legacy-0.9.48 llama-index-llms-openai-0.1.29 llama-index-multi-modal-llms-openai-0.1.9 llama-index-program-openai-0.1.7 llama-index-question-gen-openai-0.1.3 llama-index-readers-file-0.1.32 llama-index-readers-llama-parse-0.1.6 llama-parse-0.4.9 pypdf-4.3.1 striprtf-0.0.26\n"
     ]
    }
   ],
   "source": [
    "# !pip install llama-index==0.10.64"
   ]
  },
  {
   "cell_type": "markdown",
   "metadata": {
    "id": "v5FzFmqlwDPc"
   },
   "source": [
    "Next, let's import the required modules and set the needed environmental variables:"
   ]
  },
  {
   "cell_type": "code",
   "execution_count": 1,
   "metadata": {
    "id": "hhrXavfywDPc"
   },
   "outputs": [
    {
     "name": "stderr",
     "output_type": "stream",
     "text": [
      "/home/rob/miniforge3/envs/rag_genai/lib/python3.11/site-packages/deeplake/util/check_latest_version.py:32: UserWarning: A newer version of deeplake (4.0.2) is available. It's recommended that you update to the latest version using `pip install -U deeplake`.\n",
      "  warnings.warn(\n"
     ]
    }
   ],
   "source": [
    "from llama_index.core import VectorStoreIndex, SimpleDirectoryReader, Document\n",
    "from llama_index.vector_stores.deeplake import DeepLakeVectorStore"
   ]
  },
  {
   "cell_type": "code",
   "execution_count": null,
   "metadata": {
    "colab": {
     "base_uri": "https://localhost:8080/"
    },
    "id": "MVEkwfwKQd31",
    "outputId": "cbbc3e6e-cceb-4551-cb45-491f3304b2eb"
   },
   "outputs": [
    {
     "name": "stdout",
     "output_type": "stream",
     "text": [
      "Collecting sentence-transformers==3.0.1\n",
      "  Downloading sentence_transformers-3.0.1-py3-none-any.whl.metadata (10 kB)\n",
      "Requirement already satisfied: transformers<5.0.0,>=4.34.0 in /usr/local/lib/python3.10/dist-packages (from sentence-transformers==3.0.1) (4.42.4)\n",
      "Requirement already satisfied: tqdm in /usr/local/lib/python3.10/dist-packages (from sentence-transformers==3.0.1) (4.66.5)\n",
      "Requirement already satisfied: torch>=1.11.0 in /usr/local/lib/python3.10/dist-packages (from sentence-transformers==3.0.1) (2.3.1+cu121)\n",
      "Requirement already satisfied: numpy in /usr/local/lib/python3.10/dist-packages (from sentence-transformers==3.0.1) (1.26.4)\n",
      "Requirement already satisfied: scikit-learn in /usr/local/lib/python3.10/dist-packages (from sentence-transformers==3.0.1) (1.3.2)\n",
      "Requirement already satisfied: scipy in /usr/local/lib/python3.10/dist-packages (from sentence-transformers==3.0.1) (1.13.1)\n",
      "Requirement already satisfied: huggingface-hub>=0.15.1 in /usr/local/lib/python3.10/dist-packages (from sentence-transformers==3.0.1) (0.23.5)\n",
      "Requirement already satisfied: Pillow in /usr/local/lib/python3.10/dist-packages (from sentence-transformers==3.0.1) (10.2.0)\n",
      "Requirement already satisfied: filelock in /usr/local/lib/python3.10/dist-packages (from huggingface-hub>=0.15.1->sentence-transformers==3.0.1) (3.15.4)\n",
      "Requirement already satisfied: fsspec>=2023.5.0 in /usr/local/lib/python3.10/dist-packages (from huggingface-hub>=0.15.1->sentence-transformers==3.0.1) (2024.6.1)\n",
      "Requirement already satisfied: packaging>=20.9 in /usr/local/lib/python3.10/dist-packages (from huggingface-hub>=0.15.1->sentence-transformers==3.0.1) (24.1)\n",
      "Requirement already satisfied: pyyaml>=5.1 in /usr/local/lib/python3.10/dist-packages (from huggingface-hub>=0.15.1->sentence-transformers==3.0.1) (6.0.2)\n",
      "Requirement already satisfied: requests in /usr/local/lib/python3.10/dist-packages (from huggingface-hub>=0.15.1->sentence-transformers==3.0.1) (2.32.3)\n",
      "Requirement already satisfied: typing-extensions>=3.7.4.3 in /usr/local/lib/python3.10/dist-packages (from huggingface-hub>=0.15.1->sentence-transformers==3.0.1) (4.12.2)\n",
      "Requirement already satisfied: sympy in /usr/local/lib/python3.10/dist-packages (from torch>=1.11.0->sentence-transformers==3.0.1) (1.13.1)\n",
      "Requirement already satisfied: networkx in /usr/local/lib/python3.10/dist-packages (from torch>=1.11.0->sentence-transformers==3.0.1) (3.3)\n",
      "Requirement already satisfied: jinja2 in /usr/local/lib/python3.10/dist-packages (from torch>=1.11.0->sentence-transformers==3.0.1) (3.1.4)\n",
      "Collecting nvidia-cuda-nvrtc-cu12==12.1.105 (from torch>=1.11.0->sentence-transformers==3.0.1)\n",
      "  Using cached nvidia_cuda_nvrtc_cu12-12.1.105-py3-none-manylinux1_x86_64.whl.metadata (1.5 kB)\n",
      "Collecting nvidia-cuda-runtime-cu12==12.1.105 (from torch>=1.11.0->sentence-transformers==3.0.1)\n",
      "  Using cached nvidia_cuda_runtime_cu12-12.1.105-py3-none-manylinux1_x86_64.whl.metadata (1.5 kB)\n",
      "Collecting nvidia-cuda-cupti-cu12==12.1.105 (from torch>=1.11.0->sentence-transformers==3.0.1)\n",
      "  Using cached nvidia_cuda_cupti_cu12-12.1.105-py3-none-manylinux1_x86_64.whl.metadata (1.6 kB)\n",
      "Collecting nvidia-cudnn-cu12==8.9.2.26 (from torch>=1.11.0->sentence-transformers==3.0.1)\n",
      "  Using cached nvidia_cudnn_cu12-8.9.2.26-py3-none-manylinux1_x86_64.whl.metadata (1.6 kB)\n",
      "Collecting nvidia-cublas-cu12==12.1.3.1 (from torch>=1.11.0->sentence-transformers==3.0.1)\n",
      "  Using cached nvidia_cublas_cu12-12.1.3.1-py3-none-manylinux1_x86_64.whl.metadata (1.5 kB)\n",
      "Collecting nvidia-cufft-cu12==11.0.2.54 (from torch>=1.11.0->sentence-transformers==3.0.1)\n",
      "  Using cached nvidia_cufft_cu12-11.0.2.54-py3-none-manylinux1_x86_64.whl.metadata (1.5 kB)\n",
      "Collecting nvidia-curand-cu12==10.3.2.106 (from torch>=1.11.0->sentence-transformers==3.0.1)\n",
      "  Using cached nvidia_curand_cu12-10.3.2.106-py3-none-manylinux1_x86_64.whl.metadata (1.5 kB)\n",
      "Collecting nvidia-cusolver-cu12==11.4.5.107 (from torch>=1.11.0->sentence-transformers==3.0.1)\n",
      "  Using cached nvidia_cusolver_cu12-11.4.5.107-py3-none-manylinux1_x86_64.whl.metadata (1.6 kB)\n",
      "Collecting nvidia-cusparse-cu12==12.1.0.106 (from torch>=1.11.0->sentence-transformers==3.0.1)\n",
      "  Using cached nvidia_cusparse_cu12-12.1.0.106-py3-none-manylinux1_x86_64.whl.metadata (1.6 kB)\n",
      "Collecting nvidia-nccl-cu12==2.20.5 (from torch>=1.11.0->sentence-transformers==3.0.1)\n",
      "  Using cached nvidia_nccl_cu12-2.20.5-py3-none-manylinux2014_x86_64.whl.metadata (1.8 kB)\n",
      "Collecting nvidia-nvtx-cu12==12.1.105 (from torch>=1.11.0->sentence-transformers==3.0.1)\n",
      "  Using cached nvidia_nvtx_cu12-12.1.105-py3-none-manylinux1_x86_64.whl.metadata (1.7 kB)\n",
      "Requirement already satisfied: triton==2.3.1 in /usr/local/lib/python3.10/dist-packages (from torch>=1.11.0->sentence-transformers==3.0.1) (2.3.1)\n",
      "Collecting nvidia-nvjitlink-cu12 (from nvidia-cusolver-cu12==11.4.5.107->torch>=1.11.0->sentence-transformers==3.0.1)\n",
      "  Using cached nvidia_nvjitlink_cu12-12.6.20-py3-none-manylinux2014_x86_64.whl.metadata (1.5 kB)\n",
      "Requirement already satisfied: regex!=2019.12.17 in /usr/local/lib/python3.10/dist-packages (from transformers<5.0.0,>=4.34.0->sentence-transformers==3.0.1) (2024.5.15)\n",
      "Requirement already satisfied: safetensors>=0.4.1 in /usr/local/lib/python3.10/dist-packages (from transformers<5.0.0,>=4.34.0->sentence-transformers==3.0.1) (0.4.4)\n",
      "Requirement already satisfied: tokenizers<0.20,>=0.19 in /usr/local/lib/python3.10/dist-packages (from transformers<5.0.0,>=4.34.0->sentence-transformers==3.0.1) (0.19.1)\n",
      "Requirement already satisfied: joblib>=1.1.1 in /usr/local/lib/python3.10/dist-packages (from scikit-learn->sentence-transformers==3.0.1) (1.4.2)\n",
      "Requirement already satisfied: threadpoolctl>=2.0.0 in /usr/local/lib/python3.10/dist-packages (from scikit-learn->sentence-transformers==3.0.1) (3.5.0)\n",
      "Requirement already satisfied: MarkupSafe>=2.0 in /usr/local/lib/python3.10/dist-packages (from jinja2->torch>=1.11.0->sentence-transformers==3.0.1) (2.1.5)\n",
      "Requirement already satisfied: charset-normalizer<4,>=2 in /usr/local/lib/python3.10/dist-packages (from requests->huggingface-hub>=0.15.1->sentence-transformers==3.0.1) (3.3.2)\n",
      "Requirement already satisfied: idna<4,>=2.5 in /usr/local/lib/python3.10/dist-packages (from requests->huggingface-hub>=0.15.1->sentence-transformers==3.0.1) (3.7)\n",
      "Requirement already satisfied: urllib3<3,>=1.21.1 in /usr/local/lib/python3.10/dist-packages (from requests->huggingface-hub>=0.15.1->sentence-transformers==3.0.1) (2.0.7)\n",
      "Requirement already satisfied: certifi>=2017.4.17 in /usr/local/lib/python3.10/dist-packages (from requests->huggingface-hub>=0.15.1->sentence-transformers==3.0.1) (2024.7.4)\n",
      "Requirement already satisfied: mpmath<1.4,>=1.1.0 in /usr/local/lib/python3.10/dist-packages (from sympy->torch>=1.11.0->sentence-transformers==3.0.1) (1.3.0)\n",
      "Downloading sentence_transformers-3.0.1-py3-none-any.whl (227 kB)\n",
      "\u001b[2K   \u001b[90m━━━━━━━━━━━━━━━━━━━━━━━━━━━━━━━━━━━━━━━━\u001b[0m \u001b[32m227.1/227.1 kB\u001b[0m \u001b[31m4.0 MB/s\u001b[0m eta \u001b[36m0:00:00\u001b[0m\n",
      "\u001b[?25hUsing cached nvidia_cublas_cu12-12.1.3.1-py3-none-manylinux1_x86_64.whl (410.6 MB)\n",
      "Using cached nvidia_cuda_cupti_cu12-12.1.105-py3-none-manylinux1_x86_64.whl (14.1 MB)\n",
      "Using cached nvidia_cuda_nvrtc_cu12-12.1.105-py3-none-manylinux1_x86_64.whl (23.7 MB)\n",
      "Using cached nvidia_cuda_runtime_cu12-12.1.105-py3-none-manylinux1_x86_64.whl (823 kB)\n",
      "Using cached nvidia_cudnn_cu12-8.9.2.26-py3-none-manylinux1_x86_64.whl (731.7 MB)\n",
      "Using cached nvidia_cufft_cu12-11.0.2.54-py3-none-manylinux1_x86_64.whl (121.6 MB)\n",
      "Using cached nvidia_curand_cu12-10.3.2.106-py3-none-manylinux1_x86_64.whl (56.5 MB)\n",
      "Using cached nvidia_cusolver_cu12-11.4.5.107-py3-none-manylinux1_x86_64.whl (124.2 MB)\n",
      "Using cached nvidia_cusparse_cu12-12.1.0.106-py3-none-manylinux1_x86_64.whl (196.0 MB)\n",
      "Using cached nvidia_nccl_cu12-2.20.5-py3-none-manylinux2014_x86_64.whl (176.2 MB)\n",
      "Using cached nvidia_nvtx_cu12-12.1.105-py3-none-manylinux1_x86_64.whl (99 kB)\n",
      "Using cached nvidia_nvjitlink_cu12-12.6.20-py3-none-manylinux2014_x86_64.whl (19.7 MB)\n",
      "Installing collected packages: nvidia-nvtx-cu12, nvidia-nvjitlink-cu12, nvidia-nccl-cu12, nvidia-curand-cu12, nvidia-cufft-cu12, nvidia-cuda-runtime-cu12, nvidia-cuda-nvrtc-cu12, nvidia-cuda-cupti-cu12, nvidia-cublas-cu12, nvidia-cusparse-cu12, nvidia-cudnn-cu12, nvidia-cusolver-cu12, sentence-transformers\n",
      "Successfully installed nvidia-cublas-cu12-12.1.3.1 nvidia-cuda-cupti-cu12-12.1.105 nvidia-cuda-nvrtc-cu12-12.1.105 nvidia-cuda-runtime-cu12-12.1.105 nvidia-cudnn-cu12-8.9.2.26 nvidia-cufft-cu12-11.0.2.54 nvidia-curand-cu12-10.3.2.106 nvidia-cusolver-cu12-11.4.5.107 nvidia-cusparse-cu12-12.1.0.106 nvidia-nccl-cu12-2.20.5 nvidia-nvjitlink-cu12-12.6.20 nvidia-nvtx-cu12-12.1.105 sentence-transformers-3.0.1\n"
     ]
    }
   ],
   "source": [
    "# !pip install sentence-transformers==3.0.1"
   ]
  },
  {
   "cell_type": "code",
   "execution_count": null,
   "metadata": {
    "id": "Oefvqp21Ba07"
   },
   "outputs": [],
   "source": [
    "#Retrieving and setting the OpenAI API key\n",
    "# f = open(\"drive/MyDrive/files/api_key.txt\", \"r\")\n",
    "# API_KEY=f.readline().strip()\n",
    "# f.close()\n",
    "\n",
    "# #The OpenAI KeyActiveloop and OpenAI API keys\n",
    "# import os\n",
    "# import openai\n",
    "# os.environ['OPENAI_API_KEY'] =API_KEY\n",
    "# openai.api_key = os.getenv(\"OPENAI_API_KEY\")"
   ]
  },
  {
   "cell_type": "code",
   "execution_count": null,
   "metadata": {
    "id": "Iba6wGaaBgPQ"
   },
   "outputs": [],
   "source": [
    "#Retrieving and setting the Activeloop API token\n",
    "# f = open(\"drive/MyDrive/files/activeloop.txt\", \"r\")\n",
    "# API_token=f.readline().strip()\n",
    "# f.close()\n",
    "# ACTIVELOOP_TOKEN=API_token\n",
    "# os.environ['ACTIVELOOP_TOKEN'] =ACTIVELOOP_TOKEN"
   ]
  },
  {
   "cell_type": "code",
   "execution_count": null,
   "metadata": {
    "id": "vv0TB4Q8fCfT"
   },
   "outputs": [],
   "source": [
    "# For Google Colab and Activeloop while waiting for Activeloop (April 2024) pending new version\n",
    "#This line writes the string \"nameserver 8.8.8.8\" to the file. This is specifying that the DNS server the system\n",
    "#should use is at the IP address 8.8.8.8, which is one of Google's Public DNS servers.\n",
    "# with open('/etc/resolv.conf', 'w') as file:\n",
    "#    file.write(\"nameserver 8.8.8.8\")"
   ]
  },
  {
   "cell_type": "markdown",
   "metadata": {
    "id": "KttJwsU-wDPd"
   },
   "source": [
    "# Pipeline 1 : Collecting and preparing the documents"
   ]
  },
  {
   "cell_type": "code",
   "execution_count": null,
   "metadata": {
    "id": "TW5upfyvxelp"
   },
   "outputs": [],
   "source": [
    "# !mkdir data"
   ]
  },
  {
   "cell_type": "code",
   "execution_count": 2,
   "metadata": {
    "id": "ES8Q6jvjEmW6"
   },
   "outputs": [],
   "source": [
    "import requests\n",
    "from bs4 import BeautifulSoup\n",
    "import re\n",
    "import os\n",
    "\n",
    "urls = [\n",
    "    \"https://github.com/VisDrone/VisDrone-Dataset\",\n",
    "    \"https://paperswithcode.com/dataset/visdrone\",\n",
    "    \"https://openaccess.thecvf.com/content_ECCVW_2018/papers/11133/Zhu_VisDrone-DET2018_The_Vision_Meets_Drone_Object_Detection_in_Image_Challenge_ECCVW_2018_paper.pdf\",\n",
    "    \"https://github.com/VisDrone/VisDrone2018-MOT-toolkit\",\n",
    "    \"https://en.wikipedia.org/wiki/Object_detection\",\n",
    "    \"https://en.wikipedia.org/wiki/Computer_vision\",\n",
    "    \"https://en.wikipedia.org/wiki/Convolutional_neural_network\",\n",
    "    \"https://en.wikipedia.org/wiki/Unmanned_aerial_vehicle\",\n",
    "    \"https://www.faa.gov/uas/\",\n",
    "    \"https://www.tensorflow.org/\",\n",
    "    \"https://pytorch.org/\",\n",
    "    \"https://keras.io/\",\n",
    "    \"https://arxiv.org/abs/1804.06985\",\n",
    "    \"https://arxiv.org/abs/2202.11983\",\n",
    "    \"https://motchallenge.net/\",\n",
    "    \"http://www.cvlibs.net/datasets/kitti/\",\n",
    "    \"https://www.dronedeploy.com/\",\n",
    "    \"https://www.dji.com/\",\n",
    "    \"https://arxiv.org/\",\n",
    "    \"https://openaccess.thecvf.com/\",\n",
    "    \"https://roboflow.com/\",\n",
    "    \"https://www.kaggle.com/\",\n",
    "    \"https://paperswithcode.com/\",\n",
    "    \"https://github.com/\"\n",
    "]"
   ]
  },
  {
   "cell_type": "code",
   "execution_count": 3,
   "metadata": {},
   "outputs": [],
   "source": [
    "import requests\n",
    "import re\n",
    "import os\n",
    "from bs4 import BeautifulSoup\n",
    "\n",
    "def clean_text(content):\n",
    "    # Remove references and unwanted characters\n",
    "    content = re.sub(r'\\[\\d+\\]', '', content)   # Remove references\n",
    "    content = re.sub(r'[^\\w\\s\\.]', '', content)  # Remove punctuation (except periods)\n",
    "    return content\n",
    "\n",
    "def fetch_and_clean(url):\n",
    "    try:\n",
    "        response = requests.get(url)\n",
    "        response.raise_for_status()  # Raise exception for bad responses (e.g., 404)\n",
    "        soup = BeautifulSoup(response.content, 'html.parser')\n",
    "\n",
    "        # Prioritize \"mw-parser-output\" but fall back to \"content\" class if not found\n",
    "        content = soup.find('div', {'class': 'mw-parser-output'}) or soup.find('div', {'id': 'content'})\n",
    "        if content is None:\n",
    "            return None\n",
    "\n",
    "        # Remove specific sections, including nested ones\n",
    "        for section_title in ['References', 'Bibliography', 'External links', 'See also', 'Notes']:\n",
    "            section = content.find('span', id=section_title)\n",
    "            while section:\n",
    "                for sib in section.parent.find_next_siblings():\n",
    "                    sib.decompose()\n",
    "                section.parent.decompose()\n",
    "                section = content.find('span', id=section_title)\n",
    "\n",
    "        # Extract and clean text\n",
    "        text = content.get_text(separator=' ', strip=True)\n",
    "        text = clean_text(text)\n",
    "        return text\n",
    "    except requests.exceptions.RequestException as e:\n",
    "        print(f\"Error fetching content from {url}: {e}\")\n",
    "        return None  # Return None on error"
   ]
  },
  {
   "cell_type": "code",
   "execution_count": 4,
   "metadata": {},
   "outputs": [],
   "source": [
    "# Directory to store the output files\n",
    "output_dir = './data/'  # More descriptive name\n",
    "os.makedirs(output_dir, exist_ok=True)\n"
   ]
  },
  {
   "cell_type": "code",
   "execution_count": null,
   "metadata": {
    "colab": {
     "base_uri": "https://localhost:8080/"
    },
    "id": "bfIuA3FAD7Tv",
    "outputId": "879fe057-e7cd-4346-aaae-94f809c429c8"
   },
   "outputs": [
    {
     "name": "stderr",
     "output_type": "stream",
     "text": [
      "Some characters could not be decoded, and were replaced with REPLACEMENT CHARACTER.\n"
     ]
    }
   ],
   "source": [
    "# Processing each URL (and skipping invalid ones)\n",
    "for url in urls:\n",
    "    article_name = url.split('/')[-1].replace('.html', '')  # Handle .html extension\n",
    "    filename = os.path.join(output_dir, f\"{article_name}.txt\")\n",
    "\n",
    "    clean_article_text = fetch_and_clean(url)\n",
    "    if clean_article_text:  # Only write to file if content exists\n",
    "        with open(filename, 'w', encoding='utf-8') as file:\n",
    "            file.write(clean_article_text)\n",
    "\n",
    "# 14.3 s\n"
   ]
  },
  {
   "cell_type": "code",
   "execution_count": 6,
   "metadata": {},
   "outputs": [
    {
     "name": "stdout",
     "output_type": "stream",
     "text": [
      "Content(ones that were possible) written to files in the './data/' directory.\n"
     ]
    }
   ],
   "source": [
    "print(f\"Content(ones that were possible) written to files in the '{output_dir}' directory.\")"
   ]
  },
  {
   "cell_type": "code",
   "execution_count": 7,
   "metadata": {
    "id": "dRNMEPiAwDPd"
   },
   "outputs": [],
   "source": [
    "# load documents\n",
    "documents = SimpleDirectoryReader(\"./data/\").load_data()"
   ]
  },
  {
   "cell_type": "code",
   "execution_count": 8,
   "metadata": {
    "colab": {
     "base_uri": "https://localhost:8080/"
    },
    "collapsed": true,
    "id": "SXntxjTMMt3L",
    "outputId": "10b1a41d-d91b-4531-f9ea-6adb1e03a6d3"
   },
   "outputs": [
    {
     "data": {
      "text/plain": [
       "Document(id_='795f7ec7-51ef-405d-8c05-f7a002b689ba', embedding=None, metadata={'file_path': '/home/rob/Data/Documents/Github/rkaunismaa/RAG-Driven-Generative-AI/Chapter03/data/1804.06985.txt', 'file_name': '1804.06985.txt', 'file_type': 'text/plain', 'file_size': 3798, 'creation_date': '2024-11-13', 'last_modified_date': '2024-11-13'}, excluded_embed_metadata_keys=['file_name', 'file_type', 'file_size', 'creation_date', 'last_modified_date', 'last_accessed_date'], excluded_llm_metadata_keys=['file_name', 'file_type', 'file_size', 'creation_date', 'last_modified_date', 'last_accessed_date'], relationships={}, text='High Energy Physics  Theory arXiv1804.06985 hepth Submitted on 19 Apr 2018 Title A Near Horizon Extreme Binary Black Hole Geometry Authors Jacob Ciafre  Maria J. Rodriguez View a PDF of the paper titled A Near Horizon Extreme Binary Black Hole Geometry by Jacob Ciafre and Maria J. Rodriguez View PDF Abstract A new solution of fourdimensional vacuum General Relativity is presented. It describes the near horizon region of the extreme maximally spinning binary black hole system with two identical extreme Kerr black holes held in equilibrium by a massless strut. This is the first example of a nonsupersymmetric asymptotically flat near horizon extreme binary black hole geometry of two uncharged black holes. The black holes are corotating and the solution is uniquely specified by the mass. The binary extreme system has finite entropy. The distance between the black holes is fixed but there is a zerodistance limit where the objects collapse into one. This limiting geometry corresponds to the near horizon extreme Kerr NHEK black hole. Comments 1 figure Subjects High Energy Physics  Theory hepth  High Energy Astrophysical Phenomena astroph.HE General Relativity and Quantum Cosmology grqc Cite as arXiv1804.06985 hepth or arXiv1804.06985v1 hepth for this version httpsdoi.org10.48550arXiv.1804.06985 Focus to learn more arXivissued DOI via DataCite Related DOI  httpsdoi.org10.1140epjcs1005201971883 Focus to learn more DOIs linking to related resources Submission history From Maria J. Rodriguez  view email  v1 Thu 19 Apr 2018 031545 UTC 173 KB Fulltext links Access Paper View a PDF of the paper titled A Near Horizon Extreme Binary Black Hole Geometry by Jacob Ciafre and Maria J. Rodriguez View PDF TeX Source Other Formats view license Current browse context hepth \\xa0prev  next\\xa0 new  recent  201804 Change to browse by astroph astroph.HE grqc References  Citations INSPIRE HEP NASA ADS Google Scholar Semantic Scholar a export BibTeX citation Loading... BibTeX formatted citation  loading... Data provided by Bookmark Bibliographic Tools Bibliographic and Citation Tools Bibliographic Explorer Toggle Bibliographic Explorer  What is the Explorer  Connected Papers Toggle Connected Papers  What is Connected Papers  Litmaps Toggle Litmaps  What is Litmaps  scite.ai Toggle scite Smart Citations  What are Smart Citations  Code Data Media Code Data and Media Associated with this Article alphaXiv Toggle alphaXiv  What is alphaXiv  Links to Code Toggle CatalyzeX Code Finder for Papers  What is CatalyzeX  DagsHub Toggle DagsHub  What is DagsHub  GotitPub Toggle Gotit.pub  What is GotitPub  Huggingface Toggle Hugging Face  What is Huggingface  Links to Code Toggle Papers with Code  What is Papers with Code  ScienceCast Toggle ScienceCast  What is ScienceCast  Demos Demos Replicate Toggle Replicate  What is Replicate  Spaces Toggle Hugging Face Spaces  What is Spaces  Spaces Toggle TXYZ.AI  What is TXYZ.AI  Related Papers Recommenders and Search Tools Link to Influence Flower Influence Flower  What are Influence Flowers  Core recommender toggle CORE Recommender  What is CORE  IArxiv recommender toggle IArxiv Recommender  What is IArxiv  Author Venue Institution Topic About arXivLabs arXivLabs experimental projects with community collaborators arXivLabs is a framework that allows collaborators to develop and share new arXiv features directly on our website. Both individuals and organizations that work with arXivLabs have embraced and accepted our values of openness community excellence and user data privacy. arXiv is committed to these values and only works with partners that adhere to them. Have an idea for a project that will add value for arXivs community Learn more about arXivLabs . Which authors of this paper are endorsers  Disable MathJax  What is MathJax ', mimetype='text/plain', start_char_idx=None, end_char_idx=None, text_template='{metadata_str}\\n\\n{content}', metadata_template='{key}: {value}', metadata_seperator='\\n')"
      ]
     },
     "execution_count": 8,
     "metadata": {},
     "output_type": "execute_result"
    }
   ],
   "source": [
    "documents[0]"
   ]
  },
  {
   "cell_type": "markdown",
   "metadata": {
    "id": "rvtrIvyygGte"
   },
   "source": [
    "# Pipeline 2 : Creating and populating a Deep Lake Vector Store\n",
    "\n",
    "**Replace `hub://denis76/drone_v2` by your organization and dataset name**"
   ]
  },
  {
   "cell_type": "code",
   "execution_count": 9,
   "metadata": {},
   "outputs": [],
   "source": [
    "from llama_index.core import StorageContext"
   ]
  },
  {
   "cell_type": "code",
   "execution_count": 10,
   "metadata": {},
   "outputs": [],
   "source": [
    "# vector_store_path = \"hub://denis76/drone_v2\"\n",
    "# dataset_path = \"hub://denis76/drone_v2\"\n",
    "\n",
    "vector_store_path = \"VectorStore\"\n",
    "dataset_path = vector_store_path"
   ]
  },
  {
   "cell_type": "code",
   "execution_count": 11,
   "metadata": {},
   "outputs": [
    {
     "name": "stderr",
     "output_type": "stream",
     "text": []
    }
   ],
   "source": [
    "# overwrite=True will overwrite dataset, False will append it\n",
    "vector_store = DeepLakeVectorStore(dataset_path=dataset_path, overwrite=True)"
   ]
  },
  {
   "cell_type": "code",
   "execution_count": 12,
   "metadata": {},
   "outputs": [],
   "source": [
    "storage_context = StorageContext.from_defaults(vector_store=vector_store)"
   ]
  },
  {
   "cell_type": "code",
   "execution_count": 13,
   "metadata": {
    "colab": {
     "base_uri": "https://localhost:8080/"
    },
    "id": "6hoayqOE1kvj",
    "outputId": "acb810ae-99e6-4091-9f1c-98115dcd9a99"
   },
   "outputs": [
    {
     "name": "stdout",
     "output_type": "stream",
     "text": [
      "Uploading data to deeplake dataset.\n"
     ]
    },
    {
     "name": "stderr",
     "output_type": "stream",
     "text": [
      "100%|██████████| 87/87 [00:00<00:00, 708.23it/s]"
     ]
    },
    {
     "name": "stdout",
     "output_type": "stream",
     "text": [
      "Dataset(path='VectorStore', tensors=['text', 'metadata', 'embedding', 'id'])\n",
      "\n",
      "  tensor      htype      shape      dtype  compression\n",
      "  -------    -------    -------    -------  ------- \n",
      "   text       text      (87, 1)      str     None   \n",
      " metadata     json      (87, 1)      str     None   \n",
      " embedding  embedding  (87, 1536)  float32   None   \n",
      "    id        text      (87, 1)      str     None   \n"
     ]
    },
    {
     "name": "stderr",
     "output_type": "stream",
     "text": [
      "\n"
     ]
    }
   ],
   "source": [
    "# Create an index over the documents\n",
    "index = VectorStoreIndex.from_documents(documents, storage_context=storage_context)"
   ]
  },
  {
   "cell_type": "code",
   "execution_count": 14,
   "metadata": {
    "colab": {
     "base_uri": "https://localhost:8080/"
    },
    "id": "BLOzm5hfQfq3",
    "outputId": "e2e40e11-9d06-4caf-f0fc-a85c76f142a2"
   },
   "outputs": [
    {
     "name": "stdout",
     "output_type": "stream",
     "text": [
      "VectorStore loaded successfully.\n",
      "\n"
     ]
    },
    {
     "name": "stderr",
     "output_type": "stream",
     "text": []
    }
   ],
   "source": [
    "import deeplake\n",
    "ds = deeplake.load(dataset_path)  # Load the dataset"
   ]
  },
  {
   "cell_type": "code",
   "execution_count": 15,
   "metadata": {
    "id": "LfBNR2xUP8EO"
   },
   "outputs": [],
   "source": [
    "import json\n",
    "import pandas as pd\n",
    "import numpy as np\n",
    "\n",
    "# Assuming 'ds' is your loaded Deep Lake dataset\n",
    "\n",
    "# Create a dictionary to hold the data\n",
    "data = {}\n",
    "\n",
    "# Iterate through the tensors in the dataset\n",
    "for tensor_name in ds.tensors:\n",
    "    tensor_data = ds[tensor_name].numpy()\n",
    "\n",
    "    # Check if the tensor is multi-dimensional\n",
    "    if tensor_data.ndim > 1:\n",
    "        # Flatten multi-dimensional tensors\n",
    "        data[tensor_name] = [np.array(e).flatten().tolist() for e in tensor_data]\n",
    "    else:\n",
    "        # Convert 1D tensors directly to lists and decode text\n",
    "        if tensor_name == \"text\":\n",
    "            data[tensor_name] = [t.tobytes().decode('utf-8') if t else \"\" for t in tensor_data]\n",
    "        else:\n",
    "            data[tensor_name] = tensor_data.tolist()\n",
    "\n",
    "# Create a Pandas DataFrame from the dictionary\n",
    "df = pd.DataFrame(data)"
   ]
  },
  {
   "cell_type": "code",
   "execution_count": 18,
   "metadata": {
    "colab": {
     "base_uri": "https://localhost:8080/"
    },
    "id": "irBoyv_tfXjN",
    "outputId": "59f28b32-16ff-407b-a187-36626021cec9"
   },
   "outputs": [],
   "source": [
    "# Function to display a selected record\n",
    "def display_record(record_number):\n",
    "    record = df.iloc[record_number]\n",
    "    display_data = {\n",
    "        \"ID\": record.get(\"id\", \"N/A\"),\n",
    "        \"Metadata\": record.get(\"metadata\", \"N/A\"),\n",
    "        \"Text\": record.get(\"text\", \"N/A\"),\n",
    "        \"Embedding\": record.get(\"embedding\", \"N/A\")\n",
    "    }\n",
    "\n",
    "    # Print the ID\n",
    "    print(\"ID:\")\n",
    "    print(display_data[\"ID\"])\n",
    "    print()\n",
    "\n",
    "    # Print the metadata in a structured format\n",
    "    print(\"Metadata:\")\n",
    "    metadata = display_data[\"Metadata\"]\n",
    "    if isinstance(metadata, list):\n",
    "        for item in metadata:\n",
    "            for key, value in item.items():\n",
    "                print(f\"{key}: {value}\")\n",
    "            print()\n",
    "    else:\n",
    "        print(metadata)\n",
    "    print()\n",
    "\n",
    "    # Print the text\n",
    "    print(\"Text:\")\n",
    "    print(display_data[\"Text\"])\n",
    "    print()\n",
    "\n",
    "    # Print the embedding\n",
    "    print(\"Embedding:\")\n",
    "    print(display_data[\"Embedding\"])\n",
    "    print()\n",
    "\n"
   ]
  },
  {
   "cell_type": "code",
   "execution_count": 17,
   "metadata": {},
   "outputs": [
    {
     "name": "stdout",
     "output_type": "stream",
     "text": [
      "ID:\n",
      "['d0de5799-f7a2-466b-a2a2-d8d08b9786d7']\n",
      "\n",
      "Metadata:\n",
      "file_path: /home/rob/Data/Documents/Github/rkaunismaa/RAG-Driven-Generative-AI/Chapter03/data/1804.06985.txt\n",
      "file_name: 1804.06985.txt\n",
      "file_type: text/plain\n",
      "file_size: 3798\n",
      "creation_date: 2024-11-13\n",
      "last_modified_date: 2024-11-13\n",
      "_node_content: {\"id_\": \"d0de5799-f7a2-466b-a2a2-d8d08b9786d7\", \"embedding\": null, \"metadata\": {\"file_path\": \"/home/rob/Data/Documents/Github/rkaunismaa/RAG-Driven-Generative-AI/Chapter03/data/1804.06985.txt\", \"file_name\": \"1804.06985.txt\", \"file_type\": \"text/plain\", \"file_size\": 3798, \"creation_date\": \"2024-11-13\", \"last_modified_date\": \"2024-11-13\"}, \"excluded_embed_metadata_keys\": [\"file_name\", \"file_type\", \"file_size\", \"creation_date\", \"last_modified_date\", \"last_accessed_date\"], \"excluded_llm_metadata_keys\": [\"file_name\", \"file_type\", \"file_size\", \"creation_date\", \"last_modified_date\", \"last_accessed_date\"], \"relationships\": {\"1\": {\"node_id\": \"795f7ec7-51ef-405d-8c05-f7a002b689ba\", \"node_type\": \"4\", \"metadata\": {\"file_path\": \"/home/rob/Data/Documents/Github/rkaunismaa/RAG-Driven-Generative-AI/Chapter03/data/1804.06985.txt\", \"file_name\": \"1804.06985.txt\", \"file_type\": \"text/plain\", \"file_size\": 3798, \"creation_date\": \"2024-11-13\", \"last_modified_date\": \"2024-11-13\"}, \"hash\": \"dea19430762fb55e84f487927c3a842d54b6ea32a2a5692d074ef21aa98e8d14\", \"class_name\": \"RelatedNodeInfo\"}}, \"text\": \"High Energy Physics  Theory arXiv1804.06985 hepth Submitted on 19 Apr 2018 Title A Near Horizon Extreme Binary Black Hole Geometry Authors Jacob Ciafre  Maria J. Rodriguez View a PDF of the paper titled A Near Horizon Extreme Binary Black Hole Geometry by Jacob Ciafre and Maria J. Rodriguez View PDF Abstract A new solution of fourdimensional vacuum General Relativity is presented. It describes the near horizon region of the extreme maximally spinning binary black hole system with two identical extreme Kerr black holes held in equilibrium by a massless strut. This is the first example of a nonsupersymmetric asymptotically flat near horizon extreme binary black hole geometry of two uncharged black holes. The black holes are corotating and the solution is uniquely specified by the mass. The binary extreme system has finite entropy. The distance between the black holes is fixed but there is a zerodistance limit where the objects collapse into one. This limiting geometry corresponds to the near horizon extreme Kerr NHEK black hole. Comments 1 figure Subjects High Energy Physics  Theory hepth  High Energy Astrophysical Phenomena astroph.HE General Relativity and Quantum Cosmology grqc Cite as arXiv1804.06985 hepth or arXiv1804.06985v1 hepth for this version httpsdoi.org10.48550arXiv.1804.06985 Focus to learn more arXivissued DOI via DataCite Related DOI  httpsdoi.org10.1140epjcs1005201971883 Focus to learn more DOIs linking to related resources Submission history From Maria J. Rodriguez  view email  v1 Thu 19 Apr 2018 031545 UTC 173 KB Fulltext links Access Paper View a PDF of the paper titled A Near Horizon Extreme Binary Black Hole Geometry by Jacob Ciafre and Maria J. Rodriguez View PDF TeX Source Other Formats view license Current browse context hepth \\u00a0prev  next\\u00a0 new  recent  201804 Change to browse by astroph astroph.HE grqc References  Citations INSPIRE HEP NASA ADS Google Scholar Semantic Scholar a export BibTeX citation Loading... BibTeX formatted citation  loading... Data provided by Bookmark Bibliographic Tools Bibliographic and Citation Tools Bibliographic Explorer Toggle Bibliographic Explorer  What is the Explorer  Connected Papers Toggle Connected Papers  What is Connected Papers  Litmaps Toggle Litmaps  What is Litmaps  scite.ai Toggle scite Smart Citations  What are Smart Citations  Code Data Media Code Data and Media Associated with this Article alphaXiv Toggle alphaXiv  What is alphaXiv  Links to Code Toggle CatalyzeX Code Finder for Papers  What is CatalyzeX  DagsHub Toggle DagsHub  What is DagsHub  GotitPub Toggle Gotit.pub  What is GotitPub  Huggingface Toggle Hugging Face  What is Huggingface  Links to Code Toggle Papers with Code  What is Papers with Code  ScienceCast Toggle ScienceCast  What is ScienceCast  Demos Demos Replicate Toggle Replicate  What is Replicate  Spaces Toggle Hugging Face Spaces  What is Spaces  Spaces Toggle TXYZ.AI  What is TXYZ.AI  Related Papers Recommenders and Search Tools Link to Influence Flower Influence Flower  What are Influence Flowers  Core recommender toggle CORE Recommender  What is CORE  IArxiv recommender toggle IArxiv Recommender  What is IArxiv  Author Venue Institution Topic About arXivLabs arXivLabs experimental projects with community collaborators arXivLabs is a framework that allows collaborators to develop and share new arXiv features directly on our website. Both individuals and organizations that work with arXivLabs have embraced and accepted our values of openness community excellence and user data privacy. arXiv is committed to these values and only works with partners that adhere to them. Have an idea for a project that will add value for arXivs community Learn more about arXivLabs . Which authors of this paper are endorsers  Disable MathJax  What is MathJax\", \"mimetype\": \"text/plain\", \"start_char_idx\": 0, \"end_char_idx\": 3795, \"text_template\": \"{metadata_str}\\n\\n{content}\", \"metadata_template\": \"{key}: {value}\", \"metadata_seperator\": \"\\n\", \"class_name\": \"TextNode\"}\n",
      "_node_type: TextNode\n",
      "document_id: 795f7ec7-51ef-405d-8c05-f7a002b689ba\n",
      "doc_id: 795f7ec7-51ef-405d-8c05-f7a002b689ba\n",
      "ref_doc_id: 795f7ec7-51ef-405d-8c05-f7a002b689ba\n",
      "\n",
      "\n",
      "Text:\n",
      "['High Energy Physics  Theory arXiv1804.06985 hepth Submitted on 19 Apr 2018 Title A Near Horizon Extreme Binary Black Hole Geometry Authors Jacob Ciafre  Maria J. Rodriguez View a PDF of the paper titled A Near Horizon Extreme Binary Black Hole Geometry by Jacob Ciafre and Maria J. Rodriguez View PDF Abstract A new solution of fourdimensional vacuum General Relativity is presented. It describes the near horizon region of the extreme maximally spinning binary black hole system with two identical extreme Kerr black holes held in equilibrium by a massless strut. This is the first example of a nonsupersymmetric asymptotically flat near horizon extreme binary black hole geometry of two uncharged black holes. The black holes are corotating and the solution is uniquely specified by the mass. The binary extreme system has finite entropy. The distance between the black holes is fixed but there is a zerodistance limit where the objects collapse into one. This limiting geometry corresponds to the near horizon extreme Kerr NHEK black hole. Comments 1 figure Subjects High Energy Physics  Theory hepth  High Energy Astrophysical Phenomena astroph.HE General Relativity and Quantum Cosmology grqc Cite as arXiv1804.06985 hepth or arXiv1804.06985v1 hepth for this version httpsdoi.org10.48550arXiv.1804.06985 Focus to learn more arXivissued DOI via DataCite Related DOI  httpsdoi.org10.1140epjcs1005201971883 Focus to learn more DOIs linking to related resources Submission history From Maria J. Rodriguez  view email  v1 Thu 19 Apr 2018 031545 UTC 173 KB Fulltext links Access Paper View a PDF of the paper titled A Near Horizon Extreme Binary Black Hole Geometry by Jacob Ciafre and Maria J. Rodriguez View PDF TeX Source Other Formats view license Current browse context hepth \\xa0prev  next\\xa0 new  recent  201804 Change to browse by astroph astroph.HE grqc References  Citations INSPIRE HEP NASA ADS Google Scholar Semantic Scholar a export BibTeX citation Loading... BibTeX formatted citation  loading... Data provided by Bookmark Bibliographic Tools Bibliographic and Citation Tools Bibliographic Explorer Toggle Bibliographic Explorer  What is the Explorer  Connected Papers Toggle Connected Papers  What is Connected Papers  Litmaps Toggle Litmaps  What is Litmaps  scite.ai Toggle scite Smart Citations  What are Smart Citations  Code Data Media Code Data and Media Associated with this Article alphaXiv Toggle alphaXiv  What is alphaXiv  Links to Code Toggle CatalyzeX Code Finder for Papers  What is CatalyzeX  DagsHub Toggle DagsHub  What is DagsHub  GotitPub Toggle Gotit.pub  What is GotitPub  Huggingface Toggle Hugging Face  What is Huggingface  Links to Code Toggle Papers with Code  What is Papers with Code  ScienceCast Toggle ScienceCast  What is ScienceCast  Demos Demos Replicate Toggle Replicate  What is Replicate  Spaces Toggle Hugging Face Spaces  What is Spaces  Spaces Toggle TXYZ.AI  What is TXYZ.AI  Related Papers Recommenders and Search Tools Link to Influence Flower Influence Flower  What are Influence Flowers  Core recommender toggle CORE Recommender  What is CORE  IArxiv recommender toggle IArxiv Recommender  What is IArxiv  Author Venue Institution Topic About arXivLabs arXivLabs experimental projects with community collaborators arXivLabs is a framework that allows collaborators to develop and share new arXiv features directly on our website. Both individuals and organizations that work with arXivLabs have embraced and accepted our values of openness community excellence and user data privacy. arXiv is committed to these values and only works with partners that adhere to them. Have an idea for a project that will add value for arXivs community Learn more about arXivLabs . Which authors of this paper are endorsers  Disable MathJax  What is MathJax']\n",
      "\n",
      "Embedding:\n",
      "[0.0009606288513168693, 0.006392387207597494, -0.013981797732412815, -0.0014059710083529353, -0.007770026568323374, 0.02221221663057804, -0.01493091695010662, -0.026702824980020523, -0.011807323433458805, -0.03617984801530838, 0.013705561868846416, 0.014250950887799263, -0.013308914378285408, 0.0056097181513905525, -0.007663781754672527, 0.017197469249367714, 0.022693859413266182, 0.013818888925015926, 0.02385546825826168, -0.009590351954102516, -0.01034114696085453, 0.013259333558380604, -0.008832473307847977, -0.010064911097288132, -0.007182139437645674, 0.01015699002891779, 0.018713226541876793, -0.007564620114862919, -0.005999282002449036, -0.01984650269150734, 0.010617383755743504, -0.0005684089264832437, -0.022240549325942993, 0.01444219145923853, -0.01016407273709774, 0.0317034088075161, 0.023657144978642464, 0.004324157722294331, 0.028955211862921715, 0.010723628103733063, 0.01538422703742981, 0.020469805225729942, -0.005414936225861311, -0.012940599583089352, 0.009080377407371998, -0.008251668885350227, 0.02360048145055771, -0.015072575770318508, -0.003637108951807022, 0.006488007493317127, 0.025937864556908607, 0.02538539096713066, -0.024294612929224968, 0.0009021942387335002, 0.019719010218977928, -0.018061593174934387, 0.0013218607055023313, 0.022495536133646965, -0.006328640505671501, -0.007146724499762058, 0.01033406425267458, -0.022042226046323776, -0.009562019258737564, -0.004175415262579918, -0.015908367931842804, -0.005730128847062588, -0.019209034740924835, 0.0007609773892909288, -0.007507956121116877, -0.010695296339690685, 0.024407939985394478, 0.018033260479569435, -0.016942482441663742, -0.03300667554140091, 0.020937280729413033, -0.02644783817231655, -0.014477605931460857, -0.004444568417966366, -0.01316725555807352, -0.0020027118735015392, 0.006562378723174334, -0.00033002247801050544, 0.00365481642074883, 0.018359078094363213, 0.006041779648512602, -0.0056097181513905525, -0.003750436706468463, 0.026150353252887726, -0.009236202575266361, -0.008471241220831871, 0.02326049841940403, -0.015894200652837753, 0.026943646371364594, 0.004834132269024849, -0.002691531553864479, -0.002516227774322033, 0.006966108456254005, 0.024832919239997864, -0.01668749563395977, -0.020115656778216362, -0.012784774415194988, 0.0010314586106687784, -0.013847220689058304, -0.019789839163422585, -0.020158154889941216, 0.008527904748916626, -0.012522703967988491, 0.000823396141640842, 0.005319315940141678, 0.0007481395150534809, 0.01016407273709774, -0.010914868675172329, -0.0042285374365746975, -0.03867305815219879, 0.026249514892697334, 0.0143855269998312, 0.020058993250131607, -0.01668749563395977, -0.012876853346824646, -0.01760828122496605, 0.016829155385494232, 0.025654545053839684, -0.0011996793327853084, -0.003435244085267186, 0.022013893350958824, 0.03490491211414337, -0.002473729895427823, -0.022637195885181427, 0.0016689265612512827, -0.019818171858787537, -0.001264311489649117, 0.012983097694814205, 0.0005360928480513394, 0.023642979562282562, -0.008357913233339787, 0.024988744407892227, -0.05040246620774269, -0.02656116522848606, -0.018514903262257576, -0.03462159261107445, 0.008804140612483025, 0.03144842013716698, -0.011871070601046085, 0.00980992428958416, -0.018826553598046303, 0.026391174644231796, -0.0001078494024113752, 0.0021479129791259766, 0.0004070498689543456, -0.011021113023161888, 0.005485766101628542, 0.0028367324266582727, 0.010709461756050587, 0.01891154982149601, 0.013655981048941612, -0.0032316085416823626, -0.013011429458856583, 0.028105255216360092, -0.023189667612314224, -0.04756927862763405, -0.021333929151296616, 0.0061019849963486195, 0.015681711956858635, -0.011948983184993267, 0.033176667988300323, 0.021801404654979706, 0.007954183965921402, 0.008910385891795158, 0.011559419333934784, -0.024762090295553207, -0.013570984825491905, 0.02785026840865612, -0.03221338242292404, -0.016064193099737167, -0.010107409209012985, 0.02031398005783558, 0.02044147253036499, 0.006764243356883526, -0.03572653979063034, -0.0010181780671700835, -0.003518469166010618, -0.0014219076838344336, 0.01750911958515644, 0.0305417999625206, 0.0031111978460103273, 0.0123314643278718, 0.034253280609846115, -0.032128386199474335, 0.014314697124063969, -0.01915237121284008, 0.008903303183615208, 0.022509703412652016, -0.027751106768846512, 0.008959966711699963, -0.6301016807556152, -0.0152708999812603, 0.002702155848965049, -0.023586316034197807, -0.020058993250131607, -0.005528263747692108, 0.007203388027846813, 0.019294030964374542, -0.006562378723174334, 0.01927986554801464, -0.020639795809984207, 0.0010057828621938825, 0.0011447862489148974, -0.024237949401140213, -0.023586316034197807, -0.013910967856645584, -0.004699555691331625, -0.007302549667656422, -0.0043701971881091595, 0.0002682677877601236, -0.016956647858023643, 0.004320616368204355, -0.013967631384730339, 0.004040838684886694, 0.020299812778830528, 0.0077841924503445625, 0.03178840130567551, -0.008719145320355892, -0.005843456368893385, 0.006094902288168669, -0.01209772564470768, -0.002810171339660883, 0.00039133449899964035, -0.008896219544112682, 0.045756034553050995, -0.04983583092689514, 0.019648179411888123, 0.01913820579648018, 0.011396510526537895, 0.035273227840662, -0.01772161014378071, -0.0025109155103564262, 0.024691259488463402, 0.008095843717455864, -0.004497690591961145, -0.0032404621597379446, 0.013840137980878353, -0.02384130284190178, -0.009363695979118347, -0.016885818913578987, -0.024167118594050407, 0.013705561868846416, 0.009647015482187271, 0.010475724004209042, 0.005878871306777, -0.011630249209702015, 0.033431652933359146, -0.014144706539809704, -0.008584569208323956, -0.005354730878025293, -0.007288383785635233, -0.0012421772116795182, -0.008959966711699963, -0.017579950392246246, -0.00840041134506464, -0.0066969553008675575, -0.013018513098359108, 0.011346929706633091, 0.004568520467728376, 0.012614782899618149, 0.01075195986777544, 0.0246770940721035, -0.022028060629963875, 0.0009694825275801122, 0.025300396606326103, 0.021914731711149216, 0.03382829949259758, 0.00032271817326545715, -0.0076425326988101006, 0.008499572984874249, 0.005032455548644066, 0.014321780763566494, -0.015880035236477852, -0.009739094413816929, 0.02514456957578659, 0.00915828999131918, -0.00681382417678833, 0.014675929211080074, -0.00045463861897587776, -0.00757170282304287, 0.012678530067205429, 0.00875455979257822, -0.002843815367668867, -0.030740123242139816, -0.007316716015338898, 0.018741559237241745, 0.008917468599975109, 0.015823371708393097, 0.013330163434147835, -0.015795039013028145, -0.003817724995315075, -0.027991926297545433, 0.0023922757245600224, -0.01585170440375805, 0.0068244487047195435, 0.0043701971881091595, -0.006431343499571085, -0.03348831832408905, 0.034253280609846115, -0.0517057366669178, -0.010808623395860195, 0.000996043672785163, -0.025753706693649292, 0.020228983834385872, 7.011040725046769e-05, -0.033318325877189636, 0.009370779618620872, 0.008917468599975109, -0.010759042575955391, -0.01892571523785591, 0.04827757552266121, 0.020398974418640137, 0.0062613519839942455, -0.00047411679406650364, 0.011764825321733952, 0.008967049419879913, 0.027765272185206413, -0.025937864556908607, -0.05601218715310097, -0.011460257694125175, 0.014165954664349556, 0.014300531707704067, 0.03513156995177269, -0.011127357371151447, 0.04720096290111542, -0.00037694722414016724, 0.021773073822259903, 0.013960548676550388, 0.0064738416112959385, -0.02571120858192444, -0.021787239238619804, -0.010050744749605656, 0.010277400724589825, 0.0005719504551962018, -0.009902002289891243, -0.020993946120142937, -0.002206347417086363, 0.006215312983840704, 0.019563183188438416, -0.002344465581700206, -0.011127357371151447, 0.016715826466679573, -0.005004123784601688, 0.00892455130815506, -0.004642891697585583, -0.023756306618452072, -0.008860805071890354, -0.04884421452879906, -0.001406856463290751, -0.002062917221337557, 0.021121438592672348, 0.020228983834385872, -0.017948264256119728, 0.009441609494388103, 0.00575491925701499, 0.002781839342787862, 0.0020859369542449713, 0.021348094567656517, -0.013712644577026367, -0.027042808011174202, -0.009902002289891243, -0.012118974700570107, -0.026462003588676453, 0.0017450685845687985, -0.024110455065965652, 0.006856322288513184, -0.017098307609558105, -0.008131258189678192, -0.004469358827918768, -0.0003729630261659622, 0.004837673623114824, 0.007840855978429317, -0.03498990833759308, 0.0002465761499479413, 0.010872370563447475, 0.01622001826763153, 0.010780291631817818, -0.005825749132782221, 0.0024170661345124245, 0.008124175481498241, -0.0111556900665164, 0.033544979989528656, -0.013365578837692738, 0.027935262769460678, -0.01444219145923853, -0.01351432129740715, 0.000752123654820025, 0.015015912242233753, -0.01269269548356533, 0.0264195054769516, 0.02630617842078209, 0.002130205510184169, 0.019209034740924835, -0.011134441010653973, 0.004274576902389526, -0.018628230318427086, 0.011290266178548336, -0.017806606367230415, 0.0018380326218903065, -0.007522122003138065, 0.01127609983086586, -0.025328727439045906, -0.008768726140260696, -0.021914731711149216, 0.010001163929700851, 0.01925153285264969, -0.003229837864637375, 0.03215671703219414, -0.001562681864015758, 0.014945082366466522, -0.00033954024547711015, 0.015157571993768215, 0.015922533348202705, 0.011049444787204266, -0.012466040439903736, -0.0037150217685848475, 0.02490374818444252, 0.02384130284190178, 0.011424842290580273, -0.018939882516860962, 0.003952301573008299, -0.0008251668768934906, 0.005475141573697329, -0.003523781429976225, 0.026816152036190033, 0.027935262769460678, 0.005475141573697329, -0.008081677369773388, 0.025045407935976982, -0.0024507101625204086, -0.005347648169845343, -0.0038956375792622566, 0.004922669380903244, -0.002819024957716465, -0.003725646063685417, -0.005924910772591829, 0.017353294417262077, 0.006516339257359505, -0.005645133089274168, -0.018996546044945717, -0.018954047933220863, 0.02433711104094982, -0.017296630889177322, 0.03493324667215347, 0.04215788096189499, 0.005227237474173307, -0.00508203636854887, 0.012572284787893295, 0.007132558152079582, 0.02171640843153, 0.006923610344529152, 0.001746839378029108, -0.007755860220640898, -0.03326166421175003, 0.013946382328867912, -0.02314717136323452, -0.022495536133646965, -0.00022499520855490118, -0.014775090850889683, 0.011651498265564442, -0.020894784480333328, -0.015285065397620201, 0.008138340897858143, -0.008520822040736675, 0.019209034740924835, -0.0013307144399732351, -0.0029890164732933044, -0.008187921717762947, 0.030598463490605354, 0.00951243843883276, -0.035273227840662, -0.03275168687105179, 0.025994528084993362, 0.022948848083615303, 0.0026153894141316414, -0.010206570848822594, 0.006682789418846369, 0.018869051709771156, 0.007121934089809656, 0.035528216511011124, 0.009477023966610432, -0.011878153309226036, 0.005078495014458895, -0.012239385396242142, -0.02901187539100647, -0.01303267851471901, 0.02901187539100647, -0.02198556251823902, 0.009696596302092075, -0.005184739362448454, 0.003640650538727641, -0.00193188211414963, -0.019209034740924835, 0.00358575745485723, 0.03595319390296936, -0.01902487687766552, 0.00134399498347193, -0.012940599583089352, -0.011849821545183659, -0.02770860865712166, 0.012416459619998932, -0.010135740973055363, -0.003541488666087389, 0.00042033044155687094, -0.010709461756050587, -0.02055480144917965, -0.013089342042803764, 0.015341728925704956, 0.02187223546206951, 0.002489666687324643, -0.009441609494388103, -0.0047278874553740025, -0.01634751260280609, -0.005684089381247759, 0.06731662154197693, 0.015129240229725838, -0.023883800953626633, 0.01657416671514511, -0.0037114801816642284, -0.006796116940677166, 0.003771685529500246, 0.001091663958504796, 0.004586228169500828, 0.004614559933543205, 0.02559788152575493, -0.01774994097650051, -0.009441609494388103, 0.014789257198572159, 0.03181673586368561, -0.018954047933220863, 0.011460257694125175, -0.02949351817369461, 0.0008840441587381065, 0.023869633674621582, -0.013648897409439087, 0.01109902560710907, -0.0013245168374851346, 0.01226771716028452, 0.015667546540498734, -0.012628949247300625, 0.03156174719333649, 0.0035379473119974136, 0.0034635760821402073, -0.026122020557522774, 0.013245168142020702, -0.001507788896560669, -0.00152018410153687, -0.004618101287633181, -0.0032776477746665478, -0.00578679284080863, 0.03280835226178169, -0.005864705424755812, 0.015497555024921894, -0.017679112032055855, 0.0018327204743400216, 0.0013466511154547334, 0.009066211059689522, 0.001276706694625318, 0.004497690591961145, 0.0016698118997737765, -0.005064329132437706, 0.030371807515621185, -0.032468367367982864, 0.001054478227160871, 0.01714080572128296, -0.001045624609105289, -0.017764108255505562, -0.018585732206702232, -0.012126057408750057, 0.016262516379356384, 0.00040815657121129334, -0.021178102120757103, -0.007068811450153589, -0.016305014491081238, -0.008449992164969444, -0.024110455065965652, 0.017820771783590317, 0.011899402365088463, -0.010050744749605656, -0.02514456957578659, -0.024379609152674675, -0.013578067533671856, -0.021900566294789314, 0.013542653061449528, -0.009547853842377663, -0.029408521950244904, -0.03428161144256592, 0.02668865956366062, 0.009250368922948837, -0.001143015455454588, -0.004274576902389526, -0.008379162289202213, -0.014647597447037697, -0.020753124728798866, -0.030456803739070892, -0.0010854663560166955, 0.013195587322115898, -0.01949235424399376, -0.004345406778156757, 0.004536646883934736, -0.0018663646187633276, -0.0011624937178567052, -0.003137758933007717, 0.03020181693136692, 0.0016946024261415005, 0.0037646025884896517, 0.014420942403376102, -0.005269735120236874, 0.011778991669416428, -0.003435244085267186, 0.010822789743542671, -0.0005476027145050466, -0.003573362249881029, -0.010022412985563278, -0.01622001826763153, -0.004642891697585583, 0.0010394270066171885, -0.0058859544806182384, 0.01022781990468502, 0.013372661545872688, 0.005800958722829819, 0.02139059267938137, -0.004897878970950842, -0.01622001826763153, 0.0024383149575442076, -0.0013200899120420218, 0.007479624357074499, -0.0037150217685848475, 0.012402293272316456, 0.0064030117355287075, 0.037058137357234955, 0.010844038799405098, -0.01949235424399376, -0.010546553879976273, 0.0008579256245866418, -0.011474424041807652, 0.023175502195954323, 0.010057828389108181, 0.0018681352958083153, 0.024053791537880898, -0.016531670466065407, -0.021688077598810196, -0.03688814863562584, 0.004451651591807604, -0.008081677369773388, -0.003707938827574253, -0.0018663646187633276, -0.02422378398478031, -0.02596619538962841, -0.018415741622447968, -0.008350830525159836, -0.014576767571270466, 0.016375843435525894, -0.015313397161662579, 0.013330163434147835, -0.004667682107537985, -0.0034848249051719904, -0.005822207313030958, -0.02253803424537182, -0.029918497428297997, -0.022764690220355988, 0.02385546825826168, -0.008095843717455864, -0.0068244487047195435, -0.0009066211059689522, -0.013670146465301514, 0.004079794976860285, -0.02525789849460125, -0.026277845725417137, -0.03042847104370594, 0.0032333792187273502, 0.005779709666967392, 0.034224946051836014, 0.015511720441281796, 0.03909803554415703, -0.004483524709939957, 0.011042362079024315, 0.039551347494125366, 0.010603217408061028, 0.0013156631030142307, 0.009214953519403934, 0.00519890571013093, -0.014335946179926395, 0.010036579333245754, 0.02080978825688362, -0.005007665138691664, -0.004919128026813269, -0.03583986684679985, 0.013422242365777493, 0.026122020557522774, 0.016503337770700455, 0.003506073961034417, -0.0048872544430196285, -0.05830707028508186, -0.01285560429096222, -0.009625766426324844, 0.0036725238896906376, -0.0017229343065991998, -0.04195955768227577, -0.026731157675385475, 0.01915237121284008, 0.008761643432080746, 0.013748059049248695, -0.006601335015147924, 0.020724792033433914, -0.008974132128059864, 0.018543235957622528, 0.007026313804090023, 0.03654816374182701, -0.03467825800180435, -0.006456133909523487, -0.00043870191439054906, 0.01657416671514511, 0.020002327859401703, 0.0032032765448093414, 0.024521268904209137, 0.011708161793649197, -0.018755724653601646, 0.017225801944732666, -0.003902720520272851, 0.009611600078642368, 0.002914645243436098, -0.011467340402305126, -0.018302414566278458, -0.005694713909178972, -0.03156174719333649, -0.0033042090944945812, -0.012834355235099792, -0.02292051538825035, 0.01434302981942892, -0.00012096397404093295, 0.029436854645609856, -0.024634595960378647, -0.009710762649774551, 0.001979692140594125, 0.010836955159902573, 0.03887138143181801, 0.015327563509345055, 0.03031514398753643, 0.042582862079143524, 0.008733311668038368, -0.014130540192127228, 0.00998699851334095, -0.013663063757121563, 0.01151692122220993, 0.02633451111614704, 0.011056527495384216, -0.03796476125717163, -0.029295194894075394, 0.027552783489227295, 0.002608306473121047, -0.027113638818264008, -0.039296358823776245, 0.019308196380734444, -0.023288829252123833, 0.019704842939972878, -0.002287801820784807, -0.0006627010880038142, -0.02103644236922264, -0.00763544999063015, -0.002886313246563077, 0.011771908961236477, -0.016843320801854134, -0.005145783070474863, -0.004483524709939957, 0.016050027683377266, 0.0006069226656109095, 0.03544322028756142, 0.016135022044181824, -0.021928898990154266, 0.013493072241544724, -0.01286268699914217, -0.006781951058655977, 0.006512797903269529, -0.021305596455931664, 0.039183031767606735, -0.017707444727420807, -0.0024932080414146185, 0.012026895768940449, -0.006208229809999466, -0.0046641407534480095, -0.029550181701779366, -0.0032493160106241703, 0.028516067191958427, 4.6094690333120525e-05, -0.007862105034291744, -0.010036579333245754, -0.02549871988594532, 0.003771685529500246, 0.004940376617014408, 0.0010403123451396823, 0.0061019849963486195, 0.010376562364399433, 0.00957618560642004, 0.008315416052937508, 0.02105060964822769, 0.00046437772107310593, -0.014024295844137669, 0.0038283492904156446, -0.007940017618238926, -0.026249514892697334, 0.002247074618935585, -0.01344349142163992, -0.04054296389222145, -0.034366607666015625, -0.008917468599975109, -0.0009500043815933168, 0.012728110887110233, 0.0014015441993251443, -0.007762943394482136, -0.01216855552047491, 0.027765272185206413, -0.024818753823637962, 0.008209170773625374, 0.02714196965098381, 0.018585732206702232, -0.025229565799236298, -0.003208588808774948, -0.003183798398822546, 0.02525789849460125, 0.014845920726656914, -0.008421660400927067, -0.007150265853852034, -0.030456803739070892, -0.00730963284149766, 0.020767290145158768, 0.01607835851609707, 0.009597434662282467, -0.0038566812872886658, 0.008414577692747116, 0.00722463708370924, -0.01620585285127163, 0.0030262020882219076, 0.03736978769302368, -0.003977091982960701, -0.0017574637895449996, -0.011318597942590714, -0.017112473025918007, 0.007748777512460947, -0.006240103393793106, -0.00975325983017683, -0.008789975196123123, -0.020030660554766655, 0.00687757134437561, -0.0013448803219944239, 0.00325994030572474, -0.02032814547419548, -0.019662344828248024, -0.02021481841802597, -0.017211634665727615, -0.031760070472955704, -0.003615860128775239, 0.01902487687766552, 0.00833666417747736, 0.010043662041425705, 0.02865772694349289, -0.009059128351509571, -0.0043879044242203236, -0.00874747708439827, -0.002663199556991458, 0.01599336415529251, 0.017098307609558105, -0.05241403356194496, -0.0020398974884301424, 0.00722463708370924, 0.03328999504446983, 0.008357913233339787, -0.033204998821020126, 0.004568520467728376, -0.03181673586368561, -0.008329581469297409, 0.015469223260879517, -0.01599336415529251, 0.01820325292646885, 0.0205406341701746, -0.0004670338239520788, 0.02396879531443119, 0.040571294724941254, 0.01434302981942892, 0.030966777354478836, 0.010794457979500294, 0.0027906931936740875, -0.0040125069208443165, 0.012501454912126064, 0.013939299620687962, -0.01772161014378071, -0.04603935405611992, -0.007975433021783829, 0.03603819012641907, 0.011956065893173218, 0.013528486713767052, 0.03932468965649605, 0.006771326530724764, 0.002834961749613285, 0.03204338997602463, -0.008216253481805325, -0.00787627138197422, 0.014605099335312843, 0.006385304033756256, -0.0646534189581871, -0.025470387190580368, 0.003867305815219879, -0.004660599399358034, -0.025541216135025024, -5.9098594647366554e-05, 0.017594115808606148, 0.004862464033067226, 0.011488589458167553, -0.009328281506896019, -0.018259916454553604, 0.016758324578404427, -0.03487658128142357, 0.031193433329463005, 0.013719727285206318, 0.008258751593530178, 0.027807770296931267, 0.029210198670625687, -0.007975433021783829, 0.003477741964161396, 0.007507956121116877, -0.016942482441663742, 0.0003800460253842175, 0.00696256710216403, -0.020143987610936165, 0.02139059267938137, -0.013648897409439087, 0.008768726140260696, -0.012834355235099792, 0.011481506749987602, -0.028487736359238625, -0.02335966005921364, -0.022594697773456573, 0.020710626617074013, 0.014413859695196152, -0.025937864556908607, -0.019350694492459297, 0.007670864462852478, -0.00950535573065281, 0.01386138703674078, 0.0064030117355287075, -0.013471823185682297, -0.012643114663660526, 0.012728110887110233, 0.0006923610344529152, -0.018033260479569435, -0.011722328141331673, 0.022410541772842407, 0.00687757134437561, -0.0012634261511266232, 0.017948264256119728, 0.18823720514774323, -0.02561204694211483, 0.015596716664731503, 0.01538422703742981, -0.03161841258406639, -0.006201146636158228, 0.010305732488632202, 0.005595552269369364, -0.0094061940908432, 0.023543817922472954, 0.004933293908834457, 0.010737793520092964, -0.012522703967988491, -0.001578618655912578, 0.01960568130016327, -0.024280447512865067, -0.03428161144256592, -0.02102227695286274, -0.0002383864630246535, -0.01092195138335228, -0.007143182680010796, 0.020611464977264404, -0.006881112698465586, -0.009788675233721733, 0.028232747688889503, -0.02197139710187912, -0.01620585285127163, -0.01937902718782425, -0.002751736668869853, -0.005960325710475445, -0.01987483538687229, -0.021787239238619804, 0.021518085151910782, -0.007033396512269974, -0.006948400754481554, 0.010766126215457916, 0.0246629286557436, 0.017069974914193153, 0.01250853855162859, 0.023203834891319275, -0.006286142393946648, -0.00034286038135178387, 0.00264549208804965, -0.012175638228654861, 0.013698478229343891, 0.016305014491081238, -0.008138340897858143, 0.009129958227276802, -0.010249068029224873, 0.0013740976573899388, -0.02256636694073677, -0.004072712268680334, 0.0411379337310791, 0.03351664915680885, -0.01303976122289896, -0.013804723508656025, -0.003520239843055606, 0.011665663681924343, 0.00390626210719347, 0.025059575214982033, -0.02385546825826168, 0.010971532203257084, -0.006686330772936344, 0.0399479940533638, -0.007146724499762058, 0.012820188887417316, -0.012458957731723785, -0.013910967856645584, 0.007019230630248785, -0.02102227695286274, 0.013393910601735115, -0.01585170440375805, -0.008733311668038368, -0.020243149250745773, -0.014378444291651249, -0.0228921826928854, 0.006406553089618683, -0.0056805480271577835, 0.020158154889941216, 0.028048591688275337, 0.010999863967299461, -0.011318597942590714, 0.01797659695148468, -0.024167118594050407, -0.017905768007040024, -0.047059301286935806, 0.003183798398822546, 0.007345047779381275, -0.01867072843015194, -0.011233602650463581, -0.002130205510184169, 0.019917333498597145, -0.010957365855574608, -0.013068093918263912, 0.003141300519928336, -0.007252968847751617, -0.016715826466679573, -0.004989957436919212, -0.041874561458826065, 0.010149906389415264, -0.014010129496455193, 0.0434894822537899, -0.00757170282304287, -0.01068112999200821, 0.002020419342443347, -0.014080959372222424, 0.001604294404387474, 0.008584569208323956, 0.023940464481711388, -0.012706861831247807, 0.019336529076099396, -0.020639795809984207, -0.006796116940677166, -0.0031643202528357506, 0.006204688455909491, 0.023416323587298393, 0.016545835882425308, -0.01385430432856083, -0.01309642568230629, -0.021928898990154266, -0.014236784540116787, -0.025286229327321053, -0.0020027118735015392, 0.0006109068053774536, -0.010199487209320068, -0.033318325877189636, -0.011382345110177994, -0.014024295844137669, -0.02137642540037632, -0.014945082366466522, 0.011091942898929119, -0.01913820579648018, 0.04054296389222145, -0.0030598463490605354, 0.0036070062778890133, 0.003679606830701232, 0.013422242365777493, -0.03150508552789688, -0.01868489384651184, 0.009760343469679356, -0.011871070601046085, -0.0011784303933382034, 0.005482224747538567, 0.005361814051866531, 0.023699643090367317, -0.037058137357234955, 0.021673910319805145, -0.01368431281298399, -0.012437708675861359, -0.019662344828248024, -0.014718427322804928, -0.003984174691140652, -0.00625781062990427, 0.004246245138347149, 0.00840041134506464, -0.011616082862019539, -0.027991926297545433, -0.050685785710811615, -0.0035556547809392214, 0.001079268753528595, -0.028601063415408134, 0.010114491917192936, 0.012600616551935673, -0.020880617201328278, -0.007925852201879025, -0.0070546455681324005, -0.1832507997751236, 0.00390626210719347, 0.018939882516860962, -0.01303976122289896, 0.01728246547281742, 0.021518085151910782, 0.014258033595979214, 0.008152507245540619, -0.003785851411521435, -0.005939076654613018, 0.010737793520092964, 0.0009978144662454724, -0.012940599583089352, -0.02207055874168873, 0.023232165724039078, -0.0027605905197560787, -0.004628725815564394, 0.006034696940332651, 0.020002327859401703, 0.007136099971830845, 0.01596503145992756, -0.035783201456069946, 0.044594425708055496, 0.004136458970606327, 0.005177656654268503, 0.01057488564401865, -0.007614200934767723, 0.03382829949259758, 0.0028916255105286837, 0.0019584433175623417, 0.00916537269949913, -0.006509256549179554, 0.03368664160370827, 0.0022665527649223804, 0.012664363719522953, 0.008789975196123123, -0.009151207283139229, 0.023572148755192757, -0.02150391973555088, 0.007904603146016598, 0.04374447092413902, -0.008619983680546284, -0.005057245958596468, -0.008202088065445423, -0.020625630393624306, 0.015540053136646748, 0.00519890571013093, 0.00029128746245987713, 0.00570179708302021, -0.03513156995177269, 0.004479983355849981, -0.029748504981398582, 0.020115656778216362, 0.009271617978811264, 0.01808992400765419, -0.0040939608588814735, -0.023883800953626633, 0.026008693501353264, 0.00593199348077178, -0.009080377407371998, -0.02915353514254093, -0.012090642936527729, -0.0007578785880468786, -0.01545505691319704, 0.0135072385892272, -0.025909531861543655, 0.016290849074721336, -0.0060453214682638645, -0.020002327859401703, -0.008442909456789494, -0.013953465968370438, -0.013521404005587101, -0.00358575745485723, 0.00402313144877553, 0.009972832165658474, 0.019676512107253075, -0.02949351817369461, 0.008216253481805325, 0.009186621755361557, -0.008896219544112682, -0.004572061821818352, 0.01250853855162859, -0.011502755805850029, -0.012048144824802876, 0.008584569208323956, -0.009321198798716068, -0.023175502195954323, -0.008690813556313515, -0.007458375301212072, -0.007592951878905296, 0.01167983002960682, -0.025881199166178703, 0.013131840154528618, -0.019945664331316948, 0.00874747708439827, -0.003486595582216978, -0.00587178859859705, -0.007274217903614044, 0.01403846126049757, -0.0071927634999156, 0.04167623817920685, 0.01051822118461132, -0.0033502483274787664, -0.011247768066823483, 0.034224946051836014, 0.006700496654957533, -0.028275245800614357, 0.021999727934598923, 0.04382946342229843, -0.011835655197501183, -0.018883218988776207, -0.004511856473982334, 0.021008111536502838, 0.01469009555876255, 0.004008965101093054, 0.024407939985394478, 0.005556595977395773, -0.026575332507491112, 0.015653381124138832, -0.007670864462852478, 0.0411379337310791, -0.00024635481531731784, -0.043517813086509705, 0.009696596302092075, -0.015001746825873852, -0.022750522941350937, -0.10046495497226715, -0.013988880440592766, -0.0011323910439386964, 0.011212353594601154, 0.0006569461547769606, 0.007883354090154171, -0.011587751097977161, -0.006597793661057949, -0.008782892487943172, 0.03348831832408905, -0.02633451111614704, -0.02184390276670456, -0.004469358827918768, 0.009831172414124012, 0.0009287554421462119, -0.011424842290580273, 0.006388845853507519, -0.025314562022686005, -0.0008685500943101943, 0.013528486713767052, 0.0016822071047499776, -0.002218742622062564, -0.013967631384730339, 0.00899538118392229, 0.01434302981942892, 0.0044339438900351524, -0.02831774391233921, 0.030003493651747704, 0.011878153309226036, -0.007394628599286079, -0.010376562364399433, -0.0003078881709370762, -0.012983097694814205, -0.026107855141162872, -0.017112473025918007, -0.02020065113902092, 0.001717622042633593, -0.0003083308693021536, 0.013188504613935947, -0.03923969715833664, 0.0010978615609928966, 0.023543817922472954, 0.027113638818264008, 0.0005741638597100973, -0.00781252421438694, -0.016262516379356384, -0.022254714742302895, 0.027085306122899055, -0.007600035052746534, -0.009377862326800823, -0.022254714742302895, -0.012373961508274078, -0.02760944701731205, 0.003382121678441763, 0.033204998821020126, -0.01738162711262703, 0.011842738837003708, 0.018840720877051353, -0.010808623395860195, -0.0038460567593574524, -0.01410220842808485, 0.02044147253036499, -0.006169273518025875, 0.024946246296167374, 0.015242567285895348, 0.01622001826763153, -0.028827719390392303, -0.029521850869059563, -0.0002746867248788476, -0.01974734105169773, -0.013018513098359108, 0.02853023260831833, 0.003382121678441763, -0.002553413389250636, -0.018826553598046303, -0.01345765683799982, -0.0281902514398098, -0.024138787761330605, 0.008591651916503906, -0.017948264256119728, -0.01692831702530384, -0.02490374818444252, -0.0042285374365746975, -0.007415877655148506, 0.0024790421593934298, 0.0117435771971941, 0.004125834442675114, 0.0007773567922413349, 0.03360164538025856, -0.031221764162182808, 0.011028195731341839, 0.03898470848798752, 0.016942482441663742, -0.041166264563798904, 0.008938717655837536, 0.006750077474862337, 0.017211634665727615, -0.006002823356539011, 0.012628949247300625, -0.011481506749987602, -0.048249244689941406, 0.017466623336076736, -0.06357680261135101, 0.04637933522462845, 0.022523868829011917, -0.019775673747062683, -0.02562621235847473, -0.04170457273721695, 0.015341728925704956, 0.0041647907346487045, -0.01633334532380104, 0.017934098839759827, -0.01127609983086586, 0.006781951058655977, -0.008060428313910961, -0.026830319315195084, -0.01889738440513611, -0.032610028982162476, -0.00047057532356120646, 0.002771215047687292, 0.006735911592841148, 0.0034671174362301826, 0.0024082122836261988, 0.023076340556144714, 0.02395462989807129, 0.023515485227108, -0.013117674738168716, 0.018826553598046303, -0.035669874399900436, 0.023997128009796143, 0.0002503389841876924, -0.013528486713767052, 0.02290634997189045, -0.031051773577928543, 0.009838256053626537, 0.052329037338495255, 0.0011500985128805041, -0.0054574343375861645, -0.0024471688084304333, 0.008867887780070305, 0.022481370717287064, 0.04802258685231209, -0.03042847104370594, -0.03739812225103378, -0.010263234376907349, 0.003536176634952426, 0.021291431039571762, 0.037596445530653, 0.004246245138347149, 0.012154389172792435, 0.015936698764562607, 0.0030598463490605354, 0.0264195054769516, 0.022991344332695007, -0.007302549667656422, -0.0410812683403492, 0.0022541575599461794, 0.005978032946586609, -0.033204998821020126, 0.00016047370445448905, 0.010624466463923454, -0.005120992660522461, 0.044112782925367355, 0.010249068029224873, 0.01773577556014061, -0.010461557656526566, 0.026589497923851013, -0.0030421388801187277, -0.013124757446348667, -0.014845920726656914, 0.004706638399511576, -0.04040130227804184, -0.017098307609558105, 0.002470188308507204, 0.0056805480271577835, 0.03796476125717163, -0.00012218135816510767, -0.025116238743066788, -0.022396374493837357, 0.017905768007040024, -0.0032829600386321545, -0.001452895812690258, 0.010475724004209042, -0.008704978972673416, -0.01842990703880787, -0.009526604786515236, 0.029040208086371422, 0.003842515405267477, -0.005960325710475445, 0.010631549172103405, 0.0026153894141316414, 0.016475005075335503, 0.003548571839928627, 0.02018648572266102, 0.010426143184304237, 0.012218136340379715, 0.006328640505671501, 0.0057442947290837765, -0.004773926921188831, -0.025527050718665123, 0.02997516095638275, 0.01844407431781292, 0.020030660554766655, 0.005312233231961727, -0.0027234049048274755, -0.030570130795240402, -0.010348230600357056, 0.019903166219592094, -0.024620430544018745, -0.03362997621297836, 0.007564620114862919, 0.009179539047181606, 0.01310350839048624, 0.0022240548860281706, 0.011346929706633091, 0.020753124728798866, -0.02770860865712166, 0.0252437312155962, -0.012133140116930008, -0.02843107096850872, -5.799187783850357e-05, 0.03663315996527672, 0.004632267169654369, 0.004455192945897579, 0.01667332835495472, 0.0029890164732933044, 0.02066812850534916, 0.027085306122899055, 0.04402778670191765, -0.013918050564825535, 0.022623030468821526, -0.037058137357234955, 0.012834355235099792, -0.004862464033067226, -0.009122874587774277, 0.0032457744237035513, -0.04133625701069832, -0.005361814051866531, 0.011956065893173218, -0.0072600520215928555, 0.01960568130016327, 0.09525188058614731, 0.02316133677959442, -0.00292349886149168, 0.03028681129217148, -0.02432294562458992, 0.022183885797858238, 0.020653963088989258, -0.001390034332871437, -0.007337964605540037, -0.06669331341981888, -0.013160171918570995, -0.012827272526919842, 0.014704260975122452, -0.04521773010492325, 0.0013032678980380297, 0.014704260975122452, -0.012522703967988491, 0.015540053136646748, -0.026518667116761208, -0.01760828122496605, 0.00613385858014226, -0.011495672166347504, 0.03615151718258858, 0.010050744749605656, -0.027765272185206413, 0.016602499410510063, 0.012791857123374939, 0.019336529076099396, 0.0123314643278718, -0.0016609582817181945, -0.00898829847574234, 0.006781951058655977, -0.032355040311813354, -0.028955211862921715, 0.0013670147163793445, -0.016616664826869965, -0.017112473025918007, 0.0005657528527081013, 0.04802258685231209, 0.008527904748916626, 0.007670864462852478, 0.025427889078855515, -0.00992325134575367, -0.014222619123756886, -0.012026895768940449, -0.005177656654268503, -0.004869547206908464, 0.009781591594219208, -0.037539780139923096]\n",
      "\n"
     ]
    }
   ],
   "source": [
    "# Function call to display a record\n",
    "rec = 0  # Replace with the desired record number\n",
    "display_record(rec)"
   ]
  },
  {
   "cell_type": "markdown",
   "metadata": {
    "id": "MAdhB_6Ap-6C"
   },
   "source": [
    "# Original documents"
   ]
  },
  {
   "cell_type": "code",
   "execution_count": 19,
   "metadata": {
    "id": "7T5fIdlDp-6C"
   },
   "outputs": [],
   "source": [
    "# Ensure 'text' column is of type string\n",
    "df['text'] = df['text'].astype(str)\n",
    "# Create documents with IDs\n",
    "documents = [Document(text=row['text'], doc_id=str(row['id'])) for _, row in df.iterrows()]"
   ]
  },
  {
   "cell_type": "markdown",
   "metadata": {
    "id": "LUkP-cuv9blu"
   },
   "source": [
    "# Pipeline 3:Index-based RAG"
   ]
  },
  {
   "cell_type": "markdown",
   "metadata": {
    "id": "KXtVtTxPZCkC"
   },
   "source": [
    "## User input and RAG parameters"
   ]
  },
  {
   "cell_type": "code",
   "execution_count": 20,
   "metadata": {
    "id": "qwOHg08CZENh"
   },
   "outputs": [],
   "source": [
    "user_input=\"How do drones identify vehicles?\"\n",
    "\n",
    "#similarity_top_k\n",
    "k=3\n",
    "#temperature\n",
    "temp=0.1\n",
    "#num_output\n",
    "mt=1024"
   ]
  },
  {
   "cell_type": "markdown",
   "metadata": {
    "id": "IieaLOBFSkgy"
   },
   "source": [
    "## Cosine similarity metric"
   ]
  },
  {
   "cell_type": "code",
   "execution_count": 21,
   "metadata": {
    "id": "Zbn2Ci2PazeO"
   },
   "outputs": [],
   "source": [
    "from sklearn.feature_extraction.text import TfidfVectorizer\n",
    "from sklearn.metrics.pairwise import cosine_similarity"
   ]
  },
  {
   "cell_type": "code",
   "execution_count": null,
   "metadata": {},
   "outputs": [],
   "source": [
    "from sentence_transformers import SentenceTransformer\n",
    "model = SentenceTransformer('all-MiniLM-L6-v2')"
   ]
  },
  {
   "cell_type": "code",
   "execution_count": null,
   "metadata": {
    "colab": {
     "base_uri": "https://localhost:8080/",
     "height": 425,
     "referenced_widgets": [
      "02a9765b794e4e70b07a3a4ec8ecb997",
      "63b464fe718d475c82a783c576e4e7e4",
      "d0fe22d5e8454ed4b9e997c7efc2f3d7",
      "5fbaa6d4aca844ba919022644923163f",
      "b5a10ec452f84dd9860b2be34d7c97ea",
      "bc9cbb1bb3b54520a824af2995c89959",
      "e4ae9e6d4ba345389efe85273eac0886",
      "9401caf6be2d4dfab10307bacfeb602c",
      "13921712c22b4877835cbd4b23adc8db",
      "1fe9c1d04a9741c0b4369e5838c8ae01",
      "41c34e2632f04aa2a67cc1578e37c348",
      "19029ea522324617bb7913e72377bf62",
      "34ed6c11d7c7436083e20ad66abb3fc1",
      "608c011bd4054134bba8a16541511b62",
      "0f82b4d09a28415eb5fec3ede7070b8b",
      "44d9968e0fa64183a5f608b6b8f33498",
      "ba5d71929e2e4528b255208f25f5a748",
      "46d6352d9a77487288cc0dcb7a5a0e48",
      "214ac2d8f151418dac7da8c3368fdee8",
      "e6e92bbf6789468b97da705bb0cc9bd3",
      "f5b52141dab24c5cbbed6a498612429c",
      "5bf1dbb8810940b7b87a5b587926d838",
      "2154484deed74dd08cfb3e8f04927d7e",
      "f24c673424594b7eb6f0ffe39bf69513",
      "bb8a471f3f684d928f925cb24317c2ba",
      "ac0d11fd90f849c792120c73414a8a1e",
      "8cd07f233f3f4f2b9ae9db13c757cd18",
      "7a291b08b1064f0f8077516aae4f5497",
      "34b402eb223a4fd79dffd0ca19c63c06",
      "8f7f82ce282645588e418fcf9cbc7c8f",
      "216785bb035b45ebb02ed0547ff42577",
      "7501b02d23c046639cf8b29c1df85db9",
      "f02adcd093944909afc1386974420214",
      "dbb0fe24e6284d9287bf073162428858",
      "932f521dbd214f2486d5e536098e3066",
      "4f1c192e224e4f8784150ae234f263fc",
      "0c37310991754eff8d567074c875c31a",
      "d7c5adee1e594b5eb2991bdd8d0771ec",
      "127dfa2057be45bbb1c521766d85e145",
      "924c2616ea844674ac439246d2e6a934",
      "d255872d231245c09663fb2f6676fad4",
      "27a092a272a54683a170ffa799f01611",
      "2fda031473724105a01ed00d38737afd",
      "19b056141d144c03bdd2722eafe83afd",
      "5eb7a4237e1040c9afe090c33faa1a89",
      "b8104bab44ab419d823447bf35833574",
      "7813436562104d8db92758afa7df9a0f",
      "377e04ba9541484c813431660bc2adda",
      "ad742bbb70fc4693924c5419d6403ec6",
      "25f95dbdedcc4e7c91b5d2951d025619",
      "d2c3eb2cfb0344ff839a01dfc6c50ee3",
      "5576fdd1d934469a99e9e3e21454f0f3",
      "71384876baf34c47b389b4696f94e4c2",
      "e317caf2f64d4023a6166fec375270fb",
      "feda893ba90445a89c693c80d53a6e6c",
      "067d4c1d55954e9ca6d238eff7f61842",
      "e977817388dd436d828608b12c091248",
      "8d62e32492f04f55ae67425c2fcf512c",
      "bcf6ae696e9b4c098a5c48b6f3b5140c",
      "5f12cb2e604e4bf18a085fb68a873f74",
      "de2e663dcc6445d698aa7c58affc134f",
      "53b7210c68954e5eb29ecc9785d1a2e8",
      "096a6a46299547dcb839445fc3fa3181",
      "401a8e15c8454be3bae1049eb4e606ed",
      "33c8476d2f9f42ae976c3953e9ff4efb",
      "9afdc547fb48476ebf8528a31701d6fe",
      "3eda09f6739846c28d84eaa5de971841",
      "4975186362f74f70a5e26a67a256ff1f",
      "1f3854ce54dc4f3e86de64e3bdc19c04",
      "55081fab141f4b6ab9783100a448b3f2",
      "2c6cd21e0d9b4d66a103421f6afb6313",
      "c5342e7d723a477dacc312b887385dfd",
      "b3dcd109c3954f26a0717e6f706cbdf0",
      "490b14c2be0c49b59d1236fa4abcdfc4",
      "5e925b068ff24337b56fde07d5467bea",
      "994ae56df4bc4b6f9a9516324ed68b51",
      "1e435a788e214f04a329ee79c182e3fb",
      "a4e8a75150dc4e2d9e1be17cb62181a5",
      "b5b1d30a0d93410ba36f92cddcf429c6",
      "b97ace6eae7f469eb3fe3efd2dd8ff85",
      "aeb9921a5fde4934ad9924596ab775b3",
      "6e0e7ff854574b67ba5af1ecf59234dd",
      "1a2cce0cb2354b5fb8c2e92ab221b77e",
      "502332806e7b4ead99ce3e41a35551c3",
      "174ee1af6f7441ffbaf6d61b6ff97633",
      "bb2285cb20574fefb14c67e1be5dd117",
      "61884f59a60247878582db0b73ea670a",
      "310fe91747ff4c1bb1f4552ed311c1db",
      "738b6445e5fb442eb6a286ddde9e4bbd",
      "f14ad13dcf2d4784a3497263e3e7c950",
      "fced669b5cd74a888422b289cc12bef6",
      "66d738a42f064b618349aefcf490aac9",
      "f4a66e78d5cb415a92a2a2236074c6d9",
      "7bb9d91b8cd74f2e9d429d94a115fc63",
      "ef78e20fec0f4273bec3c2db965995c5",
      "34d3c9c19bfa469f9f1f46ad4312c6ec",
      "5f29a32353f642e39372ac17a6adb6c3",
      "1d191169bd5e476da884d5649651e3a5",
      "75620be3f4ad4d1e99809d1086c0e3ee",
      "d75aa15469a04c7798958b07e649e4da",
      "34f196b7436f491299089297187fd827",
      "9fa183e9c3c94babb647a23bbc1e96b1",
      "5dbde136c0454bc1aea9b692f496a764",
      "c8da0f4957194ce69b23aca2c882eb72",
      "fa5cc8cb8486411487895e0cf9e762c1",
      "e9fcd26342844355b5dfad06906a9af1",
      "1eeb9a3cff5d4545b58f95c5086faff1",
      "ac3e39a29c65480e8789793be7325372",
      "b33e50a221dc44a8a6b1f3cd9ddf9bbb",
      "1b69d3cc7c5a4f1387e29cfe6b68092f",
      "45603466a3b34112a3a3f92988f05300",
      "69d6da3a3d7c45c382d92a52569b92eb",
      "f21888b569e14b09980463cdcc480bda",
      "57b56f88e61a48059900dd87a19b6464",
      "27c3b9298cf64d3bbda0bd106b23e6ff",
      "1de799b71c5441e498cd8d43d45b8366",
      "2b7956880e364a01907fd4633d349257",
      "07670af9cfd3490bac902eae4afa8366",
      "89e6fd130be14dee8ed5d6aa40d99fdf",
      "bace242e7f7148fc98fc0624b29d60ff",
      "2ed533c6085c40b8b3c1d71895fd8f8e"
     ]
    },
    "id": "TorTwpZiSqGX",
    "outputId": "700ad758-c89c-488f-d8c0-0d1575c1433c"
   },
   "outputs": [],
   "source": [
    "def calculate_cosine_similarity_with_embeddings(text1, text2):\n",
    "    embeddings1 = model.encode(text1)\n",
    "    embeddings2 = model.encode(text2)\n",
    "    similarity = cosine_similarity([embeddings1], [embeddings2])\n",
    "    return similarity[0][0]"
   ]
  },
  {
   "cell_type": "markdown",
   "metadata": {
    "id": "IJFVccYkmQkc"
   },
   "source": [
    "# Vector store index query engine"
   ]
  },
  {
   "cell_type": "markdown",
   "metadata": {},
   "source": [
    "(The first type of llama_index we will be looking at is the VectorSoreStoreIndex. This type of index is useful when you have a collection of documents and you want to be able to query them. The VectorStoreIndex uses a vector store to store the embeddings of the documents and then uses these embeddings to perform similarity search.)\n",
    "\n",
    "( VectorStoreIndex is a type of index within LlamaIndex that implements vector embeddings to represent and retrieve information from documents. These documents with similar meanings will have embeddings that are closer together in the vector space, as we explored in the previous chapter. However, this time, the VectorStoreIndex does not automatically use the existing Deep Lake vector store. It can create a new in-memory vector index, re-embed the documents, and create a new index structure.)"
   ]
  },
  {
   "cell_type": "code",
   "execution_count": 23,
   "metadata": {
    "id": "PrBA5RZ3emV1"
   },
   "outputs": [],
   "source": [
    "from llama_index.core import VectorStoreIndex\n",
    "vector_store_index = VectorStoreIndex.from_documents(documents)"
   ]
  },
  {
   "cell_type": "code",
   "execution_count": 24,
   "metadata": {
    "colab": {
     "base_uri": "https://localhost:8080/"
    },
    "id": "uk_hTSdcbntf",
    "outputId": "d6112133-a2e6-4a7c-e074-1b8622c41dd6"
   },
   "outputs": [
    {
     "name": "stdout",
     "output_type": "stream",
     "text": [
      "<class 'llama_index.core.indices.vector_store.base.VectorStoreIndex'>\n"
     ]
    }
   ],
   "source": [
    "print(type(vector_store_index))"
   ]
  },
  {
   "cell_type": "markdown",
   "metadata": {},
   "source": [
    "(We now need a query engine to retrieve and synthesize the document(s) retrieved with an LLM—in our case, an OpenAI model)"
   ]
  },
  {
   "cell_type": "code",
   "execution_count": 25,
   "metadata": {
    "id": "w6g6JTOtemV9"
   },
   "outputs": [],
   "source": [
    "vector_query_engine = vector_store_index.as_query_engine(similarity_top_k=k, temperature=temp, num_output=mt)"
   ]
  },
  {
   "cell_type": "code",
   "execution_count": 26,
   "metadata": {
    "colab": {
     "base_uri": "https://localhost:8080/"
    },
    "id": "-Eq-AVSicTrg",
    "outputId": "9cedfb2a-0475-4cb8-c3ca-eae165d5c4a5"
   },
   "outputs": [
    {
     "name": "stdout",
     "output_type": "stream",
     "text": [
      "<class 'llama_index.core.query_engine.retriever_query_engine.RetrieverQueryEngine'>\n"
     ]
    }
   ],
   "source": [
    "print(type(vector_query_engine))"
   ]
  },
  {
   "cell_type": "markdown",
   "metadata": {
    "id": "RSAMGVyTmU9_"
   },
   "source": [
    "## Query response and source"
   ]
  },
  {
   "cell_type": "code",
   "execution_count": null,
   "metadata": {
    "id": "_4a9dRIdEeZa"
   },
   "outputs": [],
   "source": [
    "import pandas as pd\n",
    "import textwrap\n",
    "\n",
    "def index_query(input_query):\n",
    "    \n",
    "    # We can now query the dataset and generate a response ...\n",
    "    response = vector_query_engine.query(input_query)\n",
    "\n",
    "    # Optional: Print a formatted view of the response (remove if you don't need it in the output)\n",
    "    print(textwrap.fill(str(response), 100))\n",
    "\n",
    "    node_data = []\n",
    "    for node_with_score in response.source_nodes:\n",
    "        node = node_with_score.node\n",
    "        node_info = {\n",
    "            'Node ID': node.id_,\n",
    "            'Score': node_with_score.score,\n",
    "            'Text': node.text\n",
    "        }\n",
    "        node_data.append(node_info)\n",
    "\n",
    "    df = pd.DataFrame(node_data)\n",
    "\n",
    "    # Instead of printing, return the DataFrame and the response object\n",
    "    return df, response\n"
   ]
  },
  {
   "cell_type": "markdown",
   "metadata": {},
   "source": [
    "We will evaluate the time it takes for the query to retrieve the relevant data and generate a response synthesis with the LLM (in this case, an OpenAI model). The output of the semantic search first returns a response synthesized by the LLM:"
   ]
  },
  {
   "cell_type": "code",
   "execution_count": null,
   "metadata": {
    "colab": {
     "base_uri": "https://localhost:8080/"
    },
    "id": "QzZGn0aEEhza",
    "outputId": "6a73383f-3fb4-4ddc-f5d1-84b0074c88d5"
   },
   "outputs": [
    {
     "name": "stdout",
     "output_type": "stream",
     "text": [
      "Drones can identify vehicles using deep neural networks for visual detection and tracking. This\n",
      "technology provides a performance benchmark for unmanned aerial vehicles in recognizing and\n",
      "monitoring vehicles through video imagery.\n",
      "Query execution time: 1.1018 seconds\n",
      "| Node ID                              | Score    | Text                                                                                                                                                                                                                                                                                                                                                                                                                                                                                                                                                                                                                                                                                                                                                                                                                                                                                                                                                                                                                                                                                                                                                                                                                                                                                                                                                                                                                                                                                                                                                                                                                                                                                                                                                                                                                                                                                                                                                                                                                                                                                                                                                                                                                                                                                                                                                                                                                                                                                                                                                                                                                                                                                                                                                                                                                                                                                                                                                                                                                                                                                                                                                                                                                                                                                                                                                                                                                                                                                                                                                                                                                                                                                                                                                                                                                                                                                                                                                                                                                                                                                                                                                                                                                                                                                                                                                                                                                                                                                                                                                                                                                                                                                                                                                                                                                                                                                                      |\n",
      "|:-------------------------------------|:---------|:----------------------------------------------------------------------------------------------------------------------------------------------------------------------------------------------------------------------------------------------------------------------------------------------------------------------------------------------------------------------------------------------------------------------------------------------------------------------------------------------------------------------------------------------------------------------------------------------------------------------------------------------------------------------------------------------------------------------------------------------------------------------------------------------------------------------------------------------------------------------------------------------------------------------------------------------------------------------------------------------------------------------------------------------------------------------------------------------------------------------------------------------------------------------------------------------------------------------------------------------------------------------------------------------------------------------------------------------------------------------------------------------------------------------------------------------------------------------------------------------------------------------------------------------------------------------------------------------------------------------------------------------------------------------------------------------------------------------------------------------------------------------------------------------------------------------------------------------------------------------------------------------------------------------------------------------------------------------------------------------------------------------------------------------------------------------------------------------------------------------------------------------------------------------------------------------------------------------------------------------------------------------------------------------------------------------------------------------------------------------------------------------------------------------------------------------------------------------------------------------------------------------------------------------------------------------------------------------------------------------------------------------------------------------------------------------------------------------------------------------------------------------------------------------------------------------------------------------------------------------------------------------------------------------------------------------------------------------------------------------------------------------------------------------------------------------------------------------------------------------------------------------------------------------------------------------------------------------------------------------------------------------------------------------------------------------------------------------------------------------------------------------------------------------------------------------------------------------------------------------------------------------------------------------------------------------------------------------------------------------------------------------------------------------------------------------------------------------------------------------------------------------------------------------------------------------------------------------------------------------------------------------------------------------------------------------------------------------------------------------------------------------------------------------------------------------------------------------------------------------------------------------------------------------------------------------------------------------------------------------------------------------------------------------------------------------------------------------------------------------------------------------------------------------------------------------------------------------------------------------------------------------------------------------------------------------------------------------------------------------------------------------------------------------------------------------------------------------------------------------------------------------------------------------------------------------------------------------------------------------------------------------------------|\n",
      "| 7af5f202-f026-4241-bdd6-56952aa390ab | 0.830934 | ['ISSN 16747755 .  Peterman V. 26 August 2015. Landslide Activity Monitoring with the Help of Unmanned Aerial Vehicle . The International Archives of the Photogrammetry Remote Sensing and Spatial Information Sciences . XL1W4 215218. Bibcode  2015ISPAr.XL1..215P . doi  10.5194isprsarchivesXL1W42152015 . ISSN 16821750 .  Global Agriculture Drones and Robots Market Analysis  Forecast 20182028  ResearchAndMarkets.com . finance.yahoo.com . Archived from the original on 7 July 2019 . Retrieved 23 May 2019 .  Africa Farming Problems Aided With Drone Technology . Drone Addicts . 12 March 2018. Archived from the original on 29 June 2018 . Retrieved 23 May 2019 .  Drones That Launch Flaming Balls Are Being Tested To Help Fight Wildfires . NPR.org . Archived from the original on 25 April 2018 . Retrieved 5 April 2018 .  Old JM Lin S H Franklin MJM 2019. Mapping out barenosed wombat  Vombatus ursinus  burrows with the use of a drone. BMC Ecology. 1939. DOI 10.1186s1289801902575  Faust Daniel R. 2015. Police Drones 1\\xa0ed.. New York The Rosen Publishing Group Inc. ISBN 9781508145028 . Archived from the original on 27 February 2023 . Retrieved 20 February 2020 .  Sindi  Zarei 15 September 2023. Drones in humanitarian aid  Can they be a gamechanger .  Dent Steve 16 October 2017. Drone hits a commercial plane for the first time in Canada . Engadget. Archived from the original on 16 October 2017 . Retrieved 16 October 2017 .  Tellman Julie 28 September 2018. Firstever recorded dronehot air balloon collision prompts safety conversation . Teton Valley News . Boise Idaho United States Boise PostRegister. Archived from the original on 3 October 2018 . Retrieved 3 October 2018 .  Drones need to be encouraged and people protected . The Economist . 26 January 2019. ProQuest 2171135630 . Archived from the original on 27 June 2020 . Retrieved 28 June 2020 .  Halon Eytan 21 December 2018. Israeli antidrone technology brings an end to Gatwick Airport chaos  International news  Jerusalem Post . jpost.com . Archived from the original on 22 December 2018 . Retrieved 22 December 2018 .  Matthew Weaver Damien Gayle Patrick Greenfield Frances Perraudin 20 December 2018. Military called in to help with Gatwick drone crisis . The Guardian . Archived from the original on 22 December 2018 . Retrieved 22 December 2018 .  In The Heat of the Moment Drones Are Getting in the Way of Firefighters . NPR.org . Archived from the original on 5 March 2018 . Retrieved 5 April 2018 .  Michael Martinez Paul Vercammen Ben Brumfield 18 July 2015. Drones visit California wildfire angering firefighters . CNN . Archived from the original on 8 November 2016 . Retrieved 22 August 2016 .  Medina Jennifer 19 July 2015. Chasing Video With Drones Hobbyists Imperil California Firefighting Efforts . The New York Times . Archived from the original on 21 July 2015  via NYTimes.com.  Rocha Veronica 21 July 2015. Attack on the drones Legislation could allow California firefighters to take them down . Archived from the original on 28 August 2016 . Retrieved 22 August 2016  via LA Times.  Prisons Work To Keep Out DrugSmuggling Drones . NPR.org . Archived from the original on 19 January 2018 . Retrieved 19 January 2018 .  Mike Mount Elaine Quijano. Iraqi insurgents hacked Predator drone feeds U.S. official indicates . CNN.com . Archived from the original on 5 March 2017 .']                                                                                                                                                                                                                                                                                                                                                                                                                                                                                                                                                                                                                                                                                                                                                                                                                                                                                                                                                                                                                                                                                                                                                                                                                                                                                                                                                                                                     |\n",
      "| 23860a3a-f74e-41b2-9a7d-d4f2b686c104 | 0.823743 | ['23  Degree of autonomy  edit  Drones could also be classified based on the degree of autonomy in their flight operations. ICAO classifies unmanned aircraft as either remotely piloted aircraft or fully autonomous.  24  Some UAVs offer intermediate degrees of autonomy. For example a vehicle may be remotely piloted in most contexts but have an autonomous returntobase operation. Some aircraft types may optionally fly manned or as UAVs which may include manned aircraft transformed into manned or Optionally Piloted UAVs OPVs. The flight of UAVs may operate under remote control by a human operator as remotely piloted aircraft  RPA  or with various degrees of autonomy  such as autopilot assistance up to fully autonomous aircraft that have no provision for human intervention.  25   26  Altitude  edit  Based on the altitude the following UAV classifications have been used at industry events such as ParcAberporth Unmanned Systems forum Handheld 2000\\xa0ft 600\\xa0m altitude about 2\\xa0km range Close 5000\\xa0ft 1500\\xa0m altitude up to 10\\xa0km range NATO type 10000\\xa0ft 3000\\xa0m altitude up to 50\\xa0km range Tactical 18000\\xa0ft 5500\\xa0m altitude about 160\\xa0km range MALE medium altitude long endurance up to 30000\\xa0ft 9000\\xa0m and range over 200\\xa0km HALE high altitude long endurance over 30000\\xa0ft 9100\\xa0m and indefinite range Hypersonic highspeed supersonic Mach 15 or hypersonic Mach 5 50000\\xa0ft 15200\\xa0m or suborbital altitude range over 200\\xa0km Orbital low Earth orbit Mach 25 CIS Lunar EarthMoon transfer Computer Assisted Carrier Guidance System CACGS for UAVs Composite criteria  edit  An example of classification based on the composite criteria is U.S. Militarys unmanned aerial systems UAS classification of UAVs based on weight maximum altitude and speed of the UAV component. Power Sources  edit  UAVs can be classified based on their power or energy source which significantly impacts their flight duration range and environmental impact. The main categories include Batterypowered Electric These UAVs use rechargeable batteries offering quiet operation and lower maintenance but potentially limited flight times. The reduced noise levels make them suitable for urban environments and sensitive operations.  27  Fuelpowered Internal Combustion Utilizing traditional fuels like gasoline or diesel these UAVs often have longer flight times but may be noisier and require more maintenance. They are typically used for applications requiring extended endurance or heavy payload capacity.  28  Hybrid Combining electric and fuel power sources hybrid UAVs aim to balance the benefits of both systems for improved performance and efficiency. This configuration could allow for versatility in mission profiles and adaptability to different operational requirements.  29  Solarpowered Equipped with solar panels these UAVs can potentially achieve extended flight times by harnessing solar energy especially at high altitudes. Solarpowered UAVs may be particularly suited for longendurance missions and environmental monitoring applications.  30  Nuclearpowered While nuclear power has been explored for larger aircraft its application in UAVs remains largely theoretical due to safety concerns and regulatory challenges. Research in this area is ongoing but faces significant hurdles before practical implementation.  31  Hydrogen Fuel Cell An emerging technology hydrogen fuel cells offer the potential for longer flight times with zero emissions though the technology is still developing for widespread UAV use. The high energy density of hydrogen makes it a promising option for future UAV propulsion systems.  32  History  edit  Main article History of unmanned aerial vehicles Winston Churchill and others waiting to watch the launch of a de Havilland Queen Bee target drone  6 June 1941 A Ryan Firebee  one of a series of target dronesunpiloted aerial vehicles that first flew in 1951. Israeli Air Force Museum  Hatzerim airbase Israel 2006 Last preparations before the first tactical UAV mission across the Suez canal 1969. Standing Major Shabtai Brill from the Israeli intelligence corps the innovator of the tactical UAV. The Israeli Tadiran Mastiff  which first flew in 1975 is seen by many as the first modern battlefield UAV due to its datalink system enduranceloitering and live videostreaming.  33  Early drones  edit  The earliest recorded use of an unmanned aerial vehicle for warfighting occurred in July 1849  34  with a balloon carrier the precursor to the aircraft carrier   35  in the first offensive use of air power in naval aviation .  36   37   38  Austrian forces besieging Venice attempted to launch some 200 incendiary balloons at the besieged city.'] |\n",
      "| b5ddccde-2c64-4776-8098-72e351882656 | 0.823266 | ['Medina Jennifer 19 July 2015. Chasing Video With Drones Hobbyists Imperil California Firefighting Efforts . The New York Times . Archived from the original on 21 July 2015  via NYTimes.com.  Rocha Veronica 21 July 2015. Attack on the drones Legislation could allow California firefighters to take them down . Archived from the original on 28 August 2016 . Retrieved 22 August 2016  via LA Times.  Prisons Work To Keep Out DrugSmuggling Drones . NPR.org . Archived from the original on 19 January 2018 . Retrieved 19 January 2018 .  Mike Mount Elaine Quijano. Iraqi insurgents hacked Predator drone feeds U.S. official indicates . CNN.com . Archived from the original on 5 March 2017 . Retrieved 6 December 2016 .  Walters Sander 29 October 2016. How Can Drones Be Hacked The updated list of vulnerable drones  attack tools . Medium . Archived from the original on 23 July 2018 . Retrieved 6 December 2016 .  Glaser April 4 January 2017. The U.S. government showed just how easy it is to hack drones made by Parrot DBPower and Cheerson . Recode . Archived from the original on 5 January 2017 . Retrieved 6 January 2017 .  Antidrone technology to be test flown on UK base amid terror fears . 6 March 2017. Archived from the original on 7 May 2017 . Retrieved 9 May 2017 .  IsaacMedina Brian K. S. Poyser Matthew Organisciak Daniel Willcocks Chris G. Breckon Toby P. Shum Hubert P. H. 2021. Unmanned Aerial Vehicle Visual Detection and Tracking using Deep Neural Networks A Performance Benchmark . pp.\\xa012231232. arXiv  2103.13933 .  Organisciak Daniel Poyser Matthew Alsehaim Aishah Hu Shanfeng IsaacMedina Brian K. S. Breckon Toby P. Shum Hubert P. H. 2022. UAVReID A Benchmark on Unmanned Aerial Vehicle Reidentification in Video Imagery. Proceedings of the 17th International Joint Conference on Computer Vision Imaging and Computer Graphics Theory and Applications . SciTePress. pp.\\xa0136146. arXiv  2104.06219 . doi  10.52200010836600003124 . ISBN 9789897585555 .  Heathrow picks CUAS to combat drone disruption . Archived from the original on 9 November 2019 . Retrieved 13 March 2019 .  Muscat International Airport to install USD10 million Aaronia counterUAS system . 21 January 2019. Archived from the original on 9 November 2019 . Retrieved 21 January 2019 .  GrandClément Sarah Bajon Theò 19 October 2022. Uncrewed Aerial Systems A Primer . United Nations Institute for Disarmament Research . Archived from the original on 5 January 2023 . Retrieved 5 January 2023 .  cite journal    CS1 maint bot original URL status unknown  link   Hartley John Shum Hubert P. H. Ho Edmond S. L. Wang He Ramamoorthy Subramanian 2022. Formation Control for UAVs Using a Flux Guided Approach. Expert Systems with Applications . 205 . Elsevier 117665. arXiv  2103.09184 . doi  10.1016j.eswa.2022.117665 . ISSN 09574174 . S2CID 232240581 .  What is unmanned traffic management . Airbus . Archived from the original on 8 February 2021 . Retrieved 28 January 2021 .  Cary Leslie Coyne James. ICAO Unmanned Aircraft Systems UAS Circular 328. 20112012 UAS Yearbook  UAS The Global Perspective PDF . Blyenburgh  Co. pp.\\xa0112115. Archived from the original PDF on 4 March 2016 . Retrieved 26 February 2022 .  Boedecker Hendrik.']                                                                                                                                                                                                                                                                                                                                                                                                                                                                                                                                                                                                                                                                                                                                                                                                                                                                                                                                                                                                                                                                                                                                                                                                                                                                                                                                                                                                                                                                                                                                                      |\n"
     ]
    }
   ],
   "source": [
    "import time\n",
    "\n",
    "#start the timer\n",
    "start_time = time.time()\n",
    "df, response = index_query(user_input)\n",
    "# Stop the timer\n",
    "end_time = time.time()\n",
    "\n",
    "# Calculate and print the execution time\n",
    "elapsed_time = end_time - start_time\n",
    "\n",
    "print(f\"Query execution time: {elapsed_time:.4f} seconds\")\n",
    "print(df.to_markdown(index=False, numalign=\"left\", stralign=\"left\"))  # Display the DataFrame using markdown"
   ]
  },
  {
   "cell_type": "markdown",
   "metadata": {
    "id": "l1fnBnGFcejp"
   },
   "source": [
    "Node information and relationships"
   ]
  },
  {
   "cell_type": "markdown",
   "metadata": {},
   "source": [
    "The ID of the node guarantees full transparency and can be traced back to the original document, even when the index engines re-index the dataset. We can obtain the node source of the first node, for example, with the following code:"
   ]
  },
  {
   "cell_type": "code",
   "execution_count": 30,
   "metadata": {
    "colab": {
     "base_uri": "https://localhost:8080/",
     "height": 36
    },
    "id": "uqhXA3Fxd11A",
    "outputId": "d634b0bf-1c10-4f4b-e15e-4b5ac0e07546"
   },
   "outputs": [
    {
     "data": {
      "text/plain": [
       "'7af5f202-f026-4241-bdd6-56952aa390ab'"
      ]
     },
     "execution_count": 30,
     "metadata": {},
     "output_type": "execute_result"
    }
   ],
   "source": [
    "nodeid=response.source_nodes[0].node_id\n",
    "nodeid"
   ]
  },
  {
   "cell_type": "markdown",
   "metadata": {},
   "source": [
    "We can drill down and retrieve the full text of the node containing the document that was synthesized by the LLM:"
   ]
  },
  {
   "cell_type": "code",
   "execution_count": 31,
   "metadata": {
    "colab": {
     "base_uri": "https://localhost:8080/",
     "height": 250
    },
    "collapsed": true,
    "id": "iuRhyM8NfyGn",
    "outputId": "44bad28f-9f3e-4f1b-8e9e-5a9989f0089b"
   },
   "outputs": [
    {
     "data": {
      "text/plain": [
       "\"['ISSN 16747755 .  Peterman V. 26 August 2015. Landslide Activity Monitoring with the Help of Unmanned Aerial Vehicle . The International Archives of the Photogrammetry Remote Sensing and Spatial Information Sciences . XL1W4 215218. Bibcode  2015ISPAr.XL1..215P . doi  10.5194isprsarchivesXL1W42152015 . ISSN 16821750 .  Global Agriculture Drones and Robots Market Analysis  Forecast 20182028  ResearchAndMarkets.com . finance.yahoo.com . Archived from the original on 7 July 2019 . Retrieved 23 May 2019 .  Africa Farming Problems Aided With Drone Technology . Drone Addicts . 12 March 2018. Archived from the original on 29 June 2018 . Retrieved 23 May 2019 .  Drones That Launch Flaming Balls Are Being Tested To Help Fight Wildfires . NPR.org . Archived from the original on 25 April 2018 . Retrieved 5 April 2018 .  Old JM Lin S H Franklin MJM 2019. Mapping out barenosed wombat  Vombatus ursinus  burrows with the use of a drone. BMC Ecology. 1939. DOI 10.1186s1289801902575  Faust Daniel R. 2015. Police Drones 1\\\\xa0ed.. New York The Rosen Publishing Group Inc. ISBN 9781508145028 . Archived from the original on 27 February 2023 . Retrieved 20 February 2020 .  Sindi  Zarei 15 September 2023. Drones in humanitarian aid  Can they be a gamechanger .  Dent Steve 16 October 2017. Drone hits a commercial plane for the first time in Canada . Engadget. Archived from the original on 16 October 2017 . Retrieved 16 October 2017 .  Tellman Julie 28 September 2018. Firstever recorded dronehot air balloon collision prompts safety conversation . Teton Valley News . Boise Idaho United States Boise PostRegister. Archived from the original on 3 October 2018 . Retrieved 3 October 2018 .  Drones need to be encouraged and people protected . The Economist . 26 January 2019. ProQuest 2171135630 . Archived from the original on 27 June 2020 . Retrieved 28 June 2020 .  Halon Eytan 21 December 2018. Israeli antidrone technology brings an end to Gatwick Airport chaos  International news  Jerusalem Post . jpost.com . Archived from the original on 22 December 2018 . Retrieved 22 December 2018 .  Matthew Weaver Damien Gayle Patrick Greenfield Frances Perraudin 20 December 2018. Military called in to help with Gatwick drone crisis . The Guardian . Archived from the original on 22 December 2018 . Retrieved 22 December 2018 .  In The Heat of the Moment Drones Are Getting in the Way of Firefighters . NPR.org . Archived from the original on 5 March 2018 . Retrieved 5 April 2018 .  Michael Martinez Paul Vercammen Ben Brumfield 18 July 2015. Drones visit California wildfire angering firefighters . CNN . Archived from the original on 8 November 2016 . Retrieved 22 August 2016 .  Medina Jennifer 19 July 2015. Chasing Video With Drones Hobbyists Imperil California Firefighting Efforts . The New York Times . Archived from the original on 21 July 2015  via NYTimes.com.  Rocha Veronica 21 July 2015. Attack on the drones Legislation could allow California firefighters to take them down . Archived from the original on 28 August 2016 . Retrieved 22 August 2016  via LA Times.  Prisons Work To Keep Out DrugSmuggling Drones . NPR.org . Archived from the original on 19 January 2018 . Retrieved 19 January 2018 .  Mike Mount Elaine Quijano. Iraqi insurgents hacked Predator drone feeds U.S. official indicates . CNN.com . Archived from the original on 5 March 2017 .']\""
      ]
     },
     "execution_count": 31,
     "metadata": {},
     "output_type": "execute_result"
    }
   ],
   "source": [
    "response.source_nodes[0].get_text()"
   ]
  },
  {
   "cell_type": "markdown",
   "metadata": {
    "id": "lDDyAsa-oswp"
   },
   "source": [
    "## Optimized chunking"
   ]
  },
  {
   "cell_type": "code",
   "execution_count": null,
   "metadata": {
    "colab": {
     "base_uri": "https://localhost:8080/"
    },
    "id": "MmW4MFSdopQE",
    "outputId": "4f6994a4-0cbc-4b60-d47f-a69c60897369"
   },
   "outputs": [
    {
     "name": "stdout",
     "output_type": "stream",
     "text": [
      "Node ID: 7af5f202-f026-4241-bdd6-56952aa390ab, Chunk Size: 3365 characters\n",
      "Node ID: 23860a3a-f74e-41b2-9a7d-d4f2b686c104, Chunk Size: 4713 characters\n",
      "Node ID: b5ddccde-2c64-4776-8098-72e351882656, Chunk Size: 3220 characters\n"
     ]
    }
   ],
   "source": [
    "# Assuming you have the 'response' object from query_engine.query()\n",
    "\n",
    "for node_with_score in response.source_nodes:\n",
    "\n",
    "    node = node_with_score.node  # Extract the Node object from NodeWithScore\n",
    "    chunk_size = len(node.text)\n",
    "    \n",
    "    print(f\"Node ID: {node.id_}, Chunk Size: {chunk_size} characters\")"
   ]
  },
  {
   "cell_type": "markdown",
   "metadata": {
    "id": "_XQiH9ImiHW8"
   },
   "source": [
    "## Performance metric"
   ]
  },
  {
   "cell_type": "markdown",
   "metadata": {},
   "source": [
    "We will also implement a performance metric based on the accuracy of the queries and the time elapsed. This function calculates and prints a performance metric for a query, along with its execution time. The metric is based on the weighted average relevance scores of the retrieved information, divided by the time it took to get the results. Higher scores indicate better performance."
   ]
  },
  {
   "cell_type": "code",
   "execution_count": null,
   "metadata": {
    "id": "4g_H0caBiHW9"
   },
   "outputs": [],
   "source": [
    "import numpy as np\n",
    "\n",
    "def info_metrics(response):\n",
    "  \n",
    "  # Calculate the performance (handling None scores)\n",
    "  scores = [node.score for node in response.source_nodes if node.score is not None]\n",
    "  \n",
    "  if scores:  # Check if there are any valid scores\n",
    "      weights = np.exp(scores) / np.sum(np.exp(scores))\n",
    "      perf = np.average(scores, weights=weights) / elapsed_time\n",
    "  else:\n",
    "      perf = 0  # Or some other default value if all scores are None\n",
    "\n",
    "  average_score=np.average(scores, weights=weights)\n",
    "  print(f\"Average score: {average_score:.4f}\")\n",
    "  print(f\"Query execution time: {elapsed_time:.4f} seconds\")\n",
    "  print(f\"Performance metric: {perf:.4f}\")"
   ]
  },
  {
   "cell_type": "code",
   "execution_count": 34,
   "metadata": {
    "colab": {
     "base_uri": "https://localhost:8080/"
    },
    "id": "-3K48RuAiHW9",
    "outputId": "a08aa841-d5a8-4a5e-ddfb-ff4d3416c8b1"
   },
   "outputs": [
    {
     "name": "stdout",
     "output_type": "stream",
     "text": [
      "Average score: 0.8260\n",
      "Query execution time: 1.1018 seconds\n",
      "Performance metric: 0.7497\n"
     ]
    }
   ],
   "source": [
    "info_metrics(response)"
   ]
  },
  {
   "cell_type": "markdown",
   "metadata": {},
   "source": [
    "This performance metric is not an absolute value. It’s an indicator that we can use to compare this output with the other index engines. It may also vary from one run to another, due to the stochastic nature of machine learning algorithms. Additionally, the quality of the output depends on the user’s subjective perception. In any case, this metric will help compare the query engines’ performances in this chapter."
   ]
  },
  {
   "cell_type": "markdown",
   "metadata": {
    "id": "_dqduDJ6rn7M"
   },
   "source": [
    "# Tree index query engine"
   ]
  },
  {
   "cell_type": "markdown",
   "metadata": {},
   "source": [
    "(The second type of llama_index we will look as is the TreeIndex. This index engine is a hierarchical index that organizes data into a tree structure. It uses a tree-based data structure to store and retrieve data, which can improve query performance and efficiency.)\n",
    "\n",
    "The tree index organizes documents in a tree structure, with broader summaries at higher levels and detailed information at lower levels. Each node in the tree summarizes the text it covers. The tree index is efficient for large datasets and queries large collections of documents rapidly by breaking them down into manageable optimized chunks. Thus, the optimization of the tree structure allows for rapid retrieval by traversing the relevant nodes without wasting time."
   ]
  },
  {
   "cell_type": "code",
   "execution_count": null,
   "metadata": {
    "id": "l-YeiE-PrpjV"
   },
   "outputs": [],
   "source": [
    "from llama_index.core import TreeIndex\n",
    "tree_index = TreeIndex.from_documents(documents)\n",
    "# 33.2s"
   ]
  },
  {
   "cell_type": "code",
   "execution_count": 36,
   "metadata": {
    "colab": {
     "base_uri": "https://localhost:8080/"
    },
    "id": "Hb5pji6Sr5rc",
    "outputId": "a5e9ce2c-2014-44c7-c2fa-8b961ffc525a"
   },
   "outputs": [
    {
     "name": "stdout",
     "output_type": "stream",
     "text": [
      "<class 'llama_index.core.indices.tree.base.TreeIndex'>\n"
     ]
    }
   ],
   "source": [
    "print(type(tree_index))"
   ]
  },
  {
   "cell_type": "code",
   "execution_count": 37,
   "metadata": {
    "id": "vXx5PyzVsId_"
   },
   "outputs": [],
   "source": [
    "tree_query_engine = tree_index.as_query_engine(similarity_top_k=k, temperature=temp, num_output=mt)"
   ]
  },
  {
   "cell_type": "code",
   "execution_count": 38,
   "metadata": {
    "colab": {
     "base_uri": "https://localhost:8080/"
    },
    "id": "b8E9RQz3sPM6",
    "outputId": "77aae17b-9ae0-49cd-bb14-f34abc1ef0ab"
   },
   "outputs": [
    {
     "name": "stdout",
     "output_type": "stream",
     "text": [
      "Query execution time: 4.7330 seconds\n",
      "Drones identify vehicles using computer vision techniques, which involve processing images or video\n",
      "captured by the drone's camera. This process typically includes using convolutional neural networks\n",
      "(CNNs) to analyze the visual data and recognize patterns that correspond to vehicles. By leveraging\n",
      "CNNs, drones can detect and classify vehicles based on features learned during training, allowing\n",
      "them to identify different types of vehicles with a high degree of accuracy.\n"
     ]
    }
   ],
   "source": [
    "import time\n",
    "import textwrap\n",
    "# Start the timer\n",
    "start_time = time.time()\n",
    "response = tree_query_engine.query(user_input)\n",
    "# Stop the timer\n",
    "end_time = time.time()\n",
    "# Calculate and print the execution time\n",
    "elapsed_time = end_time - start_time\n",
    "print(f\"Query execution time: {elapsed_time:.4f} seconds\")\n",
    "\n",
    "print(textwrap.fill(str(response), 100))"
   ]
  },
  {
   "cell_type": "markdown",
   "metadata": {
    "id": "vQxSpKTOSSHr"
   },
   "source": [
    "## Performance metric"
   ]
  },
  {
   "cell_type": "code",
   "execution_count": 39,
   "metadata": {
    "colab": {
     "base_uri": "https://localhost:8080/"
    },
    "id": "F8Cqhr1sSYRC",
    "outputId": "4545afac-7d09-4865-b415-f9d33d70ea08"
   },
   "outputs": [
    {
     "name": "stdout",
     "output_type": "stream",
     "text": [
      "Cosine Similarity Score: 0.773\n",
      "Query execution time: 4.7330 seconds\n",
      "Performance metric: 0.1634\n"
     ]
    }
   ],
   "source": [
    "similarity_score = calculate_cosine_similarity_with_embeddings(user_input, str(response))\n",
    "print(f\"Cosine Similarity Score: {similarity_score:.3f}\")\n",
    "print(f\"Query execution time: {elapsed_time:.4f} seconds\")\n",
    "performance=similarity_score/elapsed_time\n",
    "print(f\"Performance metric: {performance:.4f}\")"
   ]
  },
  {
   "cell_type": "markdown",
   "metadata": {
    "id": "3fOB37e6sWaJ"
   },
   "source": [
    "# List index query engine"
   ]
  },
  {
   "cell_type": "code",
   "execution_count": 40,
   "metadata": {
    "id": "pleYlYs3tInK"
   },
   "outputs": [],
   "source": [
    "from llama_index.core import ListIndex\n",
    "list_index = ListIndex.from_documents(documents)"
   ]
  },
  {
   "cell_type": "code",
   "execution_count": 41,
   "metadata": {
    "colab": {
     "base_uri": "https://localhost:8080/"
    },
    "id": "2vo8re-wtHpR",
    "outputId": "f8000c23-bc15-40b7-a5bd-d421a8a6a97b"
   },
   "outputs": [
    {
     "name": "stdout",
     "output_type": "stream",
     "text": [
      "<class 'llama_index.core.indices.list.base.SummaryIndex'>\n"
     ]
    }
   ],
   "source": [
    "print(type(list_index))"
   ]
  },
  {
   "cell_type": "code",
   "execution_count": 42,
   "metadata": {
    "id": "gtFOCgNutZd3"
   },
   "outputs": [],
   "source": [
    "list_query_engine = list_index.as_query_engine(similarity_top_k=k, temperature=temp, num_output=mt)"
   ]
  },
  {
   "cell_type": "code",
   "execution_count": 43,
   "metadata": {
    "colab": {
     "base_uri": "https://localhost:8080/"
    },
    "id": "Bf3KTyc2tnzA",
    "outputId": "93a607fb-94ea-41b5-c9f7-cffe27d45b24"
   },
   "outputs": [
    {
     "name": "stdout",
     "output_type": "stream",
     "text": [
      "Query execution time: 16.3979 seconds\n",
      "Drones can identify vehicles through computer vision systems that process image data captured by\n",
      "cameras mounted on the drones. These systems use algorithms to analyze the images, detect specific\n",
      "objects like vehicles, and determine their locations within the scene. By recognizing patterns and\n",
      "features in the images, drones can effectively identify vehicles as part of their visual\n",
      "surveillance capabilities.\n"
     ]
    }
   ],
   "source": [
    "#start the timer\n",
    "start_time = time.time()\n",
    "response = list_query_engine.query(user_input)\n",
    "# Stop the timer\n",
    "end_time = time.time()\n",
    "# Calculate and print the execution time\n",
    "elapsed_time = end_time - start_time\n",
    "print(f\"Query execution time: {elapsed_time:.4f} seconds\")\n",
    "\n",
    "print(textwrap.fill(str(response), 100))"
   ]
  },
  {
   "cell_type": "markdown",
   "metadata": {
    "id": "0gSORzLPbGRS"
   },
   "source": [
    "## Performance metric"
   ]
  },
  {
   "cell_type": "code",
   "execution_count": 44,
   "metadata": {
    "colab": {
     "base_uri": "https://localhost:8080/"
    },
    "id": "tfTWqYP3bBeY",
    "outputId": "93b4821c-4dc6-4c4e-fbcf-7efa26085262"
   },
   "outputs": [
    {
     "name": "stdout",
     "output_type": "stream",
     "text": [
      "Cosine Similarity Score: 0.800\n",
      "Query execution time: 16.3979 seconds\n",
      "Performance metric: 0.0488\n"
     ]
    }
   ],
   "source": [
    "similarity_score = calculate_cosine_similarity_with_embeddings(user_input, str(response))\n",
    "print(f\"Cosine Similarity Score: {similarity_score:.3f}\")\n",
    "print(f\"Query execution time: {elapsed_time:.4f} seconds\")\n",
    "performance=similarity_score/elapsed_time\n",
    "print(f\"Performance metric: {performance:.4f}\")"
   ]
  },
  {
   "cell_type": "markdown",
   "metadata": {
    "id": "B55WzTYgtw_0"
   },
   "source": [
    "# Keyword index query index"
   ]
  },
  {
   "cell_type": "code",
   "execution_count": null,
   "metadata": {
    "id": "MGVAYCqxtE7L"
   },
   "outputs": [],
   "source": [
    "from llama_index.core import KeywordTableIndex\n",
    "keyword_index = KeywordTableIndex.from_documents(documents)\n",
    "\n",
    "# 2m 20.1s"
   ]
  },
  {
   "cell_type": "code",
   "execution_count": 46,
   "metadata": {
    "colab": {
     "base_uri": "https://localhost:8080/",
     "height": 423
    },
    "id": "tp9vEYoCuEBl",
    "outputId": "054ab841-b0e8-4ab0-a943-8782b485d346"
   },
   "outputs": [
    {
     "data": {
      "text/html": [
       "<div>\n",
       "<style scoped>\n",
       "    .dataframe tbody tr th:only-of-type {\n",
       "        vertical-align: middle;\n",
       "    }\n",
       "\n",
       "    .dataframe tbody tr th {\n",
       "        vertical-align: top;\n",
       "    }\n",
       "\n",
       "    .dataframe thead th {\n",
       "        text-align: right;\n",
       "    }\n",
       "</style>\n",
       "<table border=\"1\" class=\"dataframe\">\n",
       "  <thead>\n",
       "    <tr style=\"text-align: right;\">\n",
       "      <th></th>\n",
       "      <th>Keyword</th>\n",
       "      <th>Document ID</th>\n",
       "    </tr>\n",
       "  </thead>\n",
       "  <tbody>\n",
       "    <tr>\n",
       "      <th>0</th>\n",
       "      <td>kerr black holes</td>\n",
       "      <td>cc87361d-e2a2-4271-bbb7-166de3dcd632</td>\n",
       "    </tr>\n",
       "    <tr>\n",
       "      <th>1</th>\n",
       "      <td>black</td>\n",
       "      <td>cc87361d-e2a2-4271-bbb7-166de3dcd632</td>\n",
       "    </tr>\n",
       "    <tr>\n",
       "      <th>2</th>\n",
       "      <td>energy</td>\n",
       "      <td>cc87361d-e2a2-4271-bbb7-166de3dcd632</td>\n",
       "    </tr>\n",
       "    <tr>\n",
       "      <th>3</th>\n",
       "      <td>binary</td>\n",
       "      <td>cc87361d-e2a2-4271-bbb7-166de3dcd632</td>\n",
       "    </tr>\n",
       "    <tr>\n",
       "      <th>4</th>\n",
       "      <td>nhek black hole</td>\n",
       "      <td>cc87361d-e2a2-4271-bbb7-166de3dcd632</td>\n",
       "    </tr>\n",
       "    <tr>\n",
       "      <th>...</th>\n",
       "      <td>...</td>\n",
       "      <td>...</td>\n",
       "    </tr>\n",
       "    <tr>\n",
       "      <th>4993</th>\n",
       "      <td>intelligent drones</td>\n",
       "      <td>0c8e9428-232f-4454-9860-91e919b12c63</td>\n",
       "    </tr>\n",
       "    <tr>\n",
       "      <th>4994</th>\n",
       "      <td>range</td>\n",
       "      <td>0c8e9428-232f-4454-9860-91e919b12c63</td>\n",
       "    </tr>\n",
       "    <tr>\n",
       "      <th>4995</th>\n",
       "      <td>wikimedia</td>\n",
       "      <td>0c8e9428-232f-4454-9860-91e919b12c63</td>\n",
       "    </tr>\n",
       "    <tr>\n",
       "      <th>4996</th>\n",
       "      <td>future of warfare</td>\n",
       "      <td>0c8e9428-232f-4454-9860-91e919b12c63</td>\n",
       "    </tr>\n",
       "    <tr>\n",
       "      <th>4997</th>\n",
       "      <td>wikimedia commons</td>\n",
       "      <td>0c8e9428-232f-4454-9860-91e919b12c63</td>\n",
       "    </tr>\n",
       "  </tbody>\n",
       "</table>\n",
       "<p>4998 rows × 2 columns</p>\n",
       "</div>"
      ],
      "text/plain": [
       "                 Keyword                           Document ID\n",
       "0       kerr black holes  cc87361d-e2a2-4271-bbb7-166de3dcd632\n",
       "1                  black  cc87361d-e2a2-4271-bbb7-166de3dcd632\n",
       "2                 energy  cc87361d-e2a2-4271-bbb7-166de3dcd632\n",
       "3                 binary  cc87361d-e2a2-4271-bbb7-166de3dcd632\n",
       "4        nhek black hole  cc87361d-e2a2-4271-bbb7-166de3dcd632\n",
       "...                  ...                                   ...\n",
       "4993  intelligent drones  0c8e9428-232f-4454-9860-91e919b12c63\n",
       "4994               range  0c8e9428-232f-4454-9860-91e919b12c63\n",
       "4995           wikimedia  0c8e9428-232f-4454-9860-91e919b12c63\n",
       "4996   future of warfare  0c8e9428-232f-4454-9860-91e919b12c63\n",
       "4997   wikimedia commons  0c8e9428-232f-4454-9860-91e919b12c63\n",
       "\n",
       "[4998 rows x 2 columns]"
      ]
     },
     "execution_count": 46,
     "metadata": {},
     "output_type": "execute_result"
    }
   ],
   "source": [
    "# Extract data for DataFrame\n",
    "data = []\n",
    "for keyword, doc_ids in keyword_index.index_struct.table.items():\n",
    "    for doc_id in doc_ids:\n",
    "        data.append({\"Keyword\": keyword, \"Document ID\": doc_id})\n",
    "\n",
    "# Create the DataFrame\n",
    "df = pd.DataFrame(data)\n",
    "df"
   ]
  },
  {
   "cell_type": "code",
   "execution_count": 47,
   "metadata": {
    "id": "ix5glq4iuUk5"
   },
   "outputs": [],
   "source": [
    "keyword_query_engine = keyword_index.as_query_engine(similarity_top_k=k, temperature=temp, num_output=mt)"
   ]
  },
  {
   "cell_type": "code",
   "execution_count": 48,
   "metadata": {
    "colab": {
     "base_uri": "https://localhost:8080/"
    },
    "id": "tC8YzxoxuZSH",
    "outputId": "a7991305-5d49-4a8d-cc57-20163fe7d2f4"
   },
   "outputs": [
    {
     "name": "stdout",
     "output_type": "stream",
     "text": [
      "Query execution time: 1.8592 seconds\n",
      "Drones are used for various applications such as environmental monitoring, precision agriculture,\n",
      "geological hazard studies, and more. They are equipped with sensors like radar, optical, and thermal\n",
      "cameras to capture images and data. These sensors help drones in identifying vehicles by providing\n",
      "visual information and data analysis capabilities.\n"
     ]
    }
   ],
   "source": [
    "import time\n",
    "\n",
    "# Start the timer\n",
    "start_time = time.time()\n",
    "\n",
    "# Execute the query (using .query() method)\n",
    "response = keyword_query_engine.query(user_input)\n",
    "\n",
    "# Stop the timer\n",
    "end_time = time.time()\n",
    "\n",
    "# Calculate and print the execution time\n",
    "elapsed_time = end_time - start_time\n",
    "print(f\"Query execution time: {elapsed_time:.4f} seconds\")\n",
    "\n",
    "print(textwrap.fill(str(response), 100))"
   ]
  },
  {
   "cell_type": "markdown",
   "metadata": {
    "id": "Ay1I5OY2bWcM"
   },
   "source": [
    "## Performance metric"
   ]
  },
  {
   "cell_type": "code",
   "execution_count": 49,
   "metadata": {
    "colab": {
     "base_uri": "https://localhost:8080/"
    },
    "id": "DfdJI586bWcN",
    "outputId": "5ff09dbf-a541-46e5-e090-bf863bf23d17"
   },
   "outputs": [
    {
     "name": "stdout",
     "output_type": "stream",
     "text": [
      "Cosine Similarity Score: 0.693\n",
      "Query execution time: 1.8592 seconds\n",
      "Performance metric: 0.3725\n"
     ]
    }
   ],
   "source": [
    "similarity_score = calculate_cosine_similarity_with_embeddings(user_input, str(response))\n",
    "print(f\"Cosine Similarity Score: {similarity_score:.3f}\")\n",
    "print(f\"Query execution time: {elapsed_time:.4f} seconds\")\n",
    "performance=similarity_score/elapsed_time\n",
    "print(f\"Performance metric: {performance:.4f}\")"
   ]
  }
 ],
 "metadata": {
  "colab": {
   "provenance": [],
   "toc_visible": true
  },
  "kernelspec": {
   "display_name": "rag_genai",
   "language": "python",
   "name": "python3"
  },
  "language_info": {
   "codemirror_mode": {
    "name": "ipython",
    "version": 3
   },
   "file_extension": ".py",
   "mimetype": "text/x-python",
   "name": "python",
   "nbconvert_exporter": "python",
   "pygments_lexer": "ipython3",
   "version": "3.11.10"
  },
  "widgets": {
   "application/vnd.jupyter.widget-state+json": {
    "02a9765b794e4e70b07a3a4ec8ecb997": {
     "model_module": "@jupyter-widgets/controls",
     "model_module_version": "1.5.0",
     "model_name": "HBoxModel",
     "state": {
      "_dom_classes": [],
      "_model_module": "@jupyter-widgets/controls",
      "_model_module_version": "1.5.0",
      "_model_name": "HBoxModel",
      "_view_count": null,
      "_view_module": "@jupyter-widgets/controls",
      "_view_module_version": "1.5.0",
      "_view_name": "HBoxView",
      "box_style": "",
      "children": [
       "IPY_MODEL_63b464fe718d475c82a783c576e4e7e4",
       "IPY_MODEL_d0fe22d5e8454ed4b9e997c7efc2f3d7",
       "IPY_MODEL_5fbaa6d4aca844ba919022644923163f"
      ],
      "layout": "IPY_MODEL_b5a10ec452f84dd9860b2be34d7c97ea"
     }
    },
    "067d4c1d55954e9ca6d238eff7f61842": {
     "model_module": "@jupyter-widgets/controls",
     "model_module_version": "1.5.0",
     "model_name": "HBoxModel",
     "state": {
      "_dom_classes": [],
      "_model_module": "@jupyter-widgets/controls",
      "_model_module_version": "1.5.0",
      "_model_name": "HBoxModel",
      "_view_count": null,
      "_view_module": "@jupyter-widgets/controls",
      "_view_module_version": "1.5.0",
      "_view_name": "HBoxView",
      "box_style": "",
      "children": [
       "IPY_MODEL_e977817388dd436d828608b12c091248",
       "IPY_MODEL_8d62e32492f04f55ae67425c2fcf512c",
       "IPY_MODEL_bcf6ae696e9b4c098a5c48b6f3b5140c"
      ],
      "layout": "IPY_MODEL_5f12cb2e604e4bf18a085fb68a873f74"
     }
    },
    "07670af9cfd3490bac902eae4afa8366": {
     "model_module": "@jupyter-widgets/base",
     "model_module_version": "1.2.0",
     "model_name": "LayoutModel",
     "state": {
      "_model_module": "@jupyter-widgets/base",
      "_model_module_version": "1.2.0",
      "_model_name": "LayoutModel",
      "_view_count": null,
      "_view_module": "@jupyter-widgets/base",
      "_view_module_version": "1.2.0",
      "_view_name": "LayoutView",
      "align_content": null,
      "align_items": null,
      "align_self": null,
      "border": null,
      "bottom": null,
      "display": null,
      "flex": null,
      "flex_flow": null,
      "grid_area": null,
      "grid_auto_columns": null,
      "grid_auto_flow": null,
      "grid_auto_rows": null,
      "grid_column": null,
      "grid_gap": null,
      "grid_row": null,
      "grid_template_areas": null,
      "grid_template_columns": null,
      "grid_template_rows": null,
      "height": null,
      "justify_content": null,
      "justify_items": null,
      "left": null,
      "margin": null,
      "max_height": null,
      "max_width": null,
      "min_height": null,
      "min_width": null,
      "object_fit": null,
      "object_position": null,
      "order": null,
      "overflow": null,
      "overflow_x": null,
      "overflow_y": null,
      "padding": null,
      "right": null,
      "top": null,
      "visibility": null,
      "width": null
     }
    },
    "096a6a46299547dcb839445fc3fa3181": {
     "model_module": "@jupyter-widgets/base",
     "model_module_version": "1.2.0",
     "model_name": "LayoutModel",
     "state": {
      "_model_module": "@jupyter-widgets/base",
      "_model_module_version": "1.2.0",
      "_model_name": "LayoutModel",
      "_view_count": null,
      "_view_module": "@jupyter-widgets/base",
      "_view_module_version": "1.2.0",
      "_view_name": "LayoutView",
      "align_content": null,
      "align_items": null,
      "align_self": null,
      "border": null,
      "bottom": null,
      "display": null,
      "flex": null,
      "flex_flow": null,
      "grid_area": null,
      "grid_auto_columns": null,
      "grid_auto_flow": null,
      "grid_auto_rows": null,
      "grid_column": null,
      "grid_gap": null,
      "grid_row": null,
      "grid_template_areas": null,
      "grid_template_columns": null,
      "grid_template_rows": null,
      "height": null,
      "justify_content": null,
      "justify_items": null,
      "left": null,
      "margin": null,
      "max_height": null,
      "max_width": null,
      "min_height": null,
      "min_width": null,
      "object_fit": null,
      "object_position": null,
      "order": null,
      "overflow": null,
      "overflow_x": null,
      "overflow_y": null,
      "padding": null,
      "right": null,
      "top": null,
      "visibility": null,
      "width": null
     }
    },
    "0c37310991754eff8d567074c875c31a": {
     "model_module": "@jupyter-widgets/controls",
     "model_module_version": "1.5.0",
     "model_name": "HTMLModel",
     "state": {
      "_dom_classes": [],
      "_model_module": "@jupyter-widgets/controls",
      "_model_module_version": "1.5.0",
      "_model_name": "HTMLModel",
      "_view_count": null,
      "_view_module": "@jupyter-widgets/controls",
      "_view_module_version": "1.5.0",
      "_view_name": "HTMLView",
      "description": "",
      "description_tooltip": null,
      "layout": "IPY_MODEL_2fda031473724105a01ed00d38737afd",
      "placeholder": "​",
      "style": "IPY_MODEL_19b056141d144c03bdd2722eafe83afd",
      "value": " 53.0/53.0 [00:00&lt;00:00, 2.42kB/s]"
     }
    },
    "0f82b4d09a28415eb5fec3ede7070b8b": {
     "model_module": "@jupyter-widgets/controls",
     "model_module_version": "1.5.0",
     "model_name": "HTMLModel",
     "state": {
      "_dom_classes": [],
      "_model_module": "@jupyter-widgets/controls",
      "_model_module_version": "1.5.0",
      "_model_name": "HTMLModel",
      "_view_count": null,
      "_view_module": "@jupyter-widgets/controls",
      "_view_module_version": "1.5.0",
      "_view_name": "HTMLView",
      "description": "",
      "description_tooltip": null,
      "layout": "IPY_MODEL_f5b52141dab24c5cbbed6a498612429c",
      "placeholder": "​",
      "style": "IPY_MODEL_5bf1dbb8810940b7b87a5b587926d838",
      "value": " 116/116 [00:00&lt;00:00, 5.64kB/s]"
     }
    },
    "127dfa2057be45bbb1c521766d85e145": {
     "model_module": "@jupyter-widgets/base",
     "model_module_version": "1.2.0",
     "model_name": "LayoutModel",
     "state": {
      "_model_module": "@jupyter-widgets/base",
      "_model_module_version": "1.2.0",
      "_model_name": "LayoutModel",
      "_view_count": null,
      "_view_module": "@jupyter-widgets/base",
      "_view_module_version": "1.2.0",
      "_view_name": "LayoutView",
      "align_content": null,
      "align_items": null,
      "align_self": null,
      "border": null,
      "bottom": null,
      "display": null,
      "flex": null,
      "flex_flow": null,
      "grid_area": null,
      "grid_auto_columns": null,
      "grid_auto_flow": null,
      "grid_auto_rows": null,
      "grid_column": null,
      "grid_gap": null,
      "grid_row": null,
      "grid_template_areas": null,
      "grid_template_columns": null,
      "grid_template_rows": null,
      "height": null,
      "justify_content": null,
      "justify_items": null,
      "left": null,
      "margin": null,
      "max_height": null,
      "max_width": null,
      "min_height": null,
      "min_width": null,
      "object_fit": null,
      "object_position": null,
      "order": null,
      "overflow": null,
      "overflow_x": null,
      "overflow_y": null,
      "padding": null,
      "right": null,
      "top": null,
      "visibility": null,
      "width": null
     }
    },
    "13921712c22b4877835cbd4b23adc8db": {
     "model_module": "@jupyter-widgets/controls",
     "model_module_version": "1.5.0",
     "model_name": "ProgressStyleModel",
     "state": {
      "_model_module": "@jupyter-widgets/controls",
      "_model_module_version": "1.5.0",
      "_model_name": "ProgressStyleModel",
      "_view_count": null,
      "_view_module": "@jupyter-widgets/base",
      "_view_module_version": "1.2.0",
      "_view_name": "StyleView",
      "bar_color": null,
      "description_width": ""
     }
    },
    "174ee1af6f7441ffbaf6d61b6ff97633": {
     "model_module": "@jupyter-widgets/base",
     "model_module_version": "1.2.0",
     "model_name": "LayoutModel",
     "state": {
      "_model_module": "@jupyter-widgets/base",
      "_model_module_version": "1.2.0",
      "_model_name": "LayoutModel",
      "_view_count": null,
      "_view_module": "@jupyter-widgets/base",
      "_view_module_version": "1.2.0",
      "_view_name": "LayoutView",
      "align_content": null,
      "align_items": null,
      "align_self": null,
      "border": null,
      "bottom": null,
      "display": null,
      "flex": null,
      "flex_flow": null,
      "grid_area": null,
      "grid_auto_columns": null,
      "grid_auto_flow": null,
      "grid_auto_rows": null,
      "grid_column": null,
      "grid_gap": null,
      "grid_row": null,
      "grid_template_areas": null,
      "grid_template_columns": null,
      "grid_template_rows": null,
      "height": null,
      "justify_content": null,
      "justify_items": null,
      "left": null,
      "margin": null,
      "max_height": null,
      "max_width": null,
      "min_height": null,
      "min_width": null,
      "object_fit": null,
      "object_position": null,
      "order": null,
      "overflow": null,
      "overflow_x": null,
      "overflow_y": null,
      "padding": null,
      "right": null,
      "top": null,
      "visibility": null,
      "width": null
     }
    },
    "19029ea522324617bb7913e72377bf62": {
     "model_module": "@jupyter-widgets/controls",
     "model_module_version": "1.5.0",
     "model_name": "HBoxModel",
     "state": {
      "_dom_classes": [],
      "_model_module": "@jupyter-widgets/controls",
      "_model_module_version": "1.5.0",
      "_model_name": "HBoxModel",
      "_view_count": null,
      "_view_module": "@jupyter-widgets/controls",
      "_view_module_version": "1.5.0",
      "_view_name": "HBoxView",
      "box_style": "",
      "children": [
       "IPY_MODEL_34ed6c11d7c7436083e20ad66abb3fc1",
       "IPY_MODEL_608c011bd4054134bba8a16541511b62",
       "IPY_MODEL_0f82b4d09a28415eb5fec3ede7070b8b"
      ],
      "layout": "IPY_MODEL_44d9968e0fa64183a5f608b6b8f33498"
     }
    },
    "19b056141d144c03bdd2722eafe83afd": {
     "model_module": "@jupyter-widgets/controls",
     "model_module_version": "1.5.0",
     "model_name": "DescriptionStyleModel",
     "state": {
      "_model_module": "@jupyter-widgets/controls",
      "_model_module_version": "1.5.0",
      "_model_name": "DescriptionStyleModel",
      "_view_count": null,
      "_view_module": "@jupyter-widgets/base",
      "_view_module_version": "1.2.0",
      "_view_name": "StyleView",
      "description_width": ""
     }
    },
    "1a2cce0cb2354b5fb8c2e92ab221b77e": {
     "model_module": "@jupyter-widgets/base",
     "model_module_version": "1.2.0",
     "model_name": "LayoutModel",
     "state": {
      "_model_module": "@jupyter-widgets/base",
      "_model_module_version": "1.2.0",
      "_model_name": "LayoutModel",
      "_view_count": null,
      "_view_module": "@jupyter-widgets/base",
      "_view_module_version": "1.2.0",
      "_view_name": "LayoutView",
      "align_content": null,
      "align_items": null,
      "align_self": null,
      "border": null,
      "bottom": null,
      "display": null,
      "flex": null,
      "flex_flow": null,
      "grid_area": null,
      "grid_auto_columns": null,
      "grid_auto_flow": null,
      "grid_auto_rows": null,
      "grid_column": null,
      "grid_gap": null,
      "grid_row": null,
      "grid_template_areas": null,
      "grid_template_columns": null,
      "grid_template_rows": null,
      "height": null,
      "justify_content": null,
      "justify_items": null,
      "left": null,
      "margin": null,
      "max_height": null,
      "max_width": null,
      "min_height": null,
      "min_width": null,
      "object_fit": null,
      "object_position": null,
      "order": null,
      "overflow": null,
      "overflow_x": null,
      "overflow_y": null,
      "padding": null,
      "right": null,
      "top": null,
      "visibility": null,
      "width": null
     }
    },
    "1b69d3cc7c5a4f1387e29cfe6b68092f": {
     "model_module": "@jupyter-widgets/controls",
     "model_module_version": "1.5.0",
     "model_name": "DescriptionStyleModel",
     "state": {
      "_model_module": "@jupyter-widgets/controls",
      "_model_module_version": "1.5.0",
      "_model_name": "DescriptionStyleModel",
      "_view_count": null,
      "_view_module": "@jupyter-widgets/base",
      "_view_module_version": "1.2.0",
      "_view_name": "StyleView",
      "description_width": ""
     }
    },
    "1d191169bd5e476da884d5649651e3a5": {
     "model_module": "@jupyter-widgets/base",
     "model_module_version": "1.2.0",
     "model_name": "LayoutModel",
     "state": {
      "_model_module": "@jupyter-widgets/base",
      "_model_module_version": "1.2.0",
      "_model_name": "LayoutModel",
      "_view_count": null,
      "_view_module": "@jupyter-widgets/base",
      "_view_module_version": "1.2.0",
      "_view_name": "LayoutView",
      "align_content": null,
      "align_items": null,
      "align_self": null,
      "border": null,
      "bottom": null,
      "display": null,
      "flex": null,
      "flex_flow": null,
      "grid_area": null,
      "grid_auto_columns": null,
      "grid_auto_flow": null,
      "grid_auto_rows": null,
      "grid_column": null,
      "grid_gap": null,
      "grid_row": null,
      "grid_template_areas": null,
      "grid_template_columns": null,
      "grid_template_rows": null,
      "height": null,
      "justify_content": null,
      "justify_items": null,
      "left": null,
      "margin": null,
      "max_height": null,
      "max_width": null,
      "min_height": null,
      "min_width": null,
      "object_fit": null,
      "object_position": null,
      "order": null,
      "overflow": null,
      "overflow_x": null,
      "overflow_y": null,
      "padding": null,
      "right": null,
      "top": null,
      "visibility": null,
      "width": null
     }
    },
    "1de799b71c5441e498cd8d43d45b8366": {
     "model_module": "@jupyter-widgets/base",
     "model_module_version": "1.2.0",
     "model_name": "LayoutModel",
     "state": {
      "_model_module": "@jupyter-widgets/base",
      "_model_module_version": "1.2.0",
      "_model_name": "LayoutModel",
      "_view_count": null,
      "_view_module": "@jupyter-widgets/base",
      "_view_module_version": "1.2.0",
      "_view_name": "LayoutView",
      "align_content": null,
      "align_items": null,
      "align_self": null,
      "border": null,
      "bottom": null,
      "display": null,
      "flex": null,
      "flex_flow": null,
      "grid_area": null,
      "grid_auto_columns": null,
      "grid_auto_flow": null,
      "grid_auto_rows": null,
      "grid_column": null,
      "grid_gap": null,
      "grid_row": null,
      "grid_template_areas": null,
      "grid_template_columns": null,
      "grid_template_rows": null,
      "height": null,
      "justify_content": null,
      "justify_items": null,
      "left": null,
      "margin": null,
      "max_height": null,
      "max_width": null,
      "min_height": null,
      "min_width": null,
      "object_fit": null,
      "object_position": null,
      "order": null,
      "overflow": null,
      "overflow_x": null,
      "overflow_y": null,
      "padding": null,
      "right": null,
      "top": null,
      "visibility": null,
      "width": null
     }
    },
    "1e435a788e214f04a329ee79c182e3fb": {
     "model_module": "@jupyter-widgets/controls",
     "model_module_version": "1.5.0",
     "model_name": "DescriptionStyleModel",
     "state": {
      "_model_module": "@jupyter-widgets/controls",
      "_model_module_version": "1.5.0",
      "_model_name": "DescriptionStyleModel",
      "_view_count": null,
      "_view_module": "@jupyter-widgets/base",
      "_view_module_version": "1.2.0",
      "_view_name": "StyleView",
      "description_width": ""
     }
    },
    "1eeb9a3cff5d4545b58f95c5086faff1": {
     "model_module": "@jupyter-widgets/base",
     "model_module_version": "1.2.0",
     "model_name": "LayoutModel",
     "state": {
      "_model_module": "@jupyter-widgets/base",
      "_model_module_version": "1.2.0",
      "_model_name": "LayoutModel",
      "_view_count": null,
      "_view_module": "@jupyter-widgets/base",
      "_view_module_version": "1.2.0",
      "_view_name": "LayoutView",
      "align_content": null,
      "align_items": null,
      "align_self": null,
      "border": null,
      "bottom": null,
      "display": null,
      "flex": null,
      "flex_flow": null,
      "grid_area": null,
      "grid_auto_columns": null,
      "grid_auto_flow": null,
      "grid_auto_rows": null,
      "grid_column": null,
      "grid_gap": null,
      "grid_row": null,
      "grid_template_areas": null,
      "grid_template_columns": null,
      "grid_template_rows": null,
      "height": null,
      "justify_content": null,
      "justify_items": null,
      "left": null,
      "margin": null,
      "max_height": null,
      "max_width": null,
      "min_height": null,
      "min_width": null,
      "object_fit": null,
      "object_position": null,
      "order": null,
      "overflow": null,
      "overflow_x": null,
      "overflow_y": null,
      "padding": null,
      "right": null,
      "top": null,
      "visibility": null,
      "width": null
     }
    },
    "1f3854ce54dc4f3e86de64e3bdc19c04": {
     "model_module": "@jupyter-widgets/controls",
     "model_module_version": "1.5.0",
     "model_name": "FloatProgressModel",
     "state": {
      "_dom_classes": [],
      "_model_module": "@jupyter-widgets/controls",
      "_model_module_version": "1.5.0",
      "_model_name": "FloatProgressModel",
      "_view_count": null,
      "_view_module": "@jupyter-widgets/controls",
      "_view_module_version": "1.5.0",
      "_view_name": "ProgressView",
      "bar_style": "success",
      "description": "",
      "description_tooltip": null,
      "layout": "IPY_MODEL_490b14c2be0c49b59d1236fa4abcdfc4",
      "max": 350,
      "min": 0,
      "orientation": "horizontal",
      "style": "IPY_MODEL_5e925b068ff24337b56fde07d5467bea",
      "value": 350
     }
    },
    "1fe9c1d04a9741c0b4369e5838c8ae01": {
     "model_module": "@jupyter-widgets/base",
     "model_module_version": "1.2.0",
     "model_name": "LayoutModel",
     "state": {
      "_model_module": "@jupyter-widgets/base",
      "_model_module_version": "1.2.0",
      "_model_name": "LayoutModel",
      "_view_count": null,
      "_view_module": "@jupyter-widgets/base",
      "_view_module_version": "1.2.0",
      "_view_name": "LayoutView",
      "align_content": null,
      "align_items": null,
      "align_self": null,
      "border": null,
      "bottom": null,
      "display": null,
      "flex": null,
      "flex_flow": null,
      "grid_area": null,
      "grid_auto_columns": null,
      "grid_auto_flow": null,
      "grid_auto_rows": null,
      "grid_column": null,
      "grid_gap": null,
      "grid_row": null,
      "grid_template_areas": null,
      "grid_template_columns": null,
      "grid_template_rows": null,
      "height": null,
      "justify_content": null,
      "justify_items": null,
      "left": null,
      "margin": null,
      "max_height": null,
      "max_width": null,
      "min_height": null,
      "min_width": null,
      "object_fit": null,
      "object_position": null,
      "order": null,
      "overflow": null,
      "overflow_x": null,
      "overflow_y": null,
      "padding": null,
      "right": null,
      "top": null,
      "visibility": null,
      "width": null
     }
    },
    "214ac2d8f151418dac7da8c3368fdee8": {
     "model_module": "@jupyter-widgets/base",
     "model_module_version": "1.2.0",
     "model_name": "LayoutModel",
     "state": {
      "_model_module": "@jupyter-widgets/base",
      "_model_module_version": "1.2.0",
      "_model_name": "LayoutModel",
      "_view_count": null,
      "_view_module": "@jupyter-widgets/base",
      "_view_module_version": "1.2.0",
      "_view_name": "LayoutView",
      "align_content": null,
      "align_items": null,
      "align_self": null,
      "border": null,
      "bottom": null,
      "display": null,
      "flex": null,
      "flex_flow": null,
      "grid_area": null,
      "grid_auto_columns": null,
      "grid_auto_flow": null,
      "grid_auto_rows": null,
      "grid_column": null,
      "grid_gap": null,
      "grid_row": null,
      "grid_template_areas": null,
      "grid_template_columns": null,
      "grid_template_rows": null,
      "height": null,
      "justify_content": null,
      "justify_items": null,
      "left": null,
      "margin": null,
      "max_height": null,
      "max_width": null,
      "min_height": null,
      "min_width": null,
      "object_fit": null,
      "object_position": null,
      "order": null,
      "overflow": null,
      "overflow_x": null,
      "overflow_y": null,
      "padding": null,
      "right": null,
      "top": null,
      "visibility": null,
      "width": null
     }
    },
    "2154484deed74dd08cfb3e8f04927d7e": {
     "model_module": "@jupyter-widgets/controls",
     "model_module_version": "1.5.0",
     "model_name": "HBoxModel",
     "state": {
      "_dom_classes": [],
      "_model_module": "@jupyter-widgets/controls",
      "_model_module_version": "1.5.0",
      "_model_name": "HBoxModel",
      "_view_count": null,
      "_view_module": "@jupyter-widgets/controls",
      "_view_module_version": "1.5.0",
      "_view_name": "HBoxView",
      "box_style": "",
      "children": [
       "IPY_MODEL_f24c673424594b7eb6f0ffe39bf69513",
       "IPY_MODEL_bb8a471f3f684d928f925cb24317c2ba",
       "IPY_MODEL_ac0d11fd90f849c792120c73414a8a1e"
      ],
      "layout": "IPY_MODEL_8cd07f233f3f4f2b9ae9db13c757cd18"
     }
    },
    "216785bb035b45ebb02ed0547ff42577": {
     "model_module": "@jupyter-widgets/controls",
     "model_module_version": "1.5.0",
     "model_name": "ProgressStyleModel",
     "state": {
      "_model_module": "@jupyter-widgets/controls",
      "_model_module_version": "1.5.0",
      "_model_name": "ProgressStyleModel",
      "_view_count": null,
      "_view_module": "@jupyter-widgets/base",
      "_view_module_version": "1.2.0",
      "_view_name": "StyleView",
      "bar_color": null,
      "description_width": ""
     }
    },
    "25f95dbdedcc4e7c91b5d2951d025619": {
     "model_module": "@jupyter-widgets/base",
     "model_module_version": "1.2.0",
     "model_name": "LayoutModel",
     "state": {
      "_model_module": "@jupyter-widgets/base",
      "_model_module_version": "1.2.0",
      "_model_name": "LayoutModel",
      "_view_count": null,
      "_view_module": "@jupyter-widgets/base",
      "_view_module_version": "1.2.0",
      "_view_name": "LayoutView",
      "align_content": null,
      "align_items": null,
      "align_self": null,
      "border": null,
      "bottom": null,
      "display": null,
      "flex": null,
      "flex_flow": null,
      "grid_area": null,
      "grid_auto_columns": null,
      "grid_auto_flow": null,
      "grid_auto_rows": null,
      "grid_column": null,
      "grid_gap": null,
      "grid_row": null,
      "grid_template_areas": null,
      "grid_template_columns": null,
      "grid_template_rows": null,
      "height": null,
      "justify_content": null,
      "justify_items": null,
      "left": null,
      "margin": null,
      "max_height": null,
      "max_width": null,
      "min_height": null,
      "min_width": null,
      "object_fit": null,
      "object_position": null,
      "order": null,
      "overflow": null,
      "overflow_x": null,
      "overflow_y": null,
      "padding": null,
      "right": null,
      "top": null,
      "visibility": null,
      "width": null
     }
    },
    "27a092a272a54683a170ffa799f01611": {
     "model_module": "@jupyter-widgets/controls",
     "model_module_version": "1.5.0",
     "model_name": "ProgressStyleModel",
     "state": {
      "_model_module": "@jupyter-widgets/controls",
      "_model_module_version": "1.5.0",
      "_model_name": "ProgressStyleModel",
      "_view_count": null,
      "_view_module": "@jupyter-widgets/base",
      "_view_module_version": "1.2.0",
      "_view_name": "StyleView",
      "bar_color": null,
      "description_width": ""
     }
    },
    "27c3b9298cf64d3bbda0bd106b23e6ff": {
     "model_module": "@jupyter-widgets/base",
     "model_module_version": "1.2.0",
     "model_name": "LayoutModel",
     "state": {
      "_model_module": "@jupyter-widgets/base",
      "_model_module_version": "1.2.0",
      "_model_name": "LayoutModel",
      "_view_count": null,
      "_view_module": "@jupyter-widgets/base",
      "_view_module_version": "1.2.0",
      "_view_name": "LayoutView",
      "align_content": null,
      "align_items": null,
      "align_self": null,
      "border": null,
      "bottom": null,
      "display": null,
      "flex": null,
      "flex_flow": null,
      "grid_area": null,
      "grid_auto_columns": null,
      "grid_auto_flow": null,
      "grid_auto_rows": null,
      "grid_column": null,
      "grid_gap": null,
      "grid_row": null,
      "grid_template_areas": null,
      "grid_template_columns": null,
      "grid_template_rows": null,
      "height": null,
      "justify_content": null,
      "justify_items": null,
      "left": null,
      "margin": null,
      "max_height": null,
      "max_width": null,
      "min_height": null,
      "min_width": null,
      "object_fit": null,
      "object_position": null,
      "order": null,
      "overflow": null,
      "overflow_x": null,
      "overflow_y": null,
      "padding": null,
      "right": null,
      "top": null,
      "visibility": null,
      "width": null
     }
    },
    "2b7956880e364a01907fd4633d349257": {
     "model_module": "@jupyter-widgets/controls",
     "model_module_version": "1.5.0",
     "model_name": "DescriptionStyleModel",
     "state": {
      "_model_module": "@jupyter-widgets/controls",
      "_model_module_version": "1.5.0",
      "_model_name": "DescriptionStyleModel",
      "_view_count": null,
      "_view_module": "@jupyter-widgets/base",
      "_view_module_version": "1.2.0",
      "_view_name": "StyleView",
      "description_width": ""
     }
    },
    "2c6cd21e0d9b4d66a103421f6afb6313": {
     "model_module": "@jupyter-widgets/base",
     "model_module_version": "1.2.0",
     "model_name": "LayoutModel",
     "state": {
      "_model_module": "@jupyter-widgets/base",
      "_model_module_version": "1.2.0",
      "_model_name": "LayoutModel",
      "_view_count": null,
      "_view_module": "@jupyter-widgets/base",
      "_view_module_version": "1.2.0",
      "_view_name": "LayoutView",
      "align_content": null,
      "align_items": null,
      "align_self": null,
      "border": null,
      "bottom": null,
      "display": null,
      "flex": null,
      "flex_flow": null,
      "grid_area": null,
      "grid_auto_columns": null,
      "grid_auto_flow": null,
      "grid_auto_rows": null,
      "grid_column": null,
      "grid_gap": null,
      "grid_row": null,
      "grid_template_areas": null,
      "grid_template_columns": null,
      "grid_template_rows": null,
      "height": null,
      "justify_content": null,
      "justify_items": null,
      "left": null,
      "margin": null,
      "max_height": null,
      "max_width": null,
      "min_height": null,
      "min_width": null,
      "object_fit": null,
      "object_position": null,
      "order": null,
      "overflow": null,
      "overflow_x": null,
      "overflow_y": null,
      "padding": null,
      "right": null,
      "top": null,
      "visibility": null,
      "width": null
     }
    },
    "2ed533c6085c40b8b3c1d71895fd8f8e": {
     "model_module": "@jupyter-widgets/controls",
     "model_module_version": "1.5.0",
     "model_name": "DescriptionStyleModel",
     "state": {
      "_model_module": "@jupyter-widgets/controls",
      "_model_module_version": "1.5.0",
      "_model_name": "DescriptionStyleModel",
      "_view_count": null,
      "_view_module": "@jupyter-widgets/base",
      "_view_module_version": "1.2.0",
      "_view_name": "StyleView",
      "description_width": ""
     }
    },
    "2fda031473724105a01ed00d38737afd": {
     "model_module": "@jupyter-widgets/base",
     "model_module_version": "1.2.0",
     "model_name": "LayoutModel",
     "state": {
      "_model_module": "@jupyter-widgets/base",
      "_model_module_version": "1.2.0",
      "_model_name": "LayoutModel",
      "_view_count": null,
      "_view_module": "@jupyter-widgets/base",
      "_view_module_version": "1.2.0",
      "_view_name": "LayoutView",
      "align_content": null,
      "align_items": null,
      "align_self": null,
      "border": null,
      "bottom": null,
      "display": null,
      "flex": null,
      "flex_flow": null,
      "grid_area": null,
      "grid_auto_columns": null,
      "grid_auto_flow": null,
      "grid_auto_rows": null,
      "grid_column": null,
      "grid_gap": null,
      "grid_row": null,
      "grid_template_areas": null,
      "grid_template_columns": null,
      "grid_template_rows": null,
      "height": null,
      "justify_content": null,
      "justify_items": null,
      "left": null,
      "margin": null,
      "max_height": null,
      "max_width": null,
      "min_height": null,
      "min_width": null,
      "object_fit": null,
      "object_position": null,
      "order": null,
      "overflow": null,
      "overflow_x": null,
      "overflow_y": null,
      "padding": null,
      "right": null,
      "top": null,
      "visibility": null,
      "width": null
     }
    },
    "310fe91747ff4c1bb1f4552ed311c1db": {
     "model_module": "@jupyter-widgets/controls",
     "model_module_version": "1.5.0",
     "model_name": "DescriptionStyleModel",
     "state": {
      "_model_module": "@jupyter-widgets/controls",
      "_model_module_version": "1.5.0",
      "_model_name": "DescriptionStyleModel",
      "_view_count": null,
      "_view_module": "@jupyter-widgets/base",
      "_view_module_version": "1.2.0",
      "_view_name": "StyleView",
      "description_width": ""
     }
    },
    "33c8476d2f9f42ae976c3953e9ff4efb": {
     "model_module": "@jupyter-widgets/base",
     "model_module_version": "1.2.0",
     "model_name": "LayoutModel",
     "state": {
      "_model_module": "@jupyter-widgets/base",
      "_model_module_version": "1.2.0",
      "_model_name": "LayoutModel",
      "_view_count": null,
      "_view_module": "@jupyter-widgets/base",
      "_view_module_version": "1.2.0",
      "_view_name": "LayoutView",
      "align_content": null,
      "align_items": null,
      "align_self": null,
      "border": null,
      "bottom": null,
      "display": null,
      "flex": null,
      "flex_flow": null,
      "grid_area": null,
      "grid_auto_columns": null,
      "grid_auto_flow": null,
      "grid_auto_rows": null,
      "grid_column": null,
      "grid_gap": null,
      "grid_row": null,
      "grid_template_areas": null,
      "grid_template_columns": null,
      "grid_template_rows": null,
      "height": null,
      "justify_content": null,
      "justify_items": null,
      "left": null,
      "margin": null,
      "max_height": null,
      "max_width": null,
      "min_height": null,
      "min_width": null,
      "object_fit": null,
      "object_position": null,
      "order": null,
      "overflow": null,
      "overflow_x": null,
      "overflow_y": null,
      "padding": null,
      "right": null,
      "top": null,
      "visibility": null,
      "width": null
     }
    },
    "34b402eb223a4fd79dffd0ca19c63c06": {
     "model_module": "@jupyter-widgets/controls",
     "model_module_version": "1.5.0",
     "model_name": "DescriptionStyleModel",
     "state": {
      "_model_module": "@jupyter-widgets/controls",
      "_model_module_version": "1.5.0",
      "_model_name": "DescriptionStyleModel",
      "_view_count": null,
      "_view_module": "@jupyter-widgets/base",
      "_view_module_version": "1.2.0",
      "_view_name": "StyleView",
      "description_width": ""
     }
    },
    "34d3c9c19bfa469f9f1f46ad4312c6ec": {
     "model_module": "@jupyter-widgets/base",
     "model_module_version": "1.2.0",
     "model_name": "LayoutModel",
     "state": {
      "_model_module": "@jupyter-widgets/base",
      "_model_module_version": "1.2.0",
      "_model_name": "LayoutModel",
      "_view_count": null,
      "_view_module": "@jupyter-widgets/base",
      "_view_module_version": "1.2.0",
      "_view_name": "LayoutView",
      "align_content": null,
      "align_items": null,
      "align_self": null,
      "border": null,
      "bottom": null,
      "display": null,
      "flex": null,
      "flex_flow": null,
      "grid_area": null,
      "grid_auto_columns": null,
      "grid_auto_flow": null,
      "grid_auto_rows": null,
      "grid_column": null,
      "grid_gap": null,
      "grid_row": null,
      "grid_template_areas": null,
      "grid_template_columns": null,
      "grid_template_rows": null,
      "height": null,
      "justify_content": null,
      "justify_items": null,
      "left": null,
      "margin": null,
      "max_height": null,
      "max_width": null,
      "min_height": null,
      "min_width": null,
      "object_fit": null,
      "object_position": null,
      "order": null,
      "overflow": null,
      "overflow_x": null,
      "overflow_y": null,
      "padding": null,
      "right": null,
      "top": null,
      "visibility": null,
      "width": null
     }
    },
    "34ed6c11d7c7436083e20ad66abb3fc1": {
     "model_module": "@jupyter-widgets/controls",
     "model_module_version": "1.5.0",
     "model_name": "HTMLModel",
     "state": {
      "_dom_classes": [],
      "_model_module": "@jupyter-widgets/controls",
      "_model_module_version": "1.5.0",
      "_model_name": "HTMLModel",
      "_view_count": null,
      "_view_module": "@jupyter-widgets/controls",
      "_view_module_version": "1.5.0",
      "_view_name": "HTMLView",
      "description": "",
      "description_tooltip": null,
      "layout": "IPY_MODEL_ba5d71929e2e4528b255208f25f5a748",
      "placeholder": "​",
      "style": "IPY_MODEL_46d6352d9a77487288cc0dcb7a5a0e48",
      "value": "config_sentence_transformers.json: 100%"
     }
    },
    "34f196b7436f491299089297187fd827": {
     "model_module": "@jupyter-widgets/controls",
     "model_module_version": "1.5.0",
     "model_name": "HTMLModel",
     "state": {
      "_dom_classes": [],
      "_model_module": "@jupyter-widgets/controls",
      "_model_module_version": "1.5.0",
      "_model_name": "HTMLModel",
      "_view_count": null,
      "_view_module": "@jupyter-widgets/controls",
      "_view_module_version": "1.5.0",
      "_view_name": "HTMLView",
      "description": "",
      "description_tooltip": null,
      "layout": "IPY_MODEL_fa5cc8cb8486411487895e0cf9e762c1",
      "placeholder": "​",
      "style": "IPY_MODEL_e9fcd26342844355b5dfad06906a9af1",
      "value": "special_tokens_map.json: 100%"
     }
    },
    "377e04ba9541484c813431660bc2adda": {
     "model_module": "@jupyter-widgets/controls",
     "model_module_version": "1.5.0",
     "model_name": "HTMLModel",
     "state": {
      "_dom_classes": [],
      "_model_module": "@jupyter-widgets/controls",
      "_model_module_version": "1.5.0",
      "_model_name": "HTMLModel",
      "_view_count": null,
      "_view_module": "@jupyter-widgets/controls",
      "_view_module_version": "1.5.0",
      "_view_name": "HTMLView",
      "description": "",
      "description_tooltip": null,
      "layout": "IPY_MODEL_e317caf2f64d4023a6166fec375270fb",
      "placeholder": "​",
      "style": "IPY_MODEL_feda893ba90445a89c693c80d53a6e6c",
      "value": " 612/612 [00:00&lt;00:00, 32.7kB/s]"
     }
    },
    "3eda09f6739846c28d84eaa5de971841": {
     "model_module": "@jupyter-widgets/controls",
     "model_module_version": "1.5.0",
     "model_name": "HBoxModel",
     "state": {
      "_dom_classes": [],
      "_model_module": "@jupyter-widgets/controls",
      "_model_module_version": "1.5.0",
      "_model_name": "HBoxModel",
      "_view_count": null,
      "_view_module": "@jupyter-widgets/controls",
      "_view_module_version": "1.5.0",
      "_view_name": "HBoxView",
      "box_style": "",
      "children": [
       "IPY_MODEL_4975186362f74f70a5e26a67a256ff1f",
       "IPY_MODEL_1f3854ce54dc4f3e86de64e3bdc19c04",
       "IPY_MODEL_55081fab141f4b6ab9783100a448b3f2"
      ],
      "layout": "IPY_MODEL_2c6cd21e0d9b4d66a103421f6afb6313"
     }
    },
    "401a8e15c8454be3bae1049eb4e606ed": {
     "model_module": "@jupyter-widgets/controls",
     "model_module_version": "1.5.0",
     "model_name": "ProgressStyleModel",
     "state": {
      "_model_module": "@jupyter-widgets/controls",
      "_model_module_version": "1.5.0",
      "_model_name": "ProgressStyleModel",
      "_view_count": null,
      "_view_module": "@jupyter-widgets/base",
      "_view_module_version": "1.2.0",
      "_view_name": "StyleView",
      "bar_color": null,
      "description_width": ""
     }
    },
    "41c34e2632f04aa2a67cc1578e37c348": {
     "model_module": "@jupyter-widgets/controls",
     "model_module_version": "1.5.0",
     "model_name": "DescriptionStyleModel",
     "state": {
      "_model_module": "@jupyter-widgets/controls",
      "_model_module_version": "1.5.0",
      "_model_name": "DescriptionStyleModel",
      "_view_count": null,
      "_view_module": "@jupyter-widgets/base",
      "_view_module_version": "1.2.0",
      "_view_name": "StyleView",
      "description_width": ""
     }
    },
    "44d9968e0fa64183a5f608b6b8f33498": {
     "model_module": "@jupyter-widgets/base",
     "model_module_version": "1.2.0",
     "model_name": "LayoutModel",
     "state": {
      "_model_module": "@jupyter-widgets/base",
      "_model_module_version": "1.2.0",
      "_model_name": "LayoutModel",
      "_view_count": null,
      "_view_module": "@jupyter-widgets/base",
      "_view_module_version": "1.2.0",
      "_view_name": "LayoutView",
      "align_content": null,
      "align_items": null,
      "align_self": null,
      "border": null,
      "bottom": null,
      "display": null,
      "flex": null,
      "flex_flow": null,
      "grid_area": null,
      "grid_auto_columns": null,
      "grid_auto_flow": null,
      "grid_auto_rows": null,
      "grid_column": null,
      "grid_gap": null,
      "grid_row": null,
      "grid_template_areas": null,
      "grid_template_columns": null,
      "grid_template_rows": null,
      "height": null,
      "justify_content": null,
      "justify_items": null,
      "left": null,
      "margin": null,
      "max_height": null,
      "max_width": null,
      "min_height": null,
      "min_width": null,
      "object_fit": null,
      "object_position": null,
      "order": null,
      "overflow": null,
      "overflow_x": null,
      "overflow_y": null,
      "padding": null,
      "right": null,
      "top": null,
      "visibility": null,
      "width": null
     }
    },
    "45603466a3b34112a3a3f92988f05300": {
     "model_module": "@jupyter-widgets/controls",
     "model_module_version": "1.5.0",
     "model_name": "HBoxModel",
     "state": {
      "_dom_classes": [],
      "_model_module": "@jupyter-widgets/controls",
      "_model_module_version": "1.5.0",
      "_model_name": "HBoxModel",
      "_view_count": null,
      "_view_module": "@jupyter-widgets/controls",
      "_view_module_version": "1.5.0",
      "_view_name": "HBoxView",
      "box_style": "",
      "children": [
       "IPY_MODEL_69d6da3a3d7c45c382d92a52569b92eb",
       "IPY_MODEL_f21888b569e14b09980463cdcc480bda",
       "IPY_MODEL_57b56f88e61a48059900dd87a19b6464"
      ],
      "layout": "IPY_MODEL_27c3b9298cf64d3bbda0bd106b23e6ff"
     }
    },
    "46d6352d9a77487288cc0dcb7a5a0e48": {
     "model_module": "@jupyter-widgets/controls",
     "model_module_version": "1.5.0",
     "model_name": "DescriptionStyleModel",
     "state": {
      "_model_module": "@jupyter-widgets/controls",
      "_model_module_version": "1.5.0",
      "_model_name": "DescriptionStyleModel",
      "_view_count": null,
      "_view_module": "@jupyter-widgets/base",
      "_view_module_version": "1.2.0",
      "_view_name": "StyleView",
      "description_width": ""
     }
    },
    "490b14c2be0c49b59d1236fa4abcdfc4": {
     "model_module": "@jupyter-widgets/base",
     "model_module_version": "1.2.0",
     "model_name": "LayoutModel",
     "state": {
      "_model_module": "@jupyter-widgets/base",
      "_model_module_version": "1.2.0",
      "_model_name": "LayoutModel",
      "_view_count": null,
      "_view_module": "@jupyter-widgets/base",
      "_view_module_version": "1.2.0",
      "_view_name": "LayoutView",
      "align_content": null,
      "align_items": null,
      "align_self": null,
      "border": null,
      "bottom": null,
      "display": null,
      "flex": null,
      "flex_flow": null,
      "grid_area": null,
      "grid_auto_columns": null,
      "grid_auto_flow": null,
      "grid_auto_rows": null,
      "grid_column": null,
      "grid_gap": null,
      "grid_row": null,
      "grid_template_areas": null,
      "grid_template_columns": null,
      "grid_template_rows": null,
      "height": null,
      "justify_content": null,
      "justify_items": null,
      "left": null,
      "margin": null,
      "max_height": null,
      "max_width": null,
      "min_height": null,
      "min_width": null,
      "object_fit": null,
      "object_position": null,
      "order": null,
      "overflow": null,
      "overflow_x": null,
      "overflow_y": null,
      "padding": null,
      "right": null,
      "top": null,
      "visibility": null,
      "width": null
     }
    },
    "4975186362f74f70a5e26a67a256ff1f": {
     "model_module": "@jupyter-widgets/controls",
     "model_module_version": "1.5.0",
     "model_name": "HTMLModel",
     "state": {
      "_dom_classes": [],
      "_model_module": "@jupyter-widgets/controls",
      "_model_module_version": "1.5.0",
      "_model_name": "HTMLModel",
      "_view_count": null,
      "_view_module": "@jupyter-widgets/controls",
      "_view_module_version": "1.5.0",
      "_view_name": "HTMLView",
      "description": "",
      "description_tooltip": null,
      "layout": "IPY_MODEL_c5342e7d723a477dacc312b887385dfd",
      "placeholder": "​",
      "style": "IPY_MODEL_b3dcd109c3954f26a0717e6f706cbdf0",
      "value": "tokenizer_config.json: 100%"
     }
    },
    "4f1c192e224e4f8784150ae234f263fc": {
     "model_module": "@jupyter-widgets/controls",
     "model_module_version": "1.5.0",
     "model_name": "FloatProgressModel",
     "state": {
      "_dom_classes": [],
      "_model_module": "@jupyter-widgets/controls",
      "_model_module_version": "1.5.0",
      "_model_name": "FloatProgressModel",
      "_view_count": null,
      "_view_module": "@jupyter-widgets/controls",
      "_view_module_version": "1.5.0",
      "_view_name": "ProgressView",
      "bar_style": "success",
      "description": "",
      "description_tooltip": null,
      "layout": "IPY_MODEL_d255872d231245c09663fb2f6676fad4",
      "max": 53,
      "min": 0,
      "orientation": "horizontal",
      "style": "IPY_MODEL_27a092a272a54683a170ffa799f01611",
      "value": 53
     }
    },
    "502332806e7b4ead99ce3e41a35551c3": {
     "model_module": "@jupyter-widgets/controls",
     "model_module_version": "1.5.0",
     "model_name": "DescriptionStyleModel",
     "state": {
      "_model_module": "@jupyter-widgets/controls",
      "_model_module_version": "1.5.0",
      "_model_name": "DescriptionStyleModel",
      "_view_count": null,
      "_view_module": "@jupyter-widgets/base",
      "_view_module_version": "1.2.0",
      "_view_name": "StyleView",
      "description_width": ""
     }
    },
    "53b7210c68954e5eb29ecc9785d1a2e8": {
     "model_module": "@jupyter-widgets/controls",
     "model_module_version": "1.5.0",
     "model_name": "DescriptionStyleModel",
     "state": {
      "_model_module": "@jupyter-widgets/controls",
      "_model_module_version": "1.5.0",
      "_model_name": "DescriptionStyleModel",
      "_view_count": null,
      "_view_module": "@jupyter-widgets/base",
      "_view_module_version": "1.2.0",
      "_view_name": "StyleView",
      "description_width": ""
     }
    },
    "55081fab141f4b6ab9783100a448b3f2": {
     "model_module": "@jupyter-widgets/controls",
     "model_module_version": "1.5.0",
     "model_name": "HTMLModel",
     "state": {
      "_dom_classes": [],
      "_model_module": "@jupyter-widgets/controls",
      "_model_module_version": "1.5.0",
      "_model_name": "HTMLModel",
      "_view_count": null,
      "_view_module": "@jupyter-widgets/controls",
      "_view_module_version": "1.5.0",
      "_view_name": "HTMLView",
      "description": "",
      "description_tooltip": null,
      "layout": "IPY_MODEL_994ae56df4bc4b6f9a9516324ed68b51",
      "placeholder": "​",
      "style": "IPY_MODEL_1e435a788e214f04a329ee79c182e3fb",
      "value": " 350/350 [00:00&lt;00:00, 8.46kB/s]"
     }
    },
    "5576fdd1d934469a99e9e3e21454f0f3": {
     "model_module": "@jupyter-widgets/base",
     "model_module_version": "1.2.0",
     "model_name": "LayoutModel",
     "state": {
      "_model_module": "@jupyter-widgets/base",
      "_model_module_version": "1.2.0",
      "_model_name": "LayoutModel",
      "_view_count": null,
      "_view_module": "@jupyter-widgets/base",
      "_view_module_version": "1.2.0",
      "_view_name": "LayoutView",
      "align_content": null,
      "align_items": null,
      "align_self": null,
      "border": null,
      "bottom": null,
      "display": null,
      "flex": null,
      "flex_flow": null,
      "grid_area": null,
      "grid_auto_columns": null,
      "grid_auto_flow": null,
      "grid_auto_rows": null,
      "grid_column": null,
      "grid_gap": null,
      "grid_row": null,
      "grid_template_areas": null,
      "grid_template_columns": null,
      "grid_template_rows": null,
      "height": null,
      "justify_content": null,
      "justify_items": null,
      "left": null,
      "margin": null,
      "max_height": null,
      "max_width": null,
      "min_height": null,
      "min_width": null,
      "object_fit": null,
      "object_position": null,
      "order": null,
      "overflow": null,
      "overflow_x": null,
      "overflow_y": null,
      "padding": null,
      "right": null,
      "top": null,
      "visibility": null,
      "width": null
     }
    },
    "57b56f88e61a48059900dd87a19b6464": {
     "model_module": "@jupyter-widgets/controls",
     "model_module_version": "1.5.0",
     "model_name": "HTMLModel",
     "state": {
      "_dom_classes": [],
      "_model_module": "@jupyter-widgets/controls",
      "_model_module_version": "1.5.0",
      "_model_name": "HTMLModel",
      "_view_count": null,
      "_view_module": "@jupyter-widgets/controls",
      "_view_module_version": "1.5.0",
      "_view_name": "HTMLView",
      "description": "",
      "description_tooltip": null,
      "layout": "IPY_MODEL_bace242e7f7148fc98fc0624b29d60ff",
      "placeholder": "​",
      "style": "IPY_MODEL_2ed533c6085c40b8b3c1d71895fd8f8e",
      "value": " 190/190 [00:00&lt;00:00, 9.90kB/s]"
     }
    },
    "5bf1dbb8810940b7b87a5b587926d838": {
     "model_module": "@jupyter-widgets/controls",
     "model_module_version": "1.5.0",
     "model_name": "DescriptionStyleModel",
     "state": {
      "_model_module": "@jupyter-widgets/controls",
      "_model_module_version": "1.5.0",
      "_model_name": "DescriptionStyleModel",
      "_view_count": null,
      "_view_module": "@jupyter-widgets/base",
      "_view_module_version": "1.2.0",
      "_view_name": "StyleView",
      "description_width": ""
     }
    },
    "5dbde136c0454bc1aea9b692f496a764": {
     "model_module": "@jupyter-widgets/controls",
     "model_module_version": "1.5.0",
     "model_name": "HTMLModel",
     "state": {
      "_dom_classes": [],
      "_model_module": "@jupyter-widgets/controls",
      "_model_module_version": "1.5.0",
      "_model_name": "HTMLModel",
      "_view_count": null,
      "_view_module": "@jupyter-widgets/controls",
      "_view_module_version": "1.5.0",
      "_view_name": "HTMLView",
      "description": "",
      "description_tooltip": null,
      "layout": "IPY_MODEL_b33e50a221dc44a8a6b1f3cd9ddf9bbb",
      "placeholder": "​",
      "style": "IPY_MODEL_1b69d3cc7c5a4f1387e29cfe6b68092f",
      "value": " 112/112 [00:00&lt;00:00, 4.91kB/s]"
     }
    },
    "5e925b068ff24337b56fde07d5467bea": {
     "model_module": "@jupyter-widgets/controls",
     "model_module_version": "1.5.0",
     "model_name": "ProgressStyleModel",
     "state": {
      "_model_module": "@jupyter-widgets/controls",
      "_model_module_version": "1.5.0",
      "_model_name": "ProgressStyleModel",
      "_view_count": null,
      "_view_module": "@jupyter-widgets/base",
      "_view_module_version": "1.2.0",
      "_view_name": "StyleView",
      "bar_color": null,
      "description_width": ""
     }
    },
    "5eb7a4237e1040c9afe090c33faa1a89": {
     "model_module": "@jupyter-widgets/controls",
     "model_module_version": "1.5.0",
     "model_name": "HBoxModel",
     "state": {
      "_dom_classes": [],
      "_model_module": "@jupyter-widgets/controls",
      "_model_module_version": "1.5.0",
      "_model_name": "HBoxModel",
      "_view_count": null,
      "_view_module": "@jupyter-widgets/controls",
      "_view_module_version": "1.5.0",
      "_view_name": "HBoxView",
      "box_style": "",
      "children": [
       "IPY_MODEL_b8104bab44ab419d823447bf35833574",
       "IPY_MODEL_7813436562104d8db92758afa7df9a0f",
       "IPY_MODEL_377e04ba9541484c813431660bc2adda"
      ],
      "layout": "IPY_MODEL_ad742bbb70fc4693924c5419d6403ec6"
     }
    },
    "5f12cb2e604e4bf18a085fb68a873f74": {
     "model_module": "@jupyter-widgets/base",
     "model_module_version": "1.2.0",
     "model_name": "LayoutModel",
     "state": {
      "_model_module": "@jupyter-widgets/base",
      "_model_module_version": "1.2.0",
      "_model_name": "LayoutModel",
      "_view_count": null,
      "_view_module": "@jupyter-widgets/base",
      "_view_module_version": "1.2.0",
      "_view_name": "LayoutView",
      "align_content": null,
      "align_items": null,
      "align_self": null,
      "border": null,
      "bottom": null,
      "display": null,
      "flex": null,
      "flex_flow": null,
      "grid_area": null,
      "grid_auto_columns": null,
      "grid_auto_flow": null,
      "grid_auto_rows": null,
      "grid_column": null,
      "grid_gap": null,
      "grid_row": null,
      "grid_template_areas": null,
      "grid_template_columns": null,
      "grid_template_rows": null,
      "height": null,
      "justify_content": null,
      "justify_items": null,
      "left": null,
      "margin": null,
      "max_height": null,
      "max_width": null,
      "min_height": null,
      "min_width": null,
      "object_fit": null,
      "object_position": null,
      "order": null,
      "overflow": null,
      "overflow_x": null,
      "overflow_y": null,
      "padding": null,
      "right": null,
      "top": null,
      "visibility": null,
      "width": null
     }
    },
    "5f29a32353f642e39372ac17a6adb6c3": {
     "model_module": "@jupyter-widgets/controls",
     "model_module_version": "1.5.0",
     "model_name": "ProgressStyleModel",
     "state": {
      "_model_module": "@jupyter-widgets/controls",
      "_model_module_version": "1.5.0",
      "_model_name": "ProgressStyleModel",
      "_view_count": null,
      "_view_module": "@jupyter-widgets/base",
      "_view_module_version": "1.2.0",
      "_view_name": "StyleView",
      "bar_color": null,
      "description_width": ""
     }
    },
    "5fbaa6d4aca844ba919022644923163f": {
     "model_module": "@jupyter-widgets/controls",
     "model_module_version": "1.5.0",
     "model_name": "HTMLModel",
     "state": {
      "_dom_classes": [],
      "_model_module": "@jupyter-widgets/controls",
      "_model_module_version": "1.5.0",
      "_model_name": "HTMLModel",
      "_view_count": null,
      "_view_module": "@jupyter-widgets/controls",
      "_view_module_version": "1.5.0",
      "_view_name": "HTMLView",
      "description": "",
      "description_tooltip": null,
      "layout": "IPY_MODEL_1fe9c1d04a9741c0b4369e5838c8ae01",
      "placeholder": "​",
      "style": "IPY_MODEL_41c34e2632f04aa2a67cc1578e37c348",
      "value": " 349/349 [00:00&lt;00:00, 19.9kB/s]"
     }
    },
    "608c011bd4054134bba8a16541511b62": {
     "model_module": "@jupyter-widgets/controls",
     "model_module_version": "1.5.0",
     "model_name": "FloatProgressModel",
     "state": {
      "_dom_classes": [],
      "_model_module": "@jupyter-widgets/controls",
      "_model_module_version": "1.5.0",
      "_model_name": "FloatProgressModel",
      "_view_count": null,
      "_view_module": "@jupyter-widgets/controls",
      "_view_module_version": "1.5.0",
      "_view_name": "ProgressView",
      "bar_style": "success",
      "description": "",
      "description_tooltip": null,
      "layout": "IPY_MODEL_214ac2d8f151418dac7da8c3368fdee8",
      "max": 116,
      "min": 0,
      "orientation": "horizontal",
      "style": "IPY_MODEL_e6e92bbf6789468b97da705bb0cc9bd3",
      "value": 116
     }
    },
    "61884f59a60247878582db0b73ea670a": {
     "model_module": "@jupyter-widgets/base",
     "model_module_version": "1.2.0",
     "model_name": "LayoutModel",
     "state": {
      "_model_module": "@jupyter-widgets/base",
      "_model_module_version": "1.2.0",
      "_model_name": "LayoutModel",
      "_view_count": null,
      "_view_module": "@jupyter-widgets/base",
      "_view_module_version": "1.2.0",
      "_view_name": "LayoutView",
      "align_content": null,
      "align_items": null,
      "align_self": null,
      "border": null,
      "bottom": null,
      "display": null,
      "flex": null,
      "flex_flow": null,
      "grid_area": null,
      "grid_auto_columns": null,
      "grid_auto_flow": null,
      "grid_auto_rows": null,
      "grid_column": null,
      "grid_gap": null,
      "grid_row": null,
      "grid_template_areas": null,
      "grid_template_columns": null,
      "grid_template_rows": null,
      "height": null,
      "justify_content": null,
      "justify_items": null,
      "left": null,
      "margin": null,
      "max_height": null,
      "max_width": null,
      "min_height": null,
      "min_width": null,
      "object_fit": null,
      "object_position": null,
      "order": null,
      "overflow": null,
      "overflow_x": null,
      "overflow_y": null,
      "padding": null,
      "right": null,
      "top": null,
      "visibility": null,
      "width": null
     }
    },
    "63b464fe718d475c82a783c576e4e7e4": {
     "model_module": "@jupyter-widgets/controls",
     "model_module_version": "1.5.0",
     "model_name": "HTMLModel",
     "state": {
      "_dom_classes": [],
      "_model_module": "@jupyter-widgets/controls",
      "_model_module_version": "1.5.0",
      "_model_name": "HTMLModel",
      "_view_count": null,
      "_view_module": "@jupyter-widgets/controls",
      "_view_module_version": "1.5.0",
      "_view_name": "HTMLView",
      "description": "",
      "description_tooltip": null,
      "layout": "IPY_MODEL_bc9cbb1bb3b54520a824af2995c89959",
      "placeholder": "​",
      "style": "IPY_MODEL_e4ae9e6d4ba345389efe85273eac0886",
      "value": "modules.json: 100%"
     }
    },
    "66d738a42f064b618349aefcf490aac9": {
     "model_module": "@jupyter-widgets/controls",
     "model_module_version": "1.5.0",
     "model_name": "HTMLModel",
     "state": {
      "_dom_classes": [],
      "_model_module": "@jupyter-widgets/controls",
      "_model_module_version": "1.5.0",
      "_model_name": "HTMLModel",
      "_view_count": null,
      "_view_module": "@jupyter-widgets/controls",
      "_view_module_version": "1.5.0",
      "_view_name": "HTMLView",
      "description": "",
      "description_tooltip": null,
      "layout": "IPY_MODEL_1d191169bd5e476da884d5649651e3a5",
      "placeholder": "​",
      "style": "IPY_MODEL_75620be3f4ad4d1e99809d1086c0e3ee",
      "value": " 466k/466k [00:00&lt;00:00, 9.58MB/s]"
     }
    },
    "69d6da3a3d7c45c382d92a52569b92eb": {
     "model_module": "@jupyter-widgets/controls",
     "model_module_version": "1.5.0",
     "model_name": "HTMLModel",
     "state": {
      "_dom_classes": [],
      "_model_module": "@jupyter-widgets/controls",
      "_model_module_version": "1.5.0",
      "_model_name": "HTMLModel",
      "_view_count": null,
      "_view_module": "@jupyter-widgets/controls",
      "_view_module_version": "1.5.0",
      "_view_name": "HTMLView",
      "description": "",
      "description_tooltip": null,
      "layout": "IPY_MODEL_1de799b71c5441e498cd8d43d45b8366",
      "placeholder": "​",
      "style": "IPY_MODEL_2b7956880e364a01907fd4633d349257",
      "value": "1_Pooling/config.json: 100%"
     }
    },
    "6e0e7ff854574b67ba5af1ecf59234dd": {
     "model_module": "@jupyter-widgets/base",
     "model_module_version": "1.2.0",
     "model_name": "LayoutModel",
     "state": {
      "_model_module": "@jupyter-widgets/base",
      "_model_module_version": "1.2.0",
      "_model_name": "LayoutModel",
      "_view_count": null,
      "_view_module": "@jupyter-widgets/base",
      "_view_module_version": "1.2.0",
      "_view_name": "LayoutView",
      "align_content": null,
      "align_items": null,
      "align_self": null,
      "border": null,
      "bottom": null,
      "display": null,
      "flex": null,
      "flex_flow": null,
      "grid_area": null,
      "grid_auto_columns": null,
      "grid_auto_flow": null,
      "grid_auto_rows": null,
      "grid_column": null,
      "grid_gap": null,
      "grid_row": null,
      "grid_template_areas": null,
      "grid_template_columns": null,
      "grid_template_rows": null,
      "height": null,
      "justify_content": null,
      "justify_items": null,
      "left": null,
      "margin": null,
      "max_height": null,
      "max_width": null,
      "min_height": null,
      "min_width": null,
      "object_fit": null,
      "object_position": null,
      "order": null,
      "overflow": null,
      "overflow_x": null,
      "overflow_y": null,
      "padding": null,
      "right": null,
      "top": null,
      "visibility": null,
      "width": null
     }
    },
    "71384876baf34c47b389b4696f94e4c2": {
     "model_module": "@jupyter-widgets/controls",
     "model_module_version": "1.5.0",
     "model_name": "ProgressStyleModel",
     "state": {
      "_model_module": "@jupyter-widgets/controls",
      "_model_module_version": "1.5.0",
      "_model_name": "ProgressStyleModel",
      "_view_count": null,
      "_view_module": "@jupyter-widgets/base",
      "_view_module_version": "1.2.0",
      "_view_name": "StyleView",
      "bar_color": null,
      "description_width": ""
     }
    },
    "738b6445e5fb442eb6a286ddde9e4bbd": {
     "model_module": "@jupyter-widgets/controls",
     "model_module_version": "1.5.0",
     "model_name": "HBoxModel",
     "state": {
      "_dom_classes": [],
      "_model_module": "@jupyter-widgets/controls",
      "_model_module_version": "1.5.0",
      "_model_name": "HBoxModel",
      "_view_count": null,
      "_view_module": "@jupyter-widgets/controls",
      "_view_module_version": "1.5.0",
      "_view_name": "HBoxView",
      "box_style": "",
      "children": [
       "IPY_MODEL_f14ad13dcf2d4784a3497263e3e7c950",
       "IPY_MODEL_fced669b5cd74a888422b289cc12bef6",
       "IPY_MODEL_66d738a42f064b618349aefcf490aac9"
      ],
      "layout": "IPY_MODEL_f4a66e78d5cb415a92a2a2236074c6d9"
     }
    },
    "7501b02d23c046639cf8b29c1df85db9": {
     "model_module": "@jupyter-widgets/base",
     "model_module_version": "1.2.0",
     "model_name": "LayoutModel",
     "state": {
      "_model_module": "@jupyter-widgets/base",
      "_model_module_version": "1.2.0",
      "_model_name": "LayoutModel",
      "_view_count": null,
      "_view_module": "@jupyter-widgets/base",
      "_view_module_version": "1.2.0",
      "_view_name": "LayoutView",
      "align_content": null,
      "align_items": null,
      "align_self": null,
      "border": null,
      "bottom": null,
      "display": null,
      "flex": null,
      "flex_flow": null,
      "grid_area": null,
      "grid_auto_columns": null,
      "grid_auto_flow": null,
      "grid_auto_rows": null,
      "grid_column": null,
      "grid_gap": null,
      "grid_row": null,
      "grid_template_areas": null,
      "grid_template_columns": null,
      "grid_template_rows": null,
      "height": null,
      "justify_content": null,
      "justify_items": null,
      "left": null,
      "margin": null,
      "max_height": null,
      "max_width": null,
      "min_height": null,
      "min_width": null,
      "object_fit": null,
      "object_position": null,
      "order": null,
      "overflow": null,
      "overflow_x": null,
      "overflow_y": null,
      "padding": null,
      "right": null,
      "top": null,
      "visibility": null,
      "width": null
     }
    },
    "75620be3f4ad4d1e99809d1086c0e3ee": {
     "model_module": "@jupyter-widgets/controls",
     "model_module_version": "1.5.0",
     "model_name": "DescriptionStyleModel",
     "state": {
      "_model_module": "@jupyter-widgets/controls",
      "_model_module_version": "1.5.0",
      "_model_name": "DescriptionStyleModel",
      "_view_count": null,
      "_view_module": "@jupyter-widgets/base",
      "_view_module_version": "1.2.0",
      "_view_name": "StyleView",
      "description_width": ""
     }
    },
    "7813436562104d8db92758afa7df9a0f": {
     "model_module": "@jupyter-widgets/controls",
     "model_module_version": "1.5.0",
     "model_name": "FloatProgressModel",
     "state": {
      "_dom_classes": [],
      "_model_module": "@jupyter-widgets/controls",
      "_model_module_version": "1.5.0",
      "_model_name": "FloatProgressModel",
      "_view_count": null,
      "_view_module": "@jupyter-widgets/controls",
      "_view_module_version": "1.5.0",
      "_view_name": "ProgressView",
      "bar_style": "success",
      "description": "",
      "description_tooltip": null,
      "layout": "IPY_MODEL_5576fdd1d934469a99e9e3e21454f0f3",
      "max": 612,
      "min": 0,
      "orientation": "horizontal",
      "style": "IPY_MODEL_71384876baf34c47b389b4696f94e4c2",
      "value": 612
     }
    },
    "7a291b08b1064f0f8077516aae4f5497": {
     "model_module": "@jupyter-widgets/base",
     "model_module_version": "1.2.0",
     "model_name": "LayoutModel",
     "state": {
      "_model_module": "@jupyter-widgets/base",
      "_model_module_version": "1.2.0",
      "_model_name": "LayoutModel",
      "_view_count": null,
      "_view_module": "@jupyter-widgets/base",
      "_view_module_version": "1.2.0",
      "_view_name": "LayoutView",
      "align_content": null,
      "align_items": null,
      "align_self": null,
      "border": null,
      "bottom": null,
      "display": null,
      "flex": null,
      "flex_flow": null,
      "grid_area": null,
      "grid_auto_columns": null,
      "grid_auto_flow": null,
      "grid_auto_rows": null,
      "grid_column": null,
      "grid_gap": null,
      "grid_row": null,
      "grid_template_areas": null,
      "grid_template_columns": null,
      "grid_template_rows": null,
      "height": null,
      "justify_content": null,
      "justify_items": null,
      "left": null,
      "margin": null,
      "max_height": null,
      "max_width": null,
      "min_height": null,
      "min_width": null,
      "object_fit": null,
      "object_position": null,
      "order": null,
      "overflow": null,
      "overflow_x": null,
      "overflow_y": null,
      "padding": null,
      "right": null,
      "top": null,
      "visibility": null,
      "width": null
     }
    },
    "7bb9d91b8cd74f2e9d429d94a115fc63": {
     "model_module": "@jupyter-widgets/base",
     "model_module_version": "1.2.0",
     "model_name": "LayoutModel",
     "state": {
      "_model_module": "@jupyter-widgets/base",
      "_model_module_version": "1.2.0",
      "_model_name": "LayoutModel",
      "_view_count": null,
      "_view_module": "@jupyter-widgets/base",
      "_view_module_version": "1.2.0",
      "_view_name": "LayoutView",
      "align_content": null,
      "align_items": null,
      "align_self": null,
      "border": null,
      "bottom": null,
      "display": null,
      "flex": null,
      "flex_flow": null,
      "grid_area": null,
      "grid_auto_columns": null,
      "grid_auto_flow": null,
      "grid_auto_rows": null,
      "grid_column": null,
      "grid_gap": null,
      "grid_row": null,
      "grid_template_areas": null,
      "grid_template_columns": null,
      "grid_template_rows": null,
      "height": null,
      "justify_content": null,
      "justify_items": null,
      "left": null,
      "margin": null,
      "max_height": null,
      "max_width": null,
      "min_height": null,
      "min_width": null,
      "object_fit": null,
      "object_position": null,
      "order": null,
      "overflow": null,
      "overflow_x": null,
      "overflow_y": null,
      "padding": null,
      "right": null,
      "top": null,
      "visibility": null,
      "width": null
     }
    },
    "89e6fd130be14dee8ed5d6aa40d99fdf": {
     "model_module": "@jupyter-widgets/controls",
     "model_module_version": "1.5.0",
     "model_name": "ProgressStyleModel",
     "state": {
      "_model_module": "@jupyter-widgets/controls",
      "_model_module_version": "1.5.0",
      "_model_name": "ProgressStyleModel",
      "_view_count": null,
      "_view_module": "@jupyter-widgets/base",
      "_view_module_version": "1.2.0",
      "_view_name": "StyleView",
      "bar_color": null,
      "description_width": ""
     }
    },
    "8cd07f233f3f4f2b9ae9db13c757cd18": {
     "model_module": "@jupyter-widgets/base",
     "model_module_version": "1.2.0",
     "model_name": "LayoutModel",
     "state": {
      "_model_module": "@jupyter-widgets/base",
      "_model_module_version": "1.2.0",
      "_model_name": "LayoutModel",
      "_view_count": null,
      "_view_module": "@jupyter-widgets/base",
      "_view_module_version": "1.2.0",
      "_view_name": "LayoutView",
      "align_content": null,
      "align_items": null,
      "align_self": null,
      "border": null,
      "bottom": null,
      "display": null,
      "flex": null,
      "flex_flow": null,
      "grid_area": null,
      "grid_auto_columns": null,
      "grid_auto_flow": null,
      "grid_auto_rows": null,
      "grid_column": null,
      "grid_gap": null,
      "grid_row": null,
      "grid_template_areas": null,
      "grid_template_columns": null,
      "grid_template_rows": null,
      "height": null,
      "justify_content": null,
      "justify_items": null,
      "left": null,
      "margin": null,
      "max_height": null,
      "max_width": null,
      "min_height": null,
      "min_width": null,
      "object_fit": null,
      "object_position": null,
      "order": null,
      "overflow": null,
      "overflow_x": null,
      "overflow_y": null,
      "padding": null,
      "right": null,
      "top": null,
      "visibility": null,
      "width": null
     }
    },
    "8d62e32492f04f55ae67425c2fcf512c": {
     "model_module": "@jupyter-widgets/controls",
     "model_module_version": "1.5.0",
     "model_name": "FloatProgressModel",
     "state": {
      "_dom_classes": [],
      "_model_module": "@jupyter-widgets/controls",
      "_model_module_version": "1.5.0",
      "_model_name": "FloatProgressModel",
      "_view_count": null,
      "_view_module": "@jupyter-widgets/controls",
      "_view_module_version": "1.5.0",
      "_view_name": "ProgressView",
      "bar_style": "success",
      "description": "",
      "description_tooltip": null,
      "layout": "IPY_MODEL_096a6a46299547dcb839445fc3fa3181",
      "max": 90868376,
      "min": 0,
      "orientation": "horizontal",
      "style": "IPY_MODEL_401a8e15c8454be3bae1049eb4e606ed",
      "value": 90868376
     }
    },
    "8f7f82ce282645588e418fcf9cbc7c8f": {
     "model_module": "@jupyter-widgets/base",
     "model_module_version": "1.2.0",
     "model_name": "LayoutModel",
     "state": {
      "_model_module": "@jupyter-widgets/base",
      "_model_module_version": "1.2.0",
      "_model_name": "LayoutModel",
      "_view_count": null,
      "_view_module": "@jupyter-widgets/base",
      "_view_module_version": "1.2.0",
      "_view_name": "LayoutView",
      "align_content": null,
      "align_items": null,
      "align_self": null,
      "border": null,
      "bottom": null,
      "display": null,
      "flex": null,
      "flex_flow": null,
      "grid_area": null,
      "grid_auto_columns": null,
      "grid_auto_flow": null,
      "grid_auto_rows": null,
      "grid_column": null,
      "grid_gap": null,
      "grid_row": null,
      "grid_template_areas": null,
      "grid_template_columns": null,
      "grid_template_rows": null,
      "height": null,
      "justify_content": null,
      "justify_items": null,
      "left": null,
      "margin": null,
      "max_height": null,
      "max_width": null,
      "min_height": null,
      "min_width": null,
      "object_fit": null,
      "object_position": null,
      "order": null,
      "overflow": null,
      "overflow_x": null,
      "overflow_y": null,
      "padding": null,
      "right": null,
      "top": null,
      "visibility": null,
      "width": null
     }
    },
    "924c2616ea844674ac439246d2e6a934": {
     "model_module": "@jupyter-widgets/controls",
     "model_module_version": "1.5.0",
     "model_name": "DescriptionStyleModel",
     "state": {
      "_model_module": "@jupyter-widgets/controls",
      "_model_module_version": "1.5.0",
      "_model_name": "DescriptionStyleModel",
      "_view_count": null,
      "_view_module": "@jupyter-widgets/base",
      "_view_module_version": "1.2.0",
      "_view_name": "StyleView",
      "description_width": ""
     }
    },
    "932f521dbd214f2486d5e536098e3066": {
     "model_module": "@jupyter-widgets/controls",
     "model_module_version": "1.5.0",
     "model_name": "HTMLModel",
     "state": {
      "_dom_classes": [],
      "_model_module": "@jupyter-widgets/controls",
      "_model_module_version": "1.5.0",
      "_model_name": "HTMLModel",
      "_view_count": null,
      "_view_module": "@jupyter-widgets/controls",
      "_view_module_version": "1.5.0",
      "_view_name": "HTMLView",
      "description": "",
      "description_tooltip": null,
      "layout": "IPY_MODEL_127dfa2057be45bbb1c521766d85e145",
      "placeholder": "​",
      "style": "IPY_MODEL_924c2616ea844674ac439246d2e6a934",
      "value": "sentence_bert_config.json: 100%"
     }
    },
    "9401caf6be2d4dfab10307bacfeb602c": {
     "model_module": "@jupyter-widgets/base",
     "model_module_version": "1.2.0",
     "model_name": "LayoutModel",
     "state": {
      "_model_module": "@jupyter-widgets/base",
      "_model_module_version": "1.2.0",
      "_model_name": "LayoutModel",
      "_view_count": null,
      "_view_module": "@jupyter-widgets/base",
      "_view_module_version": "1.2.0",
      "_view_name": "LayoutView",
      "align_content": null,
      "align_items": null,
      "align_self": null,
      "border": null,
      "bottom": null,
      "display": null,
      "flex": null,
      "flex_flow": null,
      "grid_area": null,
      "grid_auto_columns": null,
      "grid_auto_flow": null,
      "grid_auto_rows": null,
      "grid_column": null,
      "grid_gap": null,
      "grid_row": null,
      "grid_template_areas": null,
      "grid_template_columns": null,
      "grid_template_rows": null,
      "height": null,
      "justify_content": null,
      "justify_items": null,
      "left": null,
      "margin": null,
      "max_height": null,
      "max_width": null,
      "min_height": null,
      "min_width": null,
      "object_fit": null,
      "object_position": null,
      "order": null,
      "overflow": null,
      "overflow_x": null,
      "overflow_y": null,
      "padding": null,
      "right": null,
      "top": null,
      "visibility": null,
      "width": null
     }
    },
    "994ae56df4bc4b6f9a9516324ed68b51": {
     "model_module": "@jupyter-widgets/base",
     "model_module_version": "1.2.0",
     "model_name": "LayoutModel",
     "state": {
      "_model_module": "@jupyter-widgets/base",
      "_model_module_version": "1.2.0",
      "_model_name": "LayoutModel",
      "_view_count": null,
      "_view_module": "@jupyter-widgets/base",
      "_view_module_version": "1.2.0",
      "_view_name": "LayoutView",
      "align_content": null,
      "align_items": null,
      "align_self": null,
      "border": null,
      "bottom": null,
      "display": null,
      "flex": null,
      "flex_flow": null,
      "grid_area": null,
      "grid_auto_columns": null,
      "grid_auto_flow": null,
      "grid_auto_rows": null,
      "grid_column": null,
      "grid_gap": null,
      "grid_row": null,
      "grid_template_areas": null,
      "grid_template_columns": null,
      "grid_template_rows": null,
      "height": null,
      "justify_content": null,
      "justify_items": null,
      "left": null,
      "margin": null,
      "max_height": null,
      "max_width": null,
      "min_height": null,
      "min_width": null,
      "object_fit": null,
      "object_position": null,
      "order": null,
      "overflow": null,
      "overflow_x": null,
      "overflow_y": null,
      "padding": null,
      "right": null,
      "top": null,
      "visibility": null,
      "width": null
     }
    },
    "9afdc547fb48476ebf8528a31701d6fe": {
     "model_module": "@jupyter-widgets/controls",
     "model_module_version": "1.5.0",
     "model_name": "DescriptionStyleModel",
     "state": {
      "_model_module": "@jupyter-widgets/controls",
      "_model_module_version": "1.5.0",
      "_model_name": "DescriptionStyleModel",
      "_view_count": null,
      "_view_module": "@jupyter-widgets/base",
      "_view_module_version": "1.2.0",
      "_view_name": "StyleView",
      "description_width": ""
     }
    },
    "9fa183e9c3c94babb647a23bbc1e96b1": {
     "model_module": "@jupyter-widgets/controls",
     "model_module_version": "1.5.0",
     "model_name": "FloatProgressModel",
     "state": {
      "_dom_classes": [],
      "_model_module": "@jupyter-widgets/controls",
      "_model_module_version": "1.5.0",
      "_model_name": "FloatProgressModel",
      "_view_count": null,
      "_view_module": "@jupyter-widgets/controls",
      "_view_module_version": "1.5.0",
      "_view_name": "ProgressView",
      "bar_style": "success",
      "description": "",
      "description_tooltip": null,
      "layout": "IPY_MODEL_1eeb9a3cff5d4545b58f95c5086faff1",
      "max": 112,
      "min": 0,
      "orientation": "horizontal",
      "style": "IPY_MODEL_ac3e39a29c65480e8789793be7325372",
      "value": 112
     }
    },
    "a4e8a75150dc4e2d9e1be17cb62181a5": {
     "model_module": "@jupyter-widgets/controls",
     "model_module_version": "1.5.0",
     "model_name": "HBoxModel",
     "state": {
      "_dom_classes": [],
      "_model_module": "@jupyter-widgets/controls",
      "_model_module_version": "1.5.0",
      "_model_name": "HBoxModel",
      "_view_count": null,
      "_view_module": "@jupyter-widgets/controls",
      "_view_module_version": "1.5.0",
      "_view_name": "HBoxView",
      "box_style": "",
      "children": [
       "IPY_MODEL_b5b1d30a0d93410ba36f92cddcf429c6",
       "IPY_MODEL_b97ace6eae7f469eb3fe3efd2dd8ff85",
       "IPY_MODEL_aeb9921a5fde4934ad9924596ab775b3"
      ],
      "layout": "IPY_MODEL_6e0e7ff854574b67ba5af1ecf59234dd"
     }
    },
    "ac0d11fd90f849c792120c73414a8a1e": {
     "model_module": "@jupyter-widgets/controls",
     "model_module_version": "1.5.0",
     "model_name": "HTMLModel",
     "state": {
      "_dom_classes": [],
      "_model_module": "@jupyter-widgets/controls",
      "_model_module_version": "1.5.0",
      "_model_name": "HTMLModel",
      "_view_count": null,
      "_view_module": "@jupyter-widgets/controls",
      "_view_module_version": "1.5.0",
      "_view_name": "HTMLView",
      "description": "",
      "description_tooltip": null,
      "layout": "IPY_MODEL_7501b02d23c046639cf8b29c1df85db9",
      "placeholder": "​",
      "style": "IPY_MODEL_f02adcd093944909afc1386974420214",
      "value": " 10.7k/10.7k [00:00&lt;00:00, 499kB/s]"
     }
    },
    "ac3e39a29c65480e8789793be7325372": {
     "model_module": "@jupyter-widgets/controls",
     "model_module_version": "1.5.0",
     "model_name": "ProgressStyleModel",
     "state": {
      "_model_module": "@jupyter-widgets/controls",
      "_model_module_version": "1.5.0",
      "_model_name": "ProgressStyleModel",
      "_view_count": null,
      "_view_module": "@jupyter-widgets/base",
      "_view_module_version": "1.2.0",
      "_view_name": "StyleView",
      "bar_color": null,
      "description_width": ""
     }
    },
    "ad742bbb70fc4693924c5419d6403ec6": {
     "model_module": "@jupyter-widgets/base",
     "model_module_version": "1.2.0",
     "model_name": "LayoutModel",
     "state": {
      "_model_module": "@jupyter-widgets/base",
      "_model_module_version": "1.2.0",
      "_model_name": "LayoutModel",
      "_view_count": null,
      "_view_module": "@jupyter-widgets/base",
      "_view_module_version": "1.2.0",
      "_view_name": "LayoutView",
      "align_content": null,
      "align_items": null,
      "align_self": null,
      "border": null,
      "bottom": null,
      "display": null,
      "flex": null,
      "flex_flow": null,
      "grid_area": null,
      "grid_auto_columns": null,
      "grid_auto_flow": null,
      "grid_auto_rows": null,
      "grid_column": null,
      "grid_gap": null,
      "grid_row": null,
      "grid_template_areas": null,
      "grid_template_columns": null,
      "grid_template_rows": null,
      "height": null,
      "justify_content": null,
      "justify_items": null,
      "left": null,
      "margin": null,
      "max_height": null,
      "max_width": null,
      "min_height": null,
      "min_width": null,
      "object_fit": null,
      "object_position": null,
      "order": null,
      "overflow": null,
      "overflow_x": null,
      "overflow_y": null,
      "padding": null,
      "right": null,
      "top": null,
      "visibility": null,
      "width": null
     }
    },
    "aeb9921a5fde4934ad9924596ab775b3": {
     "model_module": "@jupyter-widgets/controls",
     "model_module_version": "1.5.0",
     "model_name": "HTMLModel",
     "state": {
      "_dom_classes": [],
      "_model_module": "@jupyter-widgets/controls",
      "_model_module_version": "1.5.0",
      "_model_name": "HTMLModel",
      "_view_count": null,
      "_view_module": "@jupyter-widgets/controls",
      "_view_module_version": "1.5.0",
      "_view_name": "HTMLView",
      "description": "",
      "description_tooltip": null,
      "layout": "IPY_MODEL_61884f59a60247878582db0b73ea670a",
      "placeholder": "​",
      "style": "IPY_MODEL_310fe91747ff4c1bb1f4552ed311c1db",
      "value": " 232k/232k [00:00&lt;00:00, 3.95MB/s]"
     }
    },
    "b33e50a221dc44a8a6b1f3cd9ddf9bbb": {
     "model_module": "@jupyter-widgets/base",
     "model_module_version": "1.2.0",
     "model_name": "LayoutModel",
     "state": {
      "_model_module": "@jupyter-widgets/base",
      "_model_module_version": "1.2.0",
      "_model_name": "LayoutModel",
      "_view_count": null,
      "_view_module": "@jupyter-widgets/base",
      "_view_module_version": "1.2.0",
      "_view_name": "LayoutView",
      "align_content": null,
      "align_items": null,
      "align_self": null,
      "border": null,
      "bottom": null,
      "display": null,
      "flex": null,
      "flex_flow": null,
      "grid_area": null,
      "grid_auto_columns": null,
      "grid_auto_flow": null,
      "grid_auto_rows": null,
      "grid_column": null,
      "grid_gap": null,
      "grid_row": null,
      "grid_template_areas": null,
      "grid_template_columns": null,
      "grid_template_rows": null,
      "height": null,
      "justify_content": null,
      "justify_items": null,
      "left": null,
      "margin": null,
      "max_height": null,
      "max_width": null,
      "min_height": null,
      "min_width": null,
      "object_fit": null,
      "object_position": null,
      "order": null,
      "overflow": null,
      "overflow_x": null,
      "overflow_y": null,
      "padding": null,
      "right": null,
      "top": null,
      "visibility": null,
      "width": null
     }
    },
    "b3dcd109c3954f26a0717e6f706cbdf0": {
     "model_module": "@jupyter-widgets/controls",
     "model_module_version": "1.5.0",
     "model_name": "DescriptionStyleModel",
     "state": {
      "_model_module": "@jupyter-widgets/controls",
      "_model_module_version": "1.5.0",
      "_model_name": "DescriptionStyleModel",
      "_view_count": null,
      "_view_module": "@jupyter-widgets/base",
      "_view_module_version": "1.2.0",
      "_view_name": "StyleView",
      "description_width": ""
     }
    },
    "b5a10ec452f84dd9860b2be34d7c97ea": {
     "model_module": "@jupyter-widgets/base",
     "model_module_version": "1.2.0",
     "model_name": "LayoutModel",
     "state": {
      "_model_module": "@jupyter-widgets/base",
      "_model_module_version": "1.2.0",
      "_model_name": "LayoutModel",
      "_view_count": null,
      "_view_module": "@jupyter-widgets/base",
      "_view_module_version": "1.2.0",
      "_view_name": "LayoutView",
      "align_content": null,
      "align_items": null,
      "align_self": null,
      "border": null,
      "bottom": null,
      "display": null,
      "flex": null,
      "flex_flow": null,
      "grid_area": null,
      "grid_auto_columns": null,
      "grid_auto_flow": null,
      "grid_auto_rows": null,
      "grid_column": null,
      "grid_gap": null,
      "grid_row": null,
      "grid_template_areas": null,
      "grid_template_columns": null,
      "grid_template_rows": null,
      "height": null,
      "justify_content": null,
      "justify_items": null,
      "left": null,
      "margin": null,
      "max_height": null,
      "max_width": null,
      "min_height": null,
      "min_width": null,
      "object_fit": null,
      "object_position": null,
      "order": null,
      "overflow": null,
      "overflow_x": null,
      "overflow_y": null,
      "padding": null,
      "right": null,
      "top": null,
      "visibility": null,
      "width": null
     }
    },
    "b5b1d30a0d93410ba36f92cddcf429c6": {
     "model_module": "@jupyter-widgets/controls",
     "model_module_version": "1.5.0",
     "model_name": "HTMLModel",
     "state": {
      "_dom_classes": [],
      "_model_module": "@jupyter-widgets/controls",
      "_model_module_version": "1.5.0",
      "_model_name": "HTMLModel",
      "_view_count": null,
      "_view_module": "@jupyter-widgets/controls",
      "_view_module_version": "1.5.0",
      "_view_name": "HTMLView",
      "description": "",
      "description_tooltip": null,
      "layout": "IPY_MODEL_1a2cce0cb2354b5fb8c2e92ab221b77e",
      "placeholder": "​",
      "style": "IPY_MODEL_502332806e7b4ead99ce3e41a35551c3",
      "value": "vocab.txt: 100%"
     }
    },
    "b8104bab44ab419d823447bf35833574": {
     "model_module": "@jupyter-widgets/controls",
     "model_module_version": "1.5.0",
     "model_name": "HTMLModel",
     "state": {
      "_dom_classes": [],
      "_model_module": "@jupyter-widgets/controls",
      "_model_module_version": "1.5.0",
      "_model_name": "HTMLModel",
      "_view_count": null,
      "_view_module": "@jupyter-widgets/controls",
      "_view_module_version": "1.5.0",
      "_view_name": "HTMLView",
      "description": "",
      "description_tooltip": null,
      "layout": "IPY_MODEL_25f95dbdedcc4e7c91b5d2951d025619",
      "placeholder": "​",
      "style": "IPY_MODEL_d2c3eb2cfb0344ff839a01dfc6c50ee3",
      "value": "config.json: 100%"
     }
    },
    "b97ace6eae7f469eb3fe3efd2dd8ff85": {
     "model_module": "@jupyter-widgets/controls",
     "model_module_version": "1.5.0",
     "model_name": "FloatProgressModel",
     "state": {
      "_dom_classes": [],
      "_model_module": "@jupyter-widgets/controls",
      "_model_module_version": "1.5.0",
      "_model_name": "FloatProgressModel",
      "_view_count": null,
      "_view_module": "@jupyter-widgets/controls",
      "_view_module_version": "1.5.0",
      "_view_name": "ProgressView",
      "bar_style": "success",
      "description": "",
      "description_tooltip": null,
      "layout": "IPY_MODEL_174ee1af6f7441ffbaf6d61b6ff97633",
      "max": 231508,
      "min": 0,
      "orientation": "horizontal",
      "style": "IPY_MODEL_bb2285cb20574fefb14c67e1be5dd117",
      "value": 231508
     }
    },
    "ba5d71929e2e4528b255208f25f5a748": {
     "model_module": "@jupyter-widgets/base",
     "model_module_version": "1.2.0",
     "model_name": "LayoutModel",
     "state": {
      "_model_module": "@jupyter-widgets/base",
      "_model_module_version": "1.2.0",
      "_model_name": "LayoutModel",
      "_view_count": null,
      "_view_module": "@jupyter-widgets/base",
      "_view_module_version": "1.2.0",
      "_view_name": "LayoutView",
      "align_content": null,
      "align_items": null,
      "align_self": null,
      "border": null,
      "bottom": null,
      "display": null,
      "flex": null,
      "flex_flow": null,
      "grid_area": null,
      "grid_auto_columns": null,
      "grid_auto_flow": null,
      "grid_auto_rows": null,
      "grid_column": null,
      "grid_gap": null,
      "grid_row": null,
      "grid_template_areas": null,
      "grid_template_columns": null,
      "grid_template_rows": null,
      "height": null,
      "justify_content": null,
      "justify_items": null,
      "left": null,
      "margin": null,
      "max_height": null,
      "max_width": null,
      "min_height": null,
      "min_width": null,
      "object_fit": null,
      "object_position": null,
      "order": null,
      "overflow": null,
      "overflow_x": null,
      "overflow_y": null,
      "padding": null,
      "right": null,
      "top": null,
      "visibility": null,
      "width": null
     }
    },
    "bace242e7f7148fc98fc0624b29d60ff": {
     "model_module": "@jupyter-widgets/base",
     "model_module_version": "1.2.0",
     "model_name": "LayoutModel",
     "state": {
      "_model_module": "@jupyter-widgets/base",
      "_model_module_version": "1.2.0",
      "_model_name": "LayoutModel",
      "_view_count": null,
      "_view_module": "@jupyter-widgets/base",
      "_view_module_version": "1.2.0",
      "_view_name": "LayoutView",
      "align_content": null,
      "align_items": null,
      "align_self": null,
      "border": null,
      "bottom": null,
      "display": null,
      "flex": null,
      "flex_flow": null,
      "grid_area": null,
      "grid_auto_columns": null,
      "grid_auto_flow": null,
      "grid_auto_rows": null,
      "grid_column": null,
      "grid_gap": null,
      "grid_row": null,
      "grid_template_areas": null,
      "grid_template_columns": null,
      "grid_template_rows": null,
      "height": null,
      "justify_content": null,
      "justify_items": null,
      "left": null,
      "margin": null,
      "max_height": null,
      "max_width": null,
      "min_height": null,
      "min_width": null,
      "object_fit": null,
      "object_position": null,
      "order": null,
      "overflow": null,
      "overflow_x": null,
      "overflow_y": null,
      "padding": null,
      "right": null,
      "top": null,
      "visibility": null,
      "width": null
     }
    },
    "bb2285cb20574fefb14c67e1be5dd117": {
     "model_module": "@jupyter-widgets/controls",
     "model_module_version": "1.5.0",
     "model_name": "ProgressStyleModel",
     "state": {
      "_model_module": "@jupyter-widgets/controls",
      "_model_module_version": "1.5.0",
      "_model_name": "ProgressStyleModel",
      "_view_count": null,
      "_view_module": "@jupyter-widgets/base",
      "_view_module_version": "1.2.0",
      "_view_name": "StyleView",
      "bar_color": null,
      "description_width": ""
     }
    },
    "bb8a471f3f684d928f925cb24317c2ba": {
     "model_module": "@jupyter-widgets/controls",
     "model_module_version": "1.5.0",
     "model_name": "FloatProgressModel",
     "state": {
      "_dom_classes": [],
      "_model_module": "@jupyter-widgets/controls",
      "_model_module_version": "1.5.0",
      "_model_name": "FloatProgressModel",
      "_view_count": null,
      "_view_module": "@jupyter-widgets/controls",
      "_view_module_version": "1.5.0",
      "_view_name": "ProgressView",
      "bar_style": "success",
      "description": "",
      "description_tooltip": null,
      "layout": "IPY_MODEL_8f7f82ce282645588e418fcf9cbc7c8f",
      "max": 10659,
      "min": 0,
      "orientation": "horizontal",
      "style": "IPY_MODEL_216785bb035b45ebb02ed0547ff42577",
      "value": 10659
     }
    },
    "bc9cbb1bb3b54520a824af2995c89959": {
     "model_module": "@jupyter-widgets/base",
     "model_module_version": "1.2.0",
     "model_name": "LayoutModel",
     "state": {
      "_model_module": "@jupyter-widgets/base",
      "_model_module_version": "1.2.0",
      "_model_name": "LayoutModel",
      "_view_count": null,
      "_view_module": "@jupyter-widgets/base",
      "_view_module_version": "1.2.0",
      "_view_name": "LayoutView",
      "align_content": null,
      "align_items": null,
      "align_self": null,
      "border": null,
      "bottom": null,
      "display": null,
      "flex": null,
      "flex_flow": null,
      "grid_area": null,
      "grid_auto_columns": null,
      "grid_auto_flow": null,
      "grid_auto_rows": null,
      "grid_column": null,
      "grid_gap": null,
      "grid_row": null,
      "grid_template_areas": null,
      "grid_template_columns": null,
      "grid_template_rows": null,
      "height": null,
      "justify_content": null,
      "justify_items": null,
      "left": null,
      "margin": null,
      "max_height": null,
      "max_width": null,
      "min_height": null,
      "min_width": null,
      "object_fit": null,
      "object_position": null,
      "order": null,
      "overflow": null,
      "overflow_x": null,
      "overflow_y": null,
      "padding": null,
      "right": null,
      "top": null,
      "visibility": null,
      "width": null
     }
    },
    "bcf6ae696e9b4c098a5c48b6f3b5140c": {
     "model_module": "@jupyter-widgets/controls",
     "model_module_version": "1.5.0",
     "model_name": "HTMLModel",
     "state": {
      "_dom_classes": [],
      "_model_module": "@jupyter-widgets/controls",
      "_model_module_version": "1.5.0",
      "_model_name": "HTMLModel",
      "_view_count": null,
      "_view_module": "@jupyter-widgets/controls",
      "_view_module_version": "1.5.0",
      "_view_name": "HTMLView",
      "description": "",
      "description_tooltip": null,
      "layout": "IPY_MODEL_33c8476d2f9f42ae976c3953e9ff4efb",
      "placeholder": "​",
      "style": "IPY_MODEL_9afdc547fb48476ebf8528a31701d6fe",
      "value": " 90.9M/90.9M [00:00&lt;00:00, 123MB/s]"
     }
    },
    "c5342e7d723a477dacc312b887385dfd": {
     "model_module": "@jupyter-widgets/base",
     "model_module_version": "1.2.0",
     "model_name": "LayoutModel",
     "state": {
      "_model_module": "@jupyter-widgets/base",
      "_model_module_version": "1.2.0",
      "_model_name": "LayoutModel",
      "_view_count": null,
      "_view_module": "@jupyter-widgets/base",
      "_view_module_version": "1.2.0",
      "_view_name": "LayoutView",
      "align_content": null,
      "align_items": null,
      "align_self": null,
      "border": null,
      "bottom": null,
      "display": null,
      "flex": null,
      "flex_flow": null,
      "grid_area": null,
      "grid_auto_columns": null,
      "grid_auto_flow": null,
      "grid_auto_rows": null,
      "grid_column": null,
      "grid_gap": null,
      "grid_row": null,
      "grid_template_areas": null,
      "grid_template_columns": null,
      "grid_template_rows": null,
      "height": null,
      "justify_content": null,
      "justify_items": null,
      "left": null,
      "margin": null,
      "max_height": null,
      "max_width": null,
      "min_height": null,
      "min_width": null,
      "object_fit": null,
      "object_position": null,
      "order": null,
      "overflow": null,
      "overflow_x": null,
      "overflow_y": null,
      "padding": null,
      "right": null,
      "top": null,
      "visibility": null,
      "width": null
     }
    },
    "c8da0f4957194ce69b23aca2c882eb72": {
     "model_module": "@jupyter-widgets/base",
     "model_module_version": "1.2.0",
     "model_name": "LayoutModel",
     "state": {
      "_model_module": "@jupyter-widgets/base",
      "_model_module_version": "1.2.0",
      "_model_name": "LayoutModel",
      "_view_count": null,
      "_view_module": "@jupyter-widgets/base",
      "_view_module_version": "1.2.0",
      "_view_name": "LayoutView",
      "align_content": null,
      "align_items": null,
      "align_self": null,
      "border": null,
      "bottom": null,
      "display": null,
      "flex": null,
      "flex_flow": null,
      "grid_area": null,
      "grid_auto_columns": null,
      "grid_auto_flow": null,
      "grid_auto_rows": null,
      "grid_column": null,
      "grid_gap": null,
      "grid_row": null,
      "grid_template_areas": null,
      "grid_template_columns": null,
      "grid_template_rows": null,
      "height": null,
      "justify_content": null,
      "justify_items": null,
      "left": null,
      "margin": null,
      "max_height": null,
      "max_width": null,
      "min_height": null,
      "min_width": null,
      "object_fit": null,
      "object_position": null,
      "order": null,
      "overflow": null,
      "overflow_x": null,
      "overflow_y": null,
      "padding": null,
      "right": null,
      "top": null,
      "visibility": null,
      "width": null
     }
    },
    "d0fe22d5e8454ed4b9e997c7efc2f3d7": {
     "model_module": "@jupyter-widgets/controls",
     "model_module_version": "1.5.0",
     "model_name": "FloatProgressModel",
     "state": {
      "_dom_classes": [],
      "_model_module": "@jupyter-widgets/controls",
      "_model_module_version": "1.5.0",
      "_model_name": "FloatProgressModel",
      "_view_count": null,
      "_view_module": "@jupyter-widgets/controls",
      "_view_module_version": "1.5.0",
      "_view_name": "ProgressView",
      "bar_style": "success",
      "description": "",
      "description_tooltip": null,
      "layout": "IPY_MODEL_9401caf6be2d4dfab10307bacfeb602c",
      "max": 349,
      "min": 0,
      "orientation": "horizontal",
      "style": "IPY_MODEL_13921712c22b4877835cbd4b23adc8db",
      "value": 349
     }
    },
    "d255872d231245c09663fb2f6676fad4": {
     "model_module": "@jupyter-widgets/base",
     "model_module_version": "1.2.0",
     "model_name": "LayoutModel",
     "state": {
      "_model_module": "@jupyter-widgets/base",
      "_model_module_version": "1.2.0",
      "_model_name": "LayoutModel",
      "_view_count": null,
      "_view_module": "@jupyter-widgets/base",
      "_view_module_version": "1.2.0",
      "_view_name": "LayoutView",
      "align_content": null,
      "align_items": null,
      "align_self": null,
      "border": null,
      "bottom": null,
      "display": null,
      "flex": null,
      "flex_flow": null,
      "grid_area": null,
      "grid_auto_columns": null,
      "grid_auto_flow": null,
      "grid_auto_rows": null,
      "grid_column": null,
      "grid_gap": null,
      "grid_row": null,
      "grid_template_areas": null,
      "grid_template_columns": null,
      "grid_template_rows": null,
      "height": null,
      "justify_content": null,
      "justify_items": null,
      "left": null,
      "margin": null,
      "max_height": null,
      "max_width": null,
      "min_height": null,
      "min_width": null,
      "object_fit": null,
      "object_position": null,
      "order": null,
      "overflow": null,
      "overflow_x": null,
      "overflow_y": null,
      "padding": null,
      "right": null,
      "top": null,
      "visibility": null,
      "width": null
     }
    },
    "d2c3eb2cfb0344ff839a01dfc6c50ee3": {
     "model_module": "@jupyter-widgets/controls",
     "model_module_version": "1.5.0",
     "model_name": "DescriptionStyleModel",
     "state": {
      "_model_module": "@jupyter-widgets/controls",
      "_model_module_version": "1.5.0",
      "_model_name": "DescriptionStyleModel",
      "_view_count": null,
      "_view_module": "@jupyter-widgets/base",
      "_view_module_version": "1.2.0",
      "_view_name": "StyleView",
      "description_width": ""
     }
    },
    "d75aa15469a04c7798958b07e649e4da": {
     "model_module": "@jupyter-widgets/controls",
     "model_module_version": "1.5.0",
     "model_name": "HBoxModel",
     "state": {
      "_dom_classes": [],
      "_model_module": "@jupyter-widgets/controls",
      "_model_module_version": "1.5.0",
      "_model_name": "HBoxModel",
      "_view_count": null,
      "_view_module": "@jupyter-widgets/controls",
      "_view_module_version": "1.5.0",
      "_view_name": "HBoxView",
      "box_style": "",
      "children": [
       "IPY_MODEL_34f196b7436f491299089297187fd827",
       "IPY_MODEL_9fa183e9c3c94babb647a23bbc1e96b1",
       "IPY_MODEL_5dbde136c0454bc1aea9b692f496a764"
      ],
      "layout": "IPY_MODEL_c8da0f4957194ce69b23aca2c882eb72"
     }
    },
    "d7c5adee1e594b5eb2991bdd8d0771ec": {
     "model_module": "@jupyter-widgets/base",
     "model_module_version": "1.2.0",
     "model_name": "LayoutModel",
     "state": {
      "_model_module": "@jupyter-widgets/base",
      "_model_module_version": "1.2.0",
      "_model_name": "LayoutModel",
      "_view_count": null,
      "_view_module": "@jupyter-widgets/base",
      "_view_module_version": "1.2.0",
      "_view_name": "LayoutView",
      "align_content": null,
      "align_items": null,
      "align_self": null,
      "border": null,
      "bottom": null,
      "display": null,
      "flex": null,
      "flex_flow": null,
      "grid_area": null,
      "grid_auto_columns": null,
      "grid_auto_flow": null,
      "grid_auto_rows": null,
      "grid_column": null,
      "grid_gap": null,
      "grid_row": null,
      "grid_template_areas": null,
      "grid_template_columns": null,
      "grid_template_rows": null,
      "height": null,
      "justify_content": null,
      "justify_items": null,
      "left": null,
      "margin": null,
      "max_height": null,
      "max_width": null,
      "min_height": null,
      "min_width": null,
      "object_fit": null,
      "object_position": null,
      "order": null,
      "overflow": null,
      "overflow_x": null,
      "overflow_y": null,
      "padding": null,
      "right": null,
      "top": null,
      "visibility": null,
      "width": null
     }
    },
    "dbb0fe24e6284d9287bf073162428858": {
     "model_module": "@jupyter-widgets/controls",
     "model_module_version": "1.5.0",
     "model_name": "HBoxModel",
     "state": {
      "_dom_classes": [],
      "_model_module": "@jupyter-widgets/controls",
      "_model_module_version": "1.5.0",
      "_model_name": "HBoxModel",
      "_view_count": null,
      "_view_module": "@jupyter-widgets/controls",
      "_view_module_version": "1.5.0",
      "_view_name": "HBoxView",
      "box_style": "",
      "children": [
       "IPY_MODEL_932f521dbd214f2486d5e536098e3066",
       "IPY_MODEL_4f1c192e224e4f8784150ae234f263fc",
       "IPY_MODEL_0c37310991754eff8d567074c875c31a"
      ],
      "layout": "IPY_MODEL_d7c5adee1e594b5eb2991bdd8d0771ec"
     }
    },
    "de2e663dcc6445d698aa7c58affc134f": {
     "model_module": "@jupyter-widgets/base",
     "model_module_version": "1.2.0",
     "model_name": "LayoutModel",
     "state": {
      "_model_module": "@jupyter-widgets/base",
      "_model_module_version": "1.2.0",
      "_model_name": "LayoutModel",
      "_view_count": null,
      "_view_module": "@jupyter-widgets/base",
      "_view_module_version": "1.2.0",
      "_view_name": "LayoutView",
      "align_content": null,
      "align_items": null,
      "align_self": null,
      "border": null,
      "bottom": null,
      "display": null,
      "flex": null,
      "flex_flow": null,
      "grid_area": null,
      "grid_auto_columns": null,
      "grid_auto_flow": null,
      "grid_auto_rows": null,
      "grid_column": null,
      "grid_gap": null,
      "grid_row": null,
      "grid_template_areas": null,
      "grid_template_columns": null,
      "grid_template_rows": null,
      "height": null,
      "justify_content": null,
      "justify_items": null,
      "left": null,
      "margin": null,
      "max_height": null,
      "max_width": null,
      "min_height": null,
      "min_width": null,
      "object_fit": null,
      "object_position": null,
      "order": null,
      "overflow": null,
      "overflow_x": null,
      "overflow_y": null,
      "padding": null,
      "right": null,
      "top": null,
      "visibility": null,
      "width": null
     }
    },
    "e317caf2f64d4023a6166fec375270fb": {
     "model_module": "@jupyter-widgets/base",
     "model_module_version": "1.2.0",
     "model_name": "LayoutModel",
     "state": {
      "_model_module": "@jupyter-widgets/base",
      "_model_module_version": "1.2.0",
      "_model_name": "LayoutModel",
      "_view_count": null,
      "_view_module": "@jupyter-widgets/base",
      "_view_module_version": "1.2.0",
      "_view_name": "LayoutView",
      "align_content": null,
      "align_items": null,
      "align_self": null,
      "border": null,
      "bottom": null,
      "display": null,
      "flex": null,
      "flex_flow": null,
      "grid_area": null,
      "grid_auto_columns": null,
      "grid_auto_flow": null,
      "grid_auto_rows": null,
      "grid_column": null,
      "grid_gap": null,
      "grid_row": null,
      "grid_template_areas": null,
      "grid_template_columns": null,
      "grid_template_rows": null,
      "height": null,
      "justify_content": null,
      "justify_items": null,
      "left": null,
      "margin": null,
      "max_height": null,
      "max_width": null,
      "min_height": null,
      "min_width": null,
      "object_fit": null,
      "object_position": null,
      "order": null,
      "overflow": null,
      "overflow_x": null,
      "overflow_y": null,
      "padding": null,
      "right": null,
      "top": null,
      "visibility": null,
      "width": null
     }
    },
    "e4ae9e6d4ba345389efe85273eac0886": {
     "model_module": "@jupyter-widgets/controls",
     "model_module_version": "1.5.0",
     "model_name": "DescriptionStyleModel",
     "state": {
      "_model_module": "@jupyter-widgets/controls",
      "_model_module_version": "1.5.0",
      "_model_name": "DescriptionStyleModel",
      "_view_count": null,
      "_view_module": "@jupyter-widgets/base",
      "_view_module_version": "1.2.0",
      "_view_name": "StyleView",
      "description_width": ""
     }
    },
    "e6e92bbf6789468b97da705bb0cc9bd3": {
     "model_module": "@jupyter-widgets/controls",
     "model_module_version": "1.5.0",
     "model_name": "ProgressStyleModel",
     "state": {
      "_model_module": "@jupyter-widgets/controls",
      "_model_module_version": "1.5.0",
      "_model_name": "ProgressStyleModel",
      "_view_count": null,
      "_view_module": "@jupyter-widgets/base",
      "_view_module_version": "1.2.0",
      "_view_name": "StyleView",
      "bar_color": null,
      "description_width": ""
     }
    },
    "e977817388dd436d828608b12c091248": {
     "model_module": "@jupyter-widgets/controls",
     "model_module_version": "1.5.0",
     "model_name": "HTMLModel",
     "state": {
      "_dom_classes": [],
      "_model_module": "@jupyter-widgets/controls",
      "_model_module_version": "1.5.0",
      "_model_name": "HTMLModel",
      "_view_count": null,
      "_view_module": "@jupyter-widgets/controls",
      "_view_module_version": "1.5.0",
      "_view_name": "HTMLView",
      "description": "",
      "description_tooltip": null,
      "layout": "IPY_MODEL_de2e663dcc6445d698aa7c58affc134f",
      "placeholder": "​",
      "style": "IPY_MODEL_53b7210c68954e5eb29ecc9785d1a2e8",
      "value": "model.safetensors: 100%"
     }
    },
    "e9fcd26342844355b5dfad06906a9af1": {
     "model_module": "@jupyter-widgets/controls",
     "model_module_version": "1.5.0",
     "model_name": "DescriptionStyleModel",
     "state": {
      "_model_module": "@jupyter-widgets/controls",
      "_model_module_version": "1.5.0",
      "_model_name": "DescriptionStyleModel",
      "_view_count": null,
      "_view_module": "@jupyter-widgets/base",
      "_view_module_version": "1.2.0",
      "_view_name": "StyleView",
      "description_width": ""
     }
    },
    "ef78e20fec0f4273bec3c2db965995c5": {
     "model_module": "@jupyter-widgets/controls",
     "model_module_version": "1.5.0",
     "model_name": "DescriptionStyleModel",
     "state": {
      "_model_module": "@jupyter-widgets/controls",
      "_model_module_version": "1.5.0",
      "_model_name": "DescriptionStyleModel",
      "_view_count": null,
      "_view_module": "@jupyter-widgets/base",
      "_view_module_version": "1.2.0",
      "_view_name": "StyleView",
      "description_width": ""
     }
    },
    "f02adcd093944909afc1386974420214": {
     "model_module": "@jupyter-widgets/controls",
     "model_module_version": "1.5.0",
     "model_name": "DescriptionStyleModel",
     "state": {
      "_model_module": "@jupyter-widgets/controls",
      "_model_module_version": "1.5.0",
      "_model_name": "DescriptionStyleModel",
      "_view_count": null,
      "_view_module": "@jupyter-widgets/base",
      "_view_module_version": "1.2.0",
      "_view_name": "StyleView",
      "description_width": ""
     }
    },
    "f14ad13dcf2d4784a3497263e3e7c950": {
     "model_module": "@jupyter-widgets/controls",
     "model_module_version": "1.5.0",
     "model_name": "HTMLModel",
     "state": {
      "_dom_classes": [],
      "_model_module": "@jupyter-widgets/controls",
      "_model_module_version": "1.5.0",
      "_model_name": "HTMLModel",
      "_view_count": null,
      "_view_module": "@jupyter-widgets/controls",
      "_view_module_version": "1.5.0",
      "_view_name": "HTMLView",
      "description": "",
      "description_tooltip": null,
      "layout": "IPY_MODEL_7bb9d91b8cd74f2e9d429d94a115fc63",
      "placeholder": "​",
      "style": "IPY_MODEL_ef78e20fec0f4273bec3c2db965995c5",
      "value": "tokenizer.json: 100%"
     }
    },
    "f21888b569e14b09980463cdcc480bda": {
     "model_module": "@jupyter-widgets/controls",
     "model_module_version": "1.5.0",
     "model_name": "FloatProgressModel",
     "state": {
      "_dom_classes": [],
      "_model_module": "@jupyter-widgets/controls",
      "_model_module_version": "1.5.0",
      "_model_name": "FloatProgressModel",
      "_view_count": null,
      "_view_module": "@jupyter-widgets/controls",
      "_view_module_version": "1.5.0",
      "_view_name": "ProgressView",
      "bar_style": "success",
      "description": "",
      "description_tooltip": null,
      "layout": "IPY_MODEL_07670af9cfd3490bac902eae4afa8366",
      "max": 190,
      "min": 0,
      "orientation": "horizontal",
      "style": "IPY_MODEL_89e6fd130be14dee8ed5d6aa40d99fdf",
      "value": 190
     }
    },
    "f24c673424594b7eb6f0ffe39bf69513": {
     "model_module": "@jupyter-widgets/controls",
     "model_module_version": "1.5.0",
     "model_name": "HTMLModel",
     "state": {
      "_dom_classes": [],
      "_model_module": "@jupyter-widgets/controls",
      "_model_module_version": "1.5.0",
      "_model_name": "HTMLModel",
      "_view_count": null,
      "_view_module": "@jupyter-widgets/controls",
      "_view_module_version": "1.5.0",
      "_view_name": "HTMLView",
      "description": "",
      "description_tooltip": null,
      "layout": "IPY_MODEL_7a291b08b1064f0f8077516aae4f5497",
      "placeholder": "​",
      "style": "IPY_MODEL_34b402eb223a4fd79dffd0ca19c63c06",
      "value": "README.md: 100%"
     }
    },
    "f4a66e78d5cb415a92a2a2236074c6d9": {
     "model_module": "@jupyter-widgets/base",
     "model_module_version": "1.2.0",
     "model_name": "LayoutModel",
     "state": {
      "_model_module": "@jupyter-widgets/base",
      "_model_module_version": "1.2.0",
      "_model_name": "LayoutModel",
      "_view_count": null,
      "_view_module": "@jupyter-widgets/base",
      "_view_module_version": "1.2.0",
      "_view_name": "LayoutView",
      "align_content": null,
      "align_items": null,
      "align_self": null,
      "border": null,
      "bottom": null,
      "display": null,
      "flex": null,
      "flex_flow": null,
      "grid_area": null,
      "grid_auto_columns": null,
      "grid_auto_flow": null,
      "grid_auto_rows": null,
      "grid_column": null,
      "grid_gap": null,
      "grid_row": null,
      "grid_template_areas": null,
      "grid_template_columns": null,
      "grid_template_rows": null,
      "height": null,
      "justify_content": null,
      "justify_items": null,
      "left": null,
      "margin": null,
      "max_height": null,
      "max_width": null,
      "min_height": null,
      "min_width": null,
      "object_fit": null,
      "object_position": null,
      "order": null,
      "overflow": null,
      "overflow_x": null,
      "overflow_y": null,
      "padding": null,
      "right": null,
      "top": null,
      "visibility": null,
      "width": null
     }
    },
    "f5b52141dab24c5cbbed6a498612429c": {
     "model_module": "@jupyter-widgets/base",
     "model_module_version": "1.2.0",
     "model_name": "LayoutModel",
     "state": {
      "_model_module": "@jupyter-widgets/base",
      "_model_module_version": "1.2.0",
      "_model_name": "LayoutModel",
      "_view_count": null,
      "_view_module": "@jupyter-widgets/base",
      "_view_module_version": "1.2.0",
      "_view_name": "LayoutView",
      "align_content": null,
      "align_items": null,
      "align_self": null,
      "border": null,
      "bottom": null,
      "display": null,
      "flex": null,
      "flex_flow": null,
      "grid_area": null,
      "grid_auto_columns": null,
      "grid_auto_flow": null,
      "grid_auto_rows": null,
      "grid_column": null,
      "grid_gap": null,
      "grid_row": null,
      "grid_template_areas": null,
      "grid_template_columns": null,
      "grid_template_rows": null,
      "height": null,
      "justify_content": null,
      "justify_items": null,
      "left": null,
      "margin": null,
      "max_height": null,
      "max_width": null,
      "min_height": null,
      "min_width": null,
      "object_fit": null,
      "object_position": null,
      "order": null,
      "overflow": null,
      "overflow_x": null,
      "overflow_y": null,
      "padding": null,
      "right": null,
      "top": null,
      "visibility": null,
      "width": null
     }
    },
    "fa5cc8cb8486411487895e0cf9e762c1": {
     "model_module": "@jupyter-widgets/base",
     "model_module_version": "1.2.0",
     "model_name": "LayoutModel",
     "state": {
      "_model_module": "@jupyter-widgets/base",
      "_model_module_version": "1.2.0",
      "_model_name": "LayoutModel",
      "_view_count": null,
      "_view_module": "@jupyter-widgets/base",
      "_view_module_version": "1.2.0",
      "_view_name": "LayoutView",
      "align_content": null,
      "align_items": null,
      "align_self": null,
      "border": null,
      "bottom": null,
      "display": null,
      "flex": null,
      "flex_flow": null,
      "grid_area": null,
      "grid_auto_columns": null,
      "grid_auto_flow": null,
      "grid_auto_rows": null,
      "grid_column": null,
      "grid_gap": null,
      "grid_row": null,
      "grid_template_areas": null,
      "grid_template_columns": null,
      "grid_template_rows": null,
      "height": null,
      "justify_content": null,
      "justify_items": null,
      "left": null,
      "margin": null,
      "max_height": null,
      "max_width": null,
      "min_height": null,
      "min_width": null,
      "object_fit": null,
      "object_position": null,
      "order": null,
      "overflow": null,
      "overflow_x": null,
      "overflow_y": null,
      "padding": null,
      "right": null,
      "top": null,
      "visibility": null,
      "width": null
     }
    },
    "fced669b5cd74a888422b289cc12bef6": {
     "model_module": "@jupyter-widgets/controls",
     "model_module_version": "1.5.0",
     "model_name": "FloatProgressModel",
     "state": {
      "_dom_classes": [],
      "_model_module": "@jupyter-widgets/controls",
      "_model_module_version": "1.5.0",
      "_model_name": "FloatProgressModel",
      "_view_count": null,
      "_view_module": "@jupyter-widgets/controls",
      "_view_module_version": "1.5.0",
      "_view_name": "ProgressView",
      "bar_style": "success",
      "description": "",
      "description_tooltip": null,
      "layout": "IPY_MODEL_34d3c9c19bfa469f9f1f46ad4312c6ec",
      "max": 466247,
      "min": 0,
      "orientation": "horizontal",
      "style": "IPY_MODEL_5f29a32353f642e39372ac17a6adb6c3",
      "value": 466247
     }
    },
    "feda893ba90445a89c693c80d53a6e6c": {
     "model_module": "@jupyter-widgets/controls",
     "model_module_version": "1.5.0",
     "model_name": "DescriptionStyleModel",
     "state": {
      "_model_module": "@jupyter-widgets/controls",
      "_model_module_version": "1.5.0",
      "_model_name": "DescriptionStyleModel",
      "_view_count": null,
      "_view_module": "@jupyter-widgets/base",
      "_view_module_version": "1.2.0",
      "_view_name": "StyleView",
      "description_width": ""
     }
    }
   }
  }
 },
 "nbformat": 4,
 "nbformat_minor": 0
}
