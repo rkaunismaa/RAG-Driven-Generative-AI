{
 "cells": [
  {
   "cell_type": "markdown",
   "metadata": {},
   "source": [
    "#### Sunday, November 10, 2024\n",
    "\n",
    "mamba activate rag_genai\n",
    "\n",
    "This notebook uses the local model 'hermes-3-llama-3.1-8b'\n",
    "\n",
    "This all runs in one pass. \n",
    "\n",
    "BUT the user content gets messed up ... I wonder if using a different model will help ... let's try that, shall we ... \n",
    "\n",
    " 1) 'mistral-7b-instruct-v0.3' ... Nope!\n",
    " 2) 'mistral-7b-v0.1' ... 'Nope!\n",
    " 3) 'qwen2.5-14b-instruct' ... Yeah! This works! And it sees the user message correctly!\n",
    "\n",
    " And just out of curiosity, I am going to run this notebook again with 'qwen2.5-14b-instruct' being served up from KAUWITB."
   ]
  },
  {
   "cell_type": "markdown",
   "metadata": {
    "id": "sqpsYn49QWSR"
   },
   "source": [
    "#Introducing Naive, Advanced, and Modular RAG\n",
    "\n",
    "Copyright 2024, Denis Rothman\n",
    "\n",
    "This notebook introduces Naïve, Advanced, and Modular RAG through basic educational examples.\n",
    "\n",
    "The Naïve, Advanced and modular RAG techniques offer flexibility in selecting retrieval strategies, allowing adaptation to various tasks and data characteristics.\n",
    "\n",
    "**Summary**\n",
    "\n",
    "**Part 1: Foundations and Basic Implementation**\n",
    "\n",
    "1.Environment setup for OpenAI API integration  \n",
    "2.Generator function using GPT models    \n",
    "3.Dataetup with a list of documents (db_records)  \n",
    "4.Query(user request)  \n",
    "\n",
    "**Part 2: Advanced Techniques and Evaluation**\n",
    "\n",
    "1.Retrieval metrics  \n",
    "2.Naive RAG  \n",
    "3.Advanced RAG  \n",
    "4.Modular RAG Retriever  "
   ]
  },
  {
   "cell_type": "markdown",
   "metadata": {
    "id": "5ICSQQ0ipxlR"
   },
   "source": [
    "# Part 1: Foundations and Basic Implementation"
   ]
  },
  {
   "cell_type": "markdown",
   "metadata": {
    "id": "o01-IM8bTc5f"
   },
   "source": [
    "# 1.The Environment"
   ]
  },
  {
   "cell_type": "code",
   "execution_count": 1,
   "metadata": {
    "colab": {
     "base_uri": "https://localhost:8080/"
    },
    "id": "8VCfbN0YwHbE",
    "outputId": "7b5a9db0-3a50-4274-a428-c00599ca2644"
   },
   "outputs": [],
   "source": [
    "# !pip install openai==1.40.3"
   ]
  },
  {
   "cell_type": "code",
   "execution_count": 2,
   "metadata": {
    "colab": {
     "base_uri": "https://localhost:8080/"
    },
    "id": "myXJn33zbqTR",
    "outputId": "5bdcb08c-dbec-47ea-8362-be94032eddba"
   },
   "outputs": [],
   "source": [
    "#API Key\n",
    "#Store you key in a file and read it(you can type it directly in the notebook but it will be visible for somebody next to you)\n",
    "# from google.colab import drive\n",
    "# drive.mount('/content/drive')"
   ]
  },
  {
   "cell_type": "code",
   "execution_count": 3,
   "metadata": {
    "id": "Oefvqp21Ba07"
   },
   "outputs": [],
   "source": [
    "# f = open(\"drive/MyDrive/files/api_key.txt\", \"r\")\n",
    "# API_KEY=f.readline().strip()\n",
    "# f.close()\n",
    "\n",
    "# #The OpenAI Key\n",
    "# import os\n",
    "# import openai\n",
    "# os.environ['OPENAI_API_KEY'] =API_KEY\n",
    "# openai.api_key = os.getenv(\"OPENAI_API_KEY\")"
   ]
  },
  {
   "cell_type": "markdown",
   "metadata": {
    "id": "WuZ7jr4Rs36U"
   },
   "source": [
    "# 2.The Generator\n"
   ]
  },
  {
   "cell_type": "code",
   "execution_count": 1,
   "metadata": {},
   "outputs": [],
   "source": [
    "import openai\n",
    "from openai import OpenAI\n",
    "import time\n",
    "\n",
    "# client = OpenAI(base_url=\"http://localhost:1234/v1\")\n",
    "client = OpenAI(base_url=\"http://192.168.2.16:1234/v1\")\n",
    "gptmodel=\"gpt-4o\"\n",
    "\n",
    "# override the default model ... \n",
    "gptmodel=\"gpt-3.5-turbo\"\n",
    "\n",
    "# override the default model ...\n",
    "gptmodel = \"hermes-3-llama-3.1-8b\"\n",
    "\n",
    "gptmodel = \"qwen2.5-14b-instruct\""
   ]
  },
  {
   "cell_type": "code",
   "execution_count": 2,
   "metadata": {
    "id": "qwCNTW9fs36U"
   },
   "outputs": [],
   "source": [
    "# start_time = time.time()  # Start timing before the request\n",
    "\n",
    "def call_llm_with_full_text(itext):\n",
    "    # Join all lines to form a single string\n",
    "    text_input = '\\n'.join(itext)\n",
    "    prompt = f\"Please elaborate on the following content:\\n{text_input}\"\n",
    "\n",
    "    try:\n",
    "      response = client.chat.completions.create(\n",
    "              \n",
    "         model=gptmodel,\n",
    "         messages=[\n",
    "            {\"role\": \"system\", \"content\": \"You are an expert Natural Language Processing exercise expert.\"},\n",
    "            {\"role\": \"assistant\", \"content\": \"1.You can explain read the input and answer in detail\"},\n",
    "            {\"role\": \"user\", \"content\": prompt}\n",
    "         ],\n",
    "         temperature=0.1  # Add the temperature parameter here and other parameters you need\n",
    "        )\n",
    "      return response.choices[0].message.content.strip()\n",
    "    except Exception as e:\n",
    "        return str(e)"
   ]
  },
  {
   "cell_type": "markdown",
   "metadata": {
    "id": "bVKe9VF0HIHJ"
   },
   "source": [
    "## Formatted response"
   ]
  },
  {
   "cell_type": "code",
   "execution_count": 3,
   "metadata": {
    "id": "oG8I2Kb2HFhL"
   },
   "outputs": [],
   "source": [
    "import textwrap\n",
    "\n",
    "def print_formatted_response(response):\n",
    "    # Define the width for wrapping the text\n",
    "    wrapper = textwrap.TextWrapper(width=80)  # Set to 80 columns wide, but adjust as needed\n",
    "    wrapped_text = wrapper.fill(text=response)\n",
    "\n",
    "    # Print the formatted response with a header and footer\n",
    "    print(\"Response:\")\n",
    "    print(\"---------------\")\n",
    "    print(wrapped_text)\n",
    "    print(\"---------------\\n\")"
   ]
  },
  {
   "cell_type": "markdown",
   "metadata": {
    "id": "Qv1ExPiZdJRL"
   },
   "source": [
    " # 3.The Data"
   ]
  },
  {
   "cell_type": "code",
   "execution_count": 4,
   "metadata": {
    "id": "45CFxG4Fgcju"
   },
   "outputs": [],
   "source": [
    "db_records = [\n",
    "    \"Retrieval Augmented Generation (RAG) represents a sophisticated hybrid approach in the field of artificial intelligence, particularly within the realm of natural language processing (NLP).\",\n",
    "    \"It innovatively combines the capabilities of neural network-based language models with retrieval systems to enhance the generation of text, making it more accurate, informative, and contextually relevant.\",\n",
    "    \"This methodology leverages the strengths of both generative and retrieval architectures to tackle complex tasks that require not only linguistic fluency but also factual correctness and depth of knowledge.\",\n",
    "    \"At the core of Retrieval Augmented Generation (RAG) is a generative model, typically a transformer-based neural network, similar to those used in models like GPT (Generative Pre-trained Transformer) or BERT (Bidirectional Encoder Representations from Transformers).\",\n",
    "    \"This component is responsible for producing coherent and contextually appropriate language outputs based on a mixture of input prompts and additional information fetched by the retrieval component.\",\n",
    "    \"Complementing the language model is the retrieval system, which is usually built on a database of documents or a corpus of texts.\",\n",
    "    \"This system uses techniques from information retrieval to find and fetch documents that are relevant to the input query or prompt.\",\n",
    "    \"The mechanism of relevance determination can range from simple keyword matching to more complex semantic search algorithms which interpret the meaning behind the query to find the best matches.\",\n",
    "    \"This component merges the outputs from the language model and the retrieval system.\",\n",
    "    \"It effectively synthesizes the raw data fetched by the retrieval system into the generative process of the language model.\",\n",
    "    \"The integrator ensures that the information from the retrieval system is seamlessly incorporated into the final text output, enhancing the model's ability to generate responses that are not only fluent and grammatically correct but also rich in factual details and context-specific nuances.\",\n",
    "    \"When a query or prompt is received, the system first processes it to understand the requirement or the context.\",\n",
    "    \"Based on the processed query, the retrieval system searches through its database to find relevant documents or information snippets.\",\n",
    "    \"This retrieval is guided by the similarity of content in the documents to the query, which can be determined through various techniques like vector embeddings or semantic similarity measures.\",\n",
    "    \"The retrieved documents are then fed into the language model.\",\n",
    "    \"In some implementations, this integration happens at the token level, where the model can access and incorporate specific pieces of information from the retrieved texts dynamically as it generates each part of the response.\",\n",
    "    \"The language model, now augmented with direct access to retrieved information, generates a response.\",\n",
    "    \"This response is not only influenced by the training of the model but also by the specific facts and details contained in the retrieved documents, making it more tailored and accurate.\",\n",
    "    \"By directly incorporating information from external sources, Retrieval Augmented Generation (RAG) models can produce responses that are more factual and relevant to the given query.\",\n",
    "    \"This is particularly useful in domains like medical advice, technical support, and other areas where precision and up-to-date knowledge are crucial.\",\n",
    "    \"Retrieval Augmented Generation (RAG) systems can dynamically adapt to new information since they retrieve data in real-time from their databases.\",\n",
    "    \"This allows them to remain current with the latest knowledge and trends without needing frequent retraining.\",\n",
    "    \"With access to a wide range of documents, Retrieval Augmented Generation (RAG) systems can provide detailed and nuanced answers that a standalone language model might not be capable of generating based solely on its pre-trained knowledge.\",\n",
    "    \"While Retrieval Augmented Generation (RAG) offers substantial benefits, it also comes with its challenges.\",\n",
    "    \"These include the complexity of integrating retrieval and generation systems, the computational overhead associated with real-time data retrieval, and the need for maintaining a large, up-to-date, and high-quality database of retrievable texts.\",\n",
    "    \"Furthermore, ensuring the relevance and accuracy of the retrieved information remains a significant challenge, as does managing the potential for introducing biases or errors from the external sources.\",\n",
    "    \"In summary, Retrieval Augmented Generation represents a significant advancement in the field of artificial intelligence, merging the best of retrieval-based and generative technologies to create systems that not only understand and generate natural language but also deeply comprehend and utilize the vast amounts of information available in textual form.\",\n",
    "    \"A RAG vector store is a database or dataset that contains vectorized data points.\"\n",
    "]"
   ]
  },
  {
   "cell_type": "code",
   "execution_count": 5,
   "metadata": {
    "colab": {
     "base_uri": "https://localhost:8080/"
    },
    "id": "FIQ7NK92g7EC",
    "outputId": "3068525a-874b-4554-b5a5-2b2f270d3957"
   },
   "outputs": [
    {
     "name": "stdout",
     "output_type": "stream",
     "text": [
      "Retrieval Augmented Generation (RAG) represents a sophisticated hybrid approach\n",
      "in the field of artificial intelligence, particularly within the realm of\n",
      "natural language processing (NLP). It innovatively combines the capabilities of\n",
      "neural network-based language models with retrieval systems to enhance the\n",
      "generation of text, making it more accurate, informative, and contextually\n",
      "relevant. This methodology leverages the strengths of both generative and\n",
      "retrieval architectures to tackle complex tasks that require not only linguistic\n",
      "fluency but also factual correctness and depth of knowledge. At the core of\n",
      "Retrieval Augmented Generation (RAG) is a generative model, typically a\n",
      "transformer-based neural network, similar to those used in models like GPT\n",
      "(Generative Pre-trained Transformer) or BERT (Bidirectional Encoder\n",
      "Representations from Transformers). This component is responsible for producing\n",
      "coherent and contextually appropriate language outputs based on a mixture of\n",
      "input prompts and additional information fetched by the retrieval component.\n",
      "Complementing the language model is the retrieval system, which is usually built\n",
      "on a database of documents or a corpus of texts. This system uses techniques\n",
      "from information retrieval to find and fetch documents that are relevant to the\n",
      "input query or prompt. The mechanism of relevance determination can range from\n",
      "simple keyword matching to more complex semantic search algorithms which\n",
      "interpret the meaning behind the query to find the best matches. This component\n",
      "merges the outputs from the language model and the retrieval system. It\n",
      "effectively synthesizes the raw data fetched by the retrieval system into the\n",
      "generative process of the language model. The integrator ensures that the\n",
      "information from the retrieval system is seamlessly incorporated into the final\n",
      "text output, enhancing the model's ability to generate responses that are not\n",
      "only fluent and grammatically correct but also rich in factual details and\n",
      "context-specific nuances. When a query or prompt is received, the system first\n",
      "processes it to understand the requirement or the context. Based on the\n",
      "processed query, the retrieval system searches through its database to find\n",
      "relevant documents or information snippets. This retrieval is guided by the\n",
      "similarity of content in the documents to the query, which can be determined\n",
      "through various techniques like vector embeddings or semantic similarity\n",
      "measures. The retrieved documents are then fed into the language model. In some\n",
      "implementations, this integration happens at the token level, where the model\n",
      "can access and incorporate specific pieces of information from the retrieved\n",
      "texts dynamically as it generates each part of the response. The language model,\n",
      "now augmented with direct access to retrieved information, generates a response.\n",
      "This response is not only influenced by the training of the model but also by\n",
      "the specific facts and details contained in the retrieved documents, making it\n",
      "more tailored and accurate. By directly incorporating information from external\n",
      "sources, Retrieval Augmented Generation (RAG) models can produce responses that\n",
      "are more factual and relevant to the given query. This is particularly useful in\n",
      "domains like medical advice, technical support, and other areas where precision\n",
      "and up-to-date knowledge are crucial. Retrieval Augmented Generation (RAG)\n",
      "systems can dynamically adapt to new information since they retrieve data in\n",
      "real-time from their databases. This allows them to remain current with the\n",
      "latest knowledge and trends without needing frequent retraining. With access to\n",
      "a wide range of documents, Retrieval Augmented Generation (RAG) systems can\n",
      "provide detailed and nuanced answers that a standalone language model might not\n",
      "be capable of generating based solely on its pre-trained knowledge. While\n",
      "Retrieval Augmented Generation (RAG) offers substantial benefits, it also comes\n",
      "with its challenges. These include the complexity of integrating retrieval and\n",
      "generation systems, the computational overhead associated with real-time data\n",
      "retrieval, and the need for maintaining a large, up-to-date, and high-quality\n",
      "database of retrievable texts. Furthermore, ensuring the relevance and accuracy\n",
      "of the retrieved information remains a significant challenge, as does managing\n",
      "the potential for introducing biases or errors from the external sources. In\n",
      "summary, Retrieval Augmented Generation represents a significant advancement in\n",
      "the field of artificial intelligence, merging the best of retrieval-based and\n",
      "generative technologies to create systems that not only understand and generate\n",
      "natural language but also deeply comprehend and utilize the vast amounts of\n",
      "information available in textual form. A RAG vector store is a database or\n",
      "dataset that contains vectorized data points.\n"
     ]
    }
   ],
   "source": [
    "import textwrap\n",
    "paragraph = ' '.join(db_records)\n",
    "wrapped_text = textwrap.fill(paragraph, width=80)\n",
    "print(wrapped_text)"
   ]
  },
  {
   "cell_type": "markdown",
   "metadata": {
    "id": "aL7cHuuLhQ5w"
   },
   "source": [
    "# 4.The Query"
   ]
  },
  {
   "cell_type": "code",
   "execution_count": 6,
   "metadata": {
    "id": "qARk6gtohSXW"
   },
   "outputs": [],
   "source": [
    "query = \"define a rag store\""
   ]
  },
  {
   "cell_type": "markdown",
   "metadata": {
    "id": "iITo3QIF7yeK"
   },
   "source": [
    "Generation without augmentation"
   ]
  },
  {
   "cell_type": "code",
   "execution_count": null,
   "metadata": {},
   "outputs": [],
   "source": [
    "# LMStudio receives this ... for the \"hermes-3-llama-3.1-8b\" model ... \n",
    "\n",
    "# Received POST request to /v1/chat/completions with body: {\n",
    "# \"messages\": [\n",
    "#     {\n",
    "#     \"role\": \"system\",\n",
    "#     \"content\": \"You are an expert Natural Language Processing exercise expert.\"\n",
    "#     },\n",
    "#     {\n",
    "#     \"role\": \"assistant\",\n",
    "#     \"content\": \"1.You can explain read the input and answer in detail\"\n",
    "#     },\n",
    "#     {\n",
    "#     \"role\": \"user\",\n",
    "#     \"content\": \"Please elaborate on the following content:\\nd\\ne\\nf\\ni\\nn\\ne\\n \\na\\n \\nr\\na\\ng\\n \\ns\\nt\\no\\nr\\ne\"\n",
    "#     }\n",
    "# ],\n",
    "# \"model\": \"hermes-3-llama-3.1-8b\",\n",
    "# \"temperature\": 0.1\n",
    "# }\n",
    "\n",
    "# Notice the user content ... it is messed up! ... OpenAI did not do this!"
   ]
  },
  {
   "cell_type": "code",
   "execution_count": null,
   "metadata": {
    "colab": {
     "base_uri": "https://localhost:8080/"
    },
    "id": "TXBILWI47yeM",
    "outputId": "d262bd68-fb4c-4d59-a51b-5a3f60e54e8a"
   },
   "outputs": [
    {
     "name": "stdout",
     "output_type": "stream",
     "text": [
      "Response:\n",
      "---------------\n",
      "It seems like there might have been a typo or formatting issue with your\n",
      "request. The letters \"d\", \"e\", \"f\", \"i\", \"n\", \"e\", followed by spaces and then\n",
      "the word \"rag\" and \"store\" appear to be out of context.  If you meant to ask for\n",
      "a definition of a \"rag store,\" here's what it could mean:  A **rag store** is\n",
      "typically a place where old or used rags are sold. These stores might also sell\n",
      "new cotton, linen, or synthetic cloths that can be used as cleaning materials or\n",
      "for other purposes such as crafting and industrial use. Rags in this context\n",
      "usually refer to pieces of fabric that have been cut into smaller sizes from\n",
      "larger sheets of material.  If you meant something else by \"d e f i n e a r a g\n",
      "s t o r e,\" please clarify your request, and I'll be happy to help further!\n",
      "---------------\n",
      "\n"
     ]
    }
   ],
   "source": [
    "# Call the function and print the result\n",
    "llm_response = call_llm_with_full_text(query)\n",
    "print_formatted_response(llm_response)\n",
    "\n",
    "# 23.5s ... kitchen computer\n",
    "# 7.4s ... KAUWITB"
   ]
  },
  {
   "cell_type": "markdown",
   "metadata": {
    "id": "11HLkKQMqaDt"
   },
   "source": [
    "# Part 2: Advanced Techniques and Evaluation"
   ]
  },
  {
   "cell_type": "markdown",
   "metadata": {
    "id": "XMGuZg1WiaUE"
   },
   "source": [
    "# 1.Retrieval Metrics"
   ]
  },
  {
   "cell_type": "markdown",
   "metadata": {
    "id": "KHN6s7wZirQL"
   },
   "source": [
    "## Cosine Similarity"
   ]
  },
  {
   "cell_type": "code",
   "execution_count": 8,
   "metadata": {
    "id": "_GLECrTQirQN"
   },
   "outputs": [],
   "source": [
    "from sklearn.feature_extraction.text import TfidfVectorizer\n",
    "from sklearn.metrics.pairwise import cosine_similarity\n",
    "\n",
    "def calculate_cosine_similarity(text1, text2):\n",
    "    vectorizer = TfidfVectorizer(\n",
    "        stop_words='english',\n",
    "        use_idf=True,\n",
    "        norm='l2',\n",
    "        ngram_range=(1, 2),  # Use unigrams and bigrams\n",
    "        sublinear_tf=True,   # Apply sublinear TF scaling\n",
    "        analyzer='word'      # You could also experiment with 'char' or 'char_wb' for character-level features\n",
    "    )\n",
    "    tfidf = vectorizer.fit_transform([text1, text2])\n",
    "    similarity = cosine_similarity(tfidf[0:1], tfidf[1:2])\n",
    "    return similarity[0][0]"
   ]
  },
  {
   "cell_type": "markdown",
   "metadata": {
    "id": "YTJOi-jrjI5A"
   },
   "source": [
    "## Enhanced Similarity"
   ]
  },
  {
   "cell_type": "code",
   "execution_count": 9,
   "metadata": {},
   "outputs": [
    {
     "name": "stderr",
     "output_type": "stream",
     "text": [
      "[nltk_data] Downloading package wordnet to /home/rob/nltk_data...\n",
      "[nltk_data]   Package wordnet is already up-to-date!\n"
     ]
    }
   ],
   "source": [
    "import spacy\n",
    "import nltk\n",
    "nltk.download('wordnet')\n",
    "from nltk.corpus import wordnet\n",
    "from collections import Counter\n",
    "import numpy as np"
   ]
  },
  {
   "cell_type": "code",
   "execution_count": 10,
   "metadata": {},
   "outputs": [],
   "source": [
    "# Load spaCy model ...\n",
    "# you first need to drop into a terminal window and run ...\n",
    "# python -m spacy download en_core_web_sm\n",
    "nlp = spacy.load(\"en_core_web_sm\")"
   ]
  },
  {
   "cell_type": "code",
   "execution_count": 11,
   "metadata": {
    "colab": {
     "base_uri": "https://localhost:8080/"
    },
    "id": "cnmPG9UWjJXD",
    "outputId": "14129a2a-9e7b-47bb-d88e-a8c70ab50ae7"
   },
   "outputs": [],
   "source": [
    "def get_synonyms(word):\n",
    "    synonyms = set()\n",
    "    for syn in wordnet.synsets(word):\n",
    "        for lemma in syn.lemmas():\n",
    "            synonyms.add(lemma.name())\n",
    "    return synonyms\n",
    "\n",
    "def preprocess_text(text):\n",
    "    doc = nlp(text.lower())\n",
    "    lemmatized_words = []\n",
    "    for token in doc:\n",
    "        if token.is_stop or token.is_punct:\n",
    "            continue\n",
    "        lemmatized_words.append(token.lemma_)\n",
    "    return lemmatized_words\n",
    "\n",
    "def expand_with_synonyms(words):\n",
    "    expanded_words = words.copy()\n",
    "    for word in words:\n",
    "        expanded_words.extend(get_synonyms(word))\n",
    "    return expanded_words\n",
    "\n",
    "def calculate_enhanced_similarity(text1, text2):\n",
    "    # Preprocess and tokenize texts\n",
    "    words1 = preprocess_text(text1)\n",
    "    words2 = preprocess_text(text2)\n",
    "\n",
    "    # Expand with synonyms\n",
    "    words1_expanded = expand_with_synonyms(words1)\n",
    "    words2_expanded = expand_with_synonyms(words2)\n",
    "\n",
    "    # Count word frequencies\n",
    "    freq1 = Counter(words1_expanded)\n",
    "    freq2 = Counter(words2_expanded)\n",
    "\n",
    "    # Create a set of all unique words\n",
    "    unique_words = set(freq1.keys()).union(set(freq2.keys()))\n",
    "\n",
    "    # Create frequency vectors\n",
    "    vector1 = [freq1[word] for word in unique_words]\n",
    "    vector2 = [freq2[word] for word in unique_words]\n",
    "\n",
    "    # Convert lists to numpy arrays\n",
    "    vector1 = np.array(vector1)\n",
    "    vector2 = np.array(vector2)\n",
    "\n",
    "    # Calculate cosine similarity\n",
    "    cosine_similarity = np.dot(vector1, vector2) / (np.linalg.norm(vector1) * np.linalg.norm(vector2))\n",
    "\n",
    "    return cosine_similarity"
   ]
  },
  {
   "cell_type": "markdown",
   "metadata": {
    "id": "JFqh9rr81SUn"
   },
   "source": [
    "# 2.Naive RAG"
   ]
  },
  {
   "cell_type": "markdown",
   "metadata": {
    "id": "Wu8vteKmS_qO"
   },
   "source": [
    "## Keyword search and matching"
   ]
  },
  {
   "cell_type": "code",
   "execution_count": 12,
   "metadata": {
    "colab": {
     "base_uri": "https://localhost:8080/"
    },
    "id": "WY1JU0Ush_l4",
    "outputId": "a20e6e9b-f91d-4f4f-8962-0f7611fd51d7"
   },
   "outputs": [
    {
     "name": "stdout",
     "output_type": "stream",
     "text": [
      "Best Keyword Score: 3\n",
      "Response:\n",
      "---------------\n",
      "A RAG vector store is a database or dataset that contains vectorized data\n",
      "points.\n",
      "---------------\n",
      "\n"
     ]
    }
   ],
   "source": [
    "def find_best_match_keyword_search(query, db_records):\n",
    "    best_score = 0\n",
    "    best_record = None\n",
    "\n",
    "    # Split the query into individual keywords\n",
    "    query_keywords = set(query.lower().split())\n",
    "\n",
    "    # Iterate through each record in db_records\n",
    "    for record in db_records:\n",
    "        # Split the record into keywords\n",
    "        record_keywords = set(record.lower().split())\n",
    "\n",
    "        # Calculate the number of common keywords\n",
    "        common_keywords = query_keywords.intersection(record_keywords)\n",
    "        current_score = len(common_keywords)\n",
    "\n",
    "        # Update the best score and record if the current score is higher\n",
    "        if current_score > best_score:\n",
    "            best_score = current_score\n",
    "            best_record = record\n",
    "\n",
    "    return best_score, best_record\n",
    "\n",
    "# Assuming 'query' and 'db_records' are defined in previous cells in your Colab notebook\n",
    "best_keyword_score, best_matching_record = find_best_match_keyword_search(query, db_records)\n",
    "\n",
    "print(f\"Best Keyword Score: {best_keyword_score}\")\n",
    "print_formatted_response(best_matching_record)"
   ]
  },
  {
   "cell_type": "markdown",
   "metadata": {
    "id": "oak-3k_dkzC3"
   },
   "source": [
    "## Metrics"
   ]
  },
  {
   "cell_type": "code",
   "execution_count": 13,
   "metadata": {
    "colab": {
     "base_uri": "https://localhost:8080/"
    },
    "id": "blcPOIaHkzC4",
    "outputId": "0352d9e2-73e7-4aba-eb91-13d80cd820c8"
   },
   "outputs": [
    {
     "name": "stdout",
     "output_type": "stream",
     "text": [
      "Best Cosine Similarity Score: 0.126\n"
     ]
    }
   ],
   "source": [
    "# Cosine Similarity\n",
    "score = calculate_cosine_similarity(query, best_matching_record)\n",
    "print(f\"Best Cosine Similarity Score: {score:.3f}\")"
   ]
  },
  {
   "cell_type": "code",
   "execution_count": 14,
   "metadata": {
    "colab": {
     "base_uri": "https://localhost:8080/"
    },
    "id": "1OW0l24IkzC5",
    "outputId": "009b16b0-5f38-42d9-ad08-db130568276e"
   },
   "outputs": [
    {
     "name": "stdout",
     "output_type": "stream",
     "text": [
      "define a rag store :  A RAG vector store is a database or dataset that contains vectorized data points.\n",
      "Enhanced Similarity:, 0.642\n"
     ]
    }
   ],
   "source": [
    "# Enhanced Similarity\n",
    "response = best_matching_record\n",
    "print(query,\": \", response)\n",
    "similarity_score = calculate_enhanced_similarity(query, response)\n",
    "print(f\"Enhanced Similarity:, {similarity_score:.3f}\")"
   ]
  },
  {
   "cell_type": "markdown",
   "metadata": {
    "id": "r2zKQhiO0Fcr"
   },
   "source": [
    "## Augmented input"
   ]
  },
  {
   "cell_type": "code",
   "execution_count": 15,
   "metadata": {
    "id": "r_7ymSxG0Fcs"
   },
   "outputs": [],
   "source": [
    "augmented_input=query+ \": \"+ best_matching_record"
   ]
  },
  {
   "cell_type": "code",
   "execution_count": 16,
   "metadata": {
    "colab": {
     "base_uri": "https://localhost:8080/"
    },
    "id": "7NTfxzum0PT2",
    "outputId": "3d8a0bd9-33bb-44da-8b99-38982adeabc2"
   },
   "outputs": [
    {
     "name": "stdout",
     "output_type": "stream",
     "text": [
      "Response:\n",
      "---------------\n",
      "define a rag store: A RAG vector store is a database or dataset that contains\n",
      "vectorized data points.\n",
      "---------------\n",
      "\n"
     ]
    }
   ],
   "source": [
    "print_formatted_response(augmented_input)"
   ]
  },
  {
   "cell_type": "markdown",
   "metadata": {
    "id": "8Ui8wH4k3_g4"
   },
   "source": [
    "## Generation"
   ]
  },
  {
   "cell_type": "code",
   "execution_count": null,
   "metadata": {
    "colab": {
     "base_uri": "https://localhost:8080/"
    },
    "id": "Jh8BsnUy0Fcs",
    "outputId": "fbd0790d-0fd6-4648-c2c3-0a3a6b077d27"
   },
   "outputs": [
    {
     "name": "stdout",
     "output_type": "stream",
     "text": [
      "Response:\n",
      "---------------\n",
      "Certainly! Let's clarify and elaborate on the provided content about a RAG\n",
      "vector store.  ### Definition of a RAG Vector Store:  A **RAG (Retrieval-\n",
      "Augmented Generation) vector store** is a database or dataset that contains\n",
      "vectorized data points.   #### Key Points: 1. **Vectorization**: The process of\n",
      "converting raw data into numerical vectors, which can be used for various\n",
      "machine learning and natural language processing tasks. 2. **Data Points**:\n",
      "These are individual pieces of information (e.g., text documents, images)\n",
      "represented as vectors in a multi-dimensional space. 3. **Database or Dataset**:\n",
      "A structured collection where these vectorized data points are stored.  ###\n",
      "Detailed Explanation:  - **Vectorization Process**:   - Raw data such as text\n",
      "documents, audio files, or images is transformed into numerical vectors through\n",
      "techniques like TF-IDF (Term Frequency-Inverse Document Frequency), word\n",
      "embeddings (e.g., Word2Vec, GloVe), or deep learning models.    - **Data Points\n",
      "Representation**:   - Each piece of raw data is converted to a vector in a high-\n",
      "dimensional space. For example, if you have text documents, each document might\n",
      "be represented as a dense vector where each dimension corresponds to the\n",
      "presence and importance of different words.  - **Storage Mechanism**:   - The\n",
      "vectors are stored in an efficient manner that allows for fast retrieval. This\n",
      "can involve various data structures or databases optimized for vector similarity\n",
      "searches (e.g., Faiss, Pinecone).  ### Purpose:  The primary purpose of a RAG\n",
      "vector store is to enable efficient and effective information retrieval and\n",
      "augmentation tasks. In the context of Retrieval-Augmented Generation models: -\n",
      "**Retrieval**: The model can quickly find relevant documents or data points\n",
      "based on their similarity to a query. - **Generation**: Using the retrieved\n",
      "vectors, the model generates more accurate and contextually relevant responses.\n",
      "### Example Scenario:  Imagine you have a large corpus of text documents (e.g.,\n",
      "articles, books) that are vectorized using BERT embeddings. These vectors are\n",
      "stored in a RAG vector store. When someone asks a question like \"What is Natural\n",
      "Language Processing?\", the model retrieves the most similar document vectors\n",
      "from the store and uses this information to generate an accurate response.  In\n",
      "summary, a **RAG vector store** serves as a repository of vectorized data points\n",
      "that can be efficiently queried for retrieval tasks in machine learning models.\n",
      "---------------\n",
      "\n"
     ]
    }
   ],
   "source": [
    "# Call the function and print the result\n",
    "llm_response = call_llm_with_full_text(augmented_input)\n",
    "print_formatted_response(llm_response)\n",
    "\n",
    "# 1m 22.2s ... kitchen computer\n",
    "# 18.6s ... KAUWITB"
   ]
  },
  {
   "cell_type": "markdown",
   "metadata": {
    "id": "zJH2__0iTUr1"
   },
   "source": [
    "# 3.Advanced RAG"
   ]
  },
  {
   "cell_type": "markdown",
   "metadata": {
    "id": "awyjcn35jFiy"
   },
   "source": [
    "## 3.1.Vector search"
   ]
  },
  {
   "cell_type": "markdown",
   "metadata": {
    "id": "kD8_758kkq3h"
   },
   "source": [
    "### Search function"
   ]
  },
  {
   "cell_type": "code",
   "execution_count": 18,
   "metadata": {
    "id": "FCBbY4qLc8qh"
   },
   "outputs": [],
   "source": [
    "def find_best_match(text_input, records):\n",
    "    best_score = 0\n",
    "    best_record = None\n",
    "    for record in records:\n",
    "        current_score = calculate_cosine_similarity(text_input, record)\n",
    "        if current_score > best_score:\n",
    "            best_score = current_score\n",
    "            best_record = record\n",
    "    return best_score, best_record"
   ]
  },
  {
   "cell_type": "code",
   "execution_count": 19,
   "metadata": {
    "id": "RG1iM-U33OCg"
   },
   "outputs": [],
   "source": [
    "best_similarity_score, best_matching_record = find_best_match(query, db_records)"
   ]
  },
  {
   "cell_type": "code",
   "execution_count": 20,
   "metadata": {
    "colab": {
     "base_uri": "https://localhost:8080/"
    },
    "id": "PLa9NQ4Cm_YQ",
    "outputId": "7aac4922-3c63-48a0-afa4-32580bedbc5f"
   },
   "outputs": [
    {
     "name": "stdout",
     "output_type": "stream",
     "text": [
      "Response:\n",
      "---------------\n",
      "A RAG vector store is a database or dataset that contains vectorized data\n",
      "points.\n",
      "---------------\n",
      "\n"
     ]
    }
   ],
   "source": [
    "print_formatted_response(best_matching_record)"
   ]
  },
  {
   "cell_type": "markdown",
   "metadata": {
    "id": "A60QoOA3jf9j"
   },
   "source": [
    "### Metrics"
   ]
  },
  {
   "cell_type": "code",
   "execution_count": 21,
   "metadata": {
    "colab": {
     "base_uri": "https://localhost:8080/"
    },
    "id": "yIUh-38knHLI",
    "outputId": "11f8eeb6-7cd3-40bc-c6ad-fe03332f5f7c"
   },
   "outputs": [
    {
     "name": "stdout",
     "output_type": "stream",
     "text": [
      "Best Cosine Similarity Score: 0.126\n"
     ]
    }
   ],
   "source": [
    "print(f\"Best Cosine Similarity Score: {best_similarity_score:.3f}\")"
   ]
  },
  {
   "cell_type": "code",
   "execution_count": 22,
   "metadata": {
    "colab": {
     "base_uri": "https://localhost:8080/"
    },
    "id": "PQopW_FSjBSr",
    "outputId": "75cef793-36ee-4dee-ca1a-6d41844654b8"
   },
   "outputs": [
    {
     "name": "stdout",
     "output_type": "stream",
     "text": [
      "define a rag store :  A RAG vector store is a database or dataset that contains vectorized data points.\n",
      "Enhanced Similarity:, 0.642\n"
     ]
    }
   ],
   "source": [
    "# Enhanced Similarity\n",
    "response = best_matching_record\n",
    "print(query,\": \", response)\n",
    "similarity_score = calculate_enhanced_similarity(query, best_matching_record)\n",
    "print(f\"Enhanced Similarity:, {similarity_score:.3f}\")"
   ]
  },
  {
   "cell_type": "markdown",
   "metadata": {
    "id": "51fZC6Oe2G9E"
   },
   "source": [
    "### Augmented input"
   ]
  },
  {
   "cell_type": "code",
   "execution_count": 23,
   "metadata": {
    "id": "4dcnK7OGx5e6"
   },
   "outputs": [],
   "source": [
    "augmented_input=query+\": \"+best_matching_record"
   ]
  },
  {
   "cell_type": "code",
   "execution_count": 24,
   "metadata": {
    "colab": {
     "base_uri": "https://localhost:8080/"
    },
    "id": "T3uk-91x049J",
    "outputId": "81eed858-e9f5-45ef-e603-1c9374490398"
   },
   "outputs": [
    {
     "name": "stdout",
     "output_type": "stream",
     "text": [
      "Response:\n",
      "---------------\n",
      "define a rag store: A RAG vector store is a database or dataset that contains\n",
      "vectorized data points.\n",
      "---------------\n",
      "\n"
     ]
    }
   ],
   "source": [
    "print_formatted_response(augmented_input)"
   ]
  },
  {
   "cell_type": "markdown",
   "metadata": {
    "id": "wFDF6hbi2LF9"
   },
   "source": [
    "### Generation"
   ]
  },
  {
   "cell_type": "code",
   "execution_count": null,
   "metadata": {
    "colab": {
     "base_uri": "https://localhost:8080/"
    },
    "id": "YJC-mA5ftxFU",
    "outputId": "1358b6e7-da69-45b5-b22d-818f489be893"
   },
   "outputs": [
    {
     "name": "stdout",
     "output_type": "stream",
     "text": [
      "Response:\n",
      "---------------\n",
      "Certainly! Let's clarify and elaborate on the provided content.  ### Definition\n",
      "of a RAG Store:  A **RAG Vector store** is a database or dataset that contains\n",
      "vectorized data points.   To break this down further: - **Vectorization**: This\n",
      "process involves converting non-numerical data (like text, images) into\n",
      "numerical vectors which can be used for various machine learning and natural\n",
      "language processing tasks. - **Vectors**: In the context of NLP, these are often\n",
      "high-dimensional representations of words or documents. For example, word\n",
      "embeddings like Word2Vec or GloVe convert each word into a vector in a multi-\n",
      "dimensional space where semantically similar words have vectors that are close\n",
      "to each other. - **Store/Dataset**: This refers to the structure used for\n",
      "storing and managing these vectors efficiently. It could be any kind of database\n",
      "(like SQL, NoSQL) or specialized data structures designed specifically for\n",
      "handling large volumes of vector data.  ### Purpose: The primary purpose of a\n",
      "RAG Vector store is to facilitate efficient querying and retrieval of similar\n",
      "items based on their vector representations. This can be particularly useful in\n",
      "applications such as recommendation systems, information retrieval, and semantic\n",
      "search engines.  ### Example Scenario: Imagine you have a dataset of customer\n",
      "reviews for different products. Each review could be converted into a vector\n",
      "using techniques like TF-IDF or BERT embeddings. The RAG Vector store would then\n",
      "contain these vectors, allowing you to efficiently find similar reviews based on\n",
      "their content.  In summary, a **RAG Vector store** is an essential component in\n",
      "many machine learning pipelines where data needs to be represented numerically\n",
      "and queried based on similarity measures derived from vector spaces.\n",
      "---------------\n",
      "\n"
     ]
    }
   ],
   "source": [
    "# Call the function and print the result\n",
    "llm_response = call_llm_with_full_text(augmented_input)\n",
    "print_formatted_response(llm_response)\n",
    "\n",
    "# 1m 42.9s ... kitchen computer\n",
    "# 12.7s ... KAUWITB"
   ]
  },
  {
   "cell_type": "markdown",
   "metadata": {
    "id": "t7djpPBpm0M2"
   },
   "source": [
    "## 3.2.Index-based search"
   ]
  },
  {
   "cell_type": "markdown",
   "metadata": {
    "id": "WyDUhy_1lBfT"
   },
   "source": [
    "### Search Function"
   ]
  },
  {
   "cell_type": "code",
   "execution_count": 26,
   "metadata": {
    "colab": {
     "base_uri": "https://localhost:8080/"
    },
    "id": "wRarT_fym2XC",
    "outputId": "9504537f-2354-48bd-de30-f5b4d48b789f"
   },
   "outputs": [
    {
     "name": "stdout",
     "output_type": "stream",
     "text": [
      "Response:\n",
      "---------------\n",
      "A RAG vector store is a database or dataset that contains vectorized data\n",
      "points.\n",
      "---------------\n",
      "\n"
     ]
    }
   ],
   "source": [
    "from sklearn.feature_extraction.text import TfidfVectorizer\n",
    "from sklearn.metrics.pairwise import cosine_similarity\n",
    "\n",
    "def setup_vectorizer(records):\n",
    "    vectorizer = TfidfVectorizer()\n",
    "    tfidf_matrix = vectorizer.fit_transform(records)\n",
    "    return vectorizer, tfidf_matrix\n",
    "\n",
    "def find_best_match(query, vectorizer, tfidf_matrix):\n",
    "    query_tfidf = vectorizer.transform([query])\n",
    "    similarities = cosine_similarity(query_tfidf, tfidf_matrix)\n",
    "    best_index = similarities.argmax()  # Get the index of the highest similarity score\n",
    "    best_score = similarities[0, best_index]\n",
    "    return best_score, best_index\n",
    "\n",
    "vectorizer, tfidf_matrix = setup_vectorizer(db_records)\n",
    "\n",
    "best_similarity_score, best_index = find_best_match(query, vectorizer, tfidf_matrix)\n",
    "best_matching_record = db_records[best_index]\n",
    "\n",
    "print_formatted_response(best_matching_record)"
   ]
  },
  {
   "cell_type": "markdown",
   "metadata": {
    "id": "Jt3iBtJFj4sa"
   },
   "source": [
    "### Metrics"
   ]
  },
  {
   "cell_type": "code",
   "execution_count": 27,
   "metadata": {
    "colab": {
     "base_uri": "https://localhost:8080/"
    },
    "id": "UoNUQqx5j3r4",
    "outputId": "96893316-9ce5-4a2b-9706-20bef4cf1e64"
   },
   "outputs": [
    {
     "name": "stdout",
     "output_type": "stream",
     "text": [
      "Best Cosine Similarity Score: 0.407\n",
      "Response:\n",
      "---------------\n",
      "A RAG vector store is a database or dataset that contains vectorized data\n",
      "points.\n",
      "---------------\n",
      "\n"
     ]
    }
   ],
   "source": [
    "# Cosine Similarity\n",
    "print(f\"Best Cosine Similarity Score: {best_similarity_score:.3f}\")\n",
    "print_formatted_response(best_matching_record)"
   ]
  },
  {
   "cell_type": "code",
   "execution_count": 28,
   "metadata": {
    "colab": {
     "base_uri": "https://localhost:8080/"
    },
    "id": "vg910Mhuj3sO",
    "outputId": "262b207e-5ecb-4441-fc15-656cbd0a7ffd"
   },
   "outputs": [
    {
     "name": "stdout",
     "output_type": "stream",
     "text": [
      "define a rag store :  A RAG vector store is a database or dataset that contains vectorized data points.\n",
      "Enhanced Similarity:, 0.642\n"
     ]
    }
   ],
   "source": [
    "# Enhanced Similarity\n",
    "response = best_matching_record\n",
    "print(query,\": \", response)\n",
    "similarity_score = calculate_enhanced_similarity(query, response)\n",
    "print(f\"Enhanced Similarity:, {similarity_score:.3f}\")"
   ]
  },
  {
   "cell_type": "markdown",
   "metadata": {
    "id": "ubm0DTxKeqR9"
   },
   "source": [
    "Feature extraction"
   ]
  },
  {
   "cell_type": "code",
   "execution_count": 29,
   "metadata": {
    "colab": {
     "base_uri": "https://localhost:8080/"
    },
    "id": "SbokQ2eacHjM",
    "outputId": "52a1e0f4-ff6c-44ed-8d45-8f1153fc8c7c"
   },
   "outputs": [
    {
     "name": "stdout",
     "output_type": "stream",
     "text": [
      "     ability    access  accuracy  accurate     adapt  additional  advancement  \\\n",
      "0   0.000000  0.000000  0.000000  0.000000  0.000000    0.000000     0.000000   \n",
      "1   0.000000  0.000000  0.000000  0.216364  0.000000    0.000000     0.000000   \n",
      "2   0.000000  0.000000  0.000000  0.000000  0.000000    0.000000     0.000000   \n",
      "3   0.000000  0.000000  0.000000  0.000000  0.000000    0.000000     0.000000   \n",
      "4   0.000000  0.000000  0.000000  0.000000  0.000000    0.236479     0.000000   \n",
      "5   0.000000  0.000000  0.000000  0.000000  0.000000    0.000000     0.000000   \n",
      "6   0.000000  0.000000  0.000000  0.000000  0.000000    0.000000     0.000000   \n",
      "7   0.000000  0.000000  0.000000  0.000000  0.000000    0.000000     0.000000   \n",
      "8   0.000000  0.000000  0.000000  0.000000  0.000000    0.000000     0.000000   \n",
      "9   0.000000  0.000000  0.000000  0.000000  0.000000    0.000000     0.000000   \n",
      "10  0.186734  0.000000  0.000000  0.000000  0.000000    0.000000     0.000000   \n",
      "11  0.000000  0.000000  0.000000  0.000000  0.000000    0.000000     0.000000   \n",
      "12  0.000000  0.000000  0.000000  0.000000  0.000000    0.000000     0.000000   \n",
      "13  0.000000  0.000000  0.000000  0.000000  0.000000    0.000000     0.000000   \n",
      "14  0.000000  0.000000  0.000000  0.000000  0.000000    0.000000     0.000000   \n",
      "15  0.000000  0.172624  0.000000  0.000000  0.000000    0.000000     0.000000   \n",
      "16  0.000000  0.317970  0.000000  0.000000  0.000000    0.000000     0.000000   \n",
      "17  0.000000  0.000000  0.000000  0.206861  0.000000    0.000000     0.000000   \n",
      "18  0.000000  0.000000  0.000000  0.000000  0.000000    0.000000     0.000000   \n",
      "19  0.000000  0.000000  0.000000  0.000000  0.000000    0.000000     0.000000   \n",
      "20  0.000000  0.000000  0.000000  0.000000  0.275802    0.000000     0.000000   \n",
      "21  0.000000  0.000000  0.000000  0.000000  0.000000    0.000000     0.000000   \n",
      "22  0.000000  0.174772  0.000000  0.000000  0.000000    0.000000     0.000000   \n",
      "23  0.000000  0.000000  0.000000  0.000000  0.000000    0.000000     0.000000   \n",
      "24  0.000000  0.000000  0.000000  0.000000  0.000000    0.000000     0.000000   \n",
      "25  0.000000  0.000000  0.228743  0.000000  0.000000    0.000000     0.000000   \n",
      "26  0.000000  0.000000  0.000000  0.000000  0.000000    0.000000     0.173327   \n",
      "27  0.000000  0.000000  0.000000  0.000000  0.000000    0.000000     0.000000   \n",
      "\n",
      "      advice  algorithms    allows  ...    vector  vectorized      when  \\\n",
      "0   0.000000    0.000000  0.000000  ...  0.000000     0.00000  0.000000   \n",
      "1   0.000000    0.000000  0.000000  ...  0.000000     0.00000  0.000000   \n",
      "2   0.000000    0.000000  0.000000  ...  0.000000     0.00000  0.000000   \n",
      "3   0.000000    0.000000  0.000000  ...  0.000000     0.00000  0.000000   \n",
      "4   0.000000    0.000000  0.000000  ...  0.000000     0.00000  0.000000   \n",
      "5   0.000000    0.000000  0.000000  ...  0.000000     0.00000  0.000000   \n",
      "6   0.000000    0.000000  0.000000  ...  0.000000     0.00000  0.000000   \n",
      "7   0.000000    0.220687  0.000000  ...  0.000000     0.00000  0.000000   \n",
      "8   0.000000    0.000000  0.000000  ...  0.000000     0.00000  0.000000   \n",
      "9   0.000000    0.000000  0.000000  ...  0.000000     0.00000  0.000000   \n",
      "10  0.000000    0.000000  0.000000  ...  0.000000     0.00000  0.000000   \n",
      "11  0.000000    0.000000  0.000000  ...  0.000000     0.00000  0.295573   \n",
      "12  0.000000    0.000000  0.000000  ...  0.000000     0.00000  0.000000   \n",
      "13  0.000000    0.000000  0.000000  ...  0.200131     0.00000  0.000000   \n",
      "14  0.000000    0.000000  0.000000  ...  0.000000     0.00000  0.000000   \n",
      "15  0.000000    0.000000  0.000000  ...  0.000000     0.00000  0.000000   \n",
      "16  0.000000    0.000000  0.000000  ...  0.000000     0.00000  0.000000   \n",
      "17  0.000000    0.000000  0.000000  ...  0.000000     0.00000  0.000000   \n",
      "18  0.000000    0.000000  0.000000  ...  0.000000     0.00000  0.000000   \n",
      "19  0.244401    0.000000  0.000000  ...  0.000000     0.00000  0.000000   \n",
      "20  0.000000    0.000000  0.000000  ...  0.000000     0.00000  0.000000   \n",
      "21  0.000000    0.000000  0.291503  ...  0.000000     0.00000  0.000000   \n",
      "22  0.000000    0.000000  0.000000  ...  0.000000     0.00000  0.000000   \n",
      "23  0.000000    0.000000  0.000000  ...  0.000000     0.00000  0.000000   \n",
      "24  0.000000    0.000000  0.000000  ...  0.000000     0.00000  0.000000   \n",
      "25  0.000000    0.000000  0.000000  ...  0.000000     0.00000  0.000000   \n",
      "26  0.000000    0.000000  0.000000  ...  0.000000     0.00000  0.000000   \n",
      "27  0.000000    0.000000  0.000000  ...  0.307719     0.34589  0.000000   \n",
      "\n",
      "       where     which    while     wide      with    within   without  \n",
      "0   0.000000  0.000000  0.00000  0.00000  0.000000  0.260582  0.000000  \n",
      "1   0.000000  0.000000  0.00000  0.00000  0.160278  0.000000  0.000000  \n",
      "2   0.000000  0.000000  0.00000  0.00000  0.000000  0.000000  0.000000  \n",
      "3   0.000000  0.000000  0.00000  0.00000  0.000000  0.000000  0.000000  \n",
      "4   0.000000  0.000000  0.00000  0.00000  0.000000  0.000000  0.000000  \n",
      "5   0.000000  0.247710  0.00000  0.00000  0.000000  0.000000  0.000000  \n",
      "6   0.000000  0.000000  0.00000  0.00000  0.000000  0.000000  0.000000  \n",
      "7   0.000000  0.179053  0.00000  0.00000  0.000000  0.000000  0.000000  \n",
      "8   0.000000  0.000000  0.00000  0.00000  0.000000  0.000000  0.000000  \n",
      "9   0.000000  0.000000  0.00000  0.00000  0.000000  0.000000  0.000000  \n",
      "10  0.000000  0.000000  0.00000  0.00000  0.000000  0.000000  0.000000  \n",
      "11  0.000000  0.000000  0.00000  0.00000  0.000000  0.000000  0.000000  \n",
      "12  0.000000  0.000000  0.00000  0.00000  0.000000  0.000000  0.000000  \n",
      "13  0.000000  0.182517  0.00000  0.00000  0.000000  0.000000  0.000000  \n",
      "14  0.000000  0.000000  0.00000  0.00000  0.000000  0.000000  0.000000  \n",
      "15  0.189283  0.000000  0.00000  0.00000  0.000000  0.000000  0.000000  \n",
      "16  0.000000  0.000000  0.00000  0.00000  0.258278  0.000000  0.000000  \n",
      "17  0.000000  0.000000  0.00000  0.00000  0.000000  0.000000  0.000000  \n",
      "18  0.000000  0.000000  0.00000  0.00000  0.000000  0.000000  0.000000  \n",
      "19  0.217430  0.000000  0.00000  0.00000  0.000000  0.000000  0.000000  \n",
      "20  0.000000  0.000000  0.00000  0.00000  0.000000  0.000000  0.000000  \n",
      "21  0.000000  0.000000  0.00000  0.00000  0.192110  0.000000  0.291503  \n",
      "22  0.000000  0.000000  0.00000  0.21541  0.141963  0.000000  0.000000  \n",
      "23  0.000000  0.000000  0.32932  0.00000  0.217033  0.000000  0.000000  \n",
      "24  0.000000  0.000000  0.00000  0.00000  0.134513  0.000000  0.000000  \n",
      "25  0.000000  0.000000  0.00000  0.00000  0.000000  0.000000  0.000000  \n",
      "26  0.000000  0.000000  0.00000  0.00000  0.000000  0.000000  0.000000  \n",
      "27  0.000000  0.000000  0.00000  0.00000  0.000000  0.000000  0.000000  \n",
      "\n",
      "[28 rows x 297 columns]\n"
     ]
    }
   ],
   "source": [
    "import pandas as pd\n",
    "from sklearn.feature_extraction.text import TfidfVectorizer\n",
    "\n",
    "def setup_vectorizer(records):\n",
    "    vectorizer = TfidfVectorizer()\n",
    "    tfidf_matrix = vectorizer.fit_transform(records)\n",
    "\n",
    "    # Convert the TF-IDF matrix to a DataFrame for display purposes\n",
    "    tfidf_df = pd.DataFrame(tfidf_matrix.toarray(), columns=vectorizer.get_feature_names_out())\n",
    "\n",
    "    # Display the DataFrame\n",
    "    print(tfidf_df)\n",
    "\n",
    "    return vectorizer, tfidf_matrix\n",
    "\n",
    "vectorizer, tfidf_matrix = setup_vectorizer(db_records)"
   ]
  },
  {
   "cell_type": "markdown",
   "metadata": {
    "id": "dABZ12Bkugtt"
   },
   "source": [
    "### Augmented input"
   ]
  },
  {
   "cell_type": "code",
   "execution_count": 30,
   "metadata": {
    "id": "1w4wppuA4eNn"
   },
   "outputs": [],
   "source": [
    "augmented_input=query+\": \"+best_matching_record"
   ]
  },
  {
   "cell_type": "code",
   "execution_count": 31,
   "metadata": {
    "colab": {
     "base_uri": "https://localhost:8080/"
    },
    "id": "MNozI65K4e7u",
    "outputId": "9a909e7f-bd6d-450c-dd2c-a96b8ec4ad62"
   },
   "outputs": [
    {
     "name": "stdout",
     "output_type": "stream",
     "text": [
      "Response:\n",
      "---------------\n",
      "define a rag store: A RAG vector store is a database or dataset that contains\n",
      "vectorized data points.\n",
      "---------------\n",
      "\n"
     ]
    }
   ],
   "source": [
    "print_formatted_response(augmented_input)"
   ]
  },
  {
   "cell_type": "markdown",
   "metadata": {
    "id": "hU998zkD4hpD"
   },
   "source": [
    "### Generation"
   ]
  },
  {
   "cell_type": "code",
   "execution_count": null,
   "metadata": {
    "colab": {
     "base_uri": "https://localhost:8080/"
    },
    "id": "uy9X-l_Iugtt",
    "outputId": "508c8c2c-e2a6-48fe-bfb0-ccd4add39e74"
   },
   "outputs": [
    {
     "name": "stdout",
     "output_type": "stream",
     "text": [
      "Response:\n",
      "---------------\n",
      "Certainly! Let's break down and elaborate on the provided content:  ###\n",
      "Definition of a RAG Store: A **RAG vector store** is a database or dataset that\n",
      "contains vectorized data points.  #### Explanation: - **Vectorization**: This\n",
      "process involves converting raw data (such as text, images, audio) into\n",
      "numerical vectors. These vectors capture the essential features and\n",
      "characteristics of the original data in a format that can be easily processed by\n",
      "machine learning algorithms.    - **Vectors**: In this context, vectors are\n",
      "arrays or lists of numbers representing different attributes or features of the\n",
      "data points.  - **RAG (Retrieval-Augmented Generation)**: This term typically\n",
      "refers to an approach where a model uses both retrieval-based and generative\n",
      "methods. The \"retrieval\" part involves fetching relevant information from a\n",
      "database or dataset, while the \"generation\" part involves creating new content\n",
      "based on that retrieved information.  - **RAG Vector Store**: A RAG vector store\n",
      "is specifically designed to hold these vectors in an organized manner so they\n",
      "can be efficiently queried and used for tasks such as similarity searches. This\n",
      "allows models to quickly find relevant data points (vectors) when needed,\n",
      "enhancing the performance of retrieval-based systems.  ### Key Features: 1.\n",
      "**Efficient Storage**: The RAG vector store is optimized for storing large\n",
      "numbers of vectors in a way that they can be accessed and retrieved efficiently.\n",
      "2. **Querying Capabilities**: It supports operations like similarity search\n",
      "(finding vectors similar to a given query vector) which are crucial for tasks\n",
      "such as recommendation systems, information retrieval, and content-based\n",
      "filtering. 3. **Scalability**: Designed to handle large datasets, making it\n",
      "suitable for applications with extensive amounts of data.  ### Applications: -\n",
      "**Information Retrieval Systems**: Used in search engines where the system\n",
      "retrieves documents or pieces of text similar to a user's query. -\n",
      "**Recommendation Engines**: In e-commerce platforms, recommending products based\n",
      "on customer preferences and past behavior. - **Natural Language Processing\n",
      "(NLP)**: For tasks like question answering systems where relevant context is\n",
      "retrieved from large corpora.  In summary, a RAG vector store serves as an\n",
      "essential component in modern AI applications by efficiently storing and\n",
      "retrieving vectorized data points, thereby enhancing the performance of\n",
      "retrieval-based models.\n",
      "---------------\n",
      "\n"
     ]
    }
   ],
   "source": [
    "# Call the function and print the result\n",
    "llm_response = call_llm_with_full_text(augmented_input)\n",
    "print_formatted_response(llm_response)\n",
    "\n",
    "# 1m 24.5s ... kitchen computer\n",
    "# 17.5s ... KAUWITB"
   ]
  },
  {
   "cell_type": "markdown",
   "metadata": {
    "id": "wWEvzcDHTX6i"
   },
   "source": [
    "# 4.Modular RAG\n",
    "\n",
    "Modular RAG can combine methods. For example:\n",
    "\n",
    "**keyword search**:Searches through each document to find the one that best matches the keyword(s).\n",
    "\n",
    "**vector search**: Searches through each document and calculates similarity.\n",
    "\n",
    "**indexed search**: Uses a precomputed index (TF-IDF matrix) to compute cosine similarities."
   ]
  },
  {
   "cell_type": "markdown",
   "metadata": {
    "id": "sv-VqmLf3EQ9"
   },
   "source": [
    "**October 25, 2025 update**\n",
    "\n",
    "`self.documents` is initialized in the fit method to hold the records used for searching and enable the `keyword_search` function to access them without error.\n",
    "\n",
    "**Note on Vector search**\n",
    "\n",
    "In this case, the `def vector_search(self, query):` uses `tfidf_matrix`to increase the vector search performance.\n",
    "\n",
    "The `def vector_search(self, query):` function could use a brute-force method as implemented in `Section 3.1.Vector search` of this notebook."
   ]
  },
  {
   "cell_type": "code",
   "execution_count": 33,
   "metadata": {
    "id": "18wmqwJd4o62"
   },
   "outputs": [],
   "source": [
    "from sklearn.feature_extraction.text import TfidfVectorizer\n",
    "from sklearn.metrics.pairwise import cosine_similarity\n",
    "\n",
    "class RetrievalComponent:\n",
    "    def __init__(self, method='vector'):\n",
    "        self.method = method\n",
    "        if self.method == 'vector' or self.method == 'indexed':\n",
    "            self.vectorizer = TfidfVectorizer()\n",
    "            self.tfidf_matrix = None\n",
    "\n",
    "    def fit(self, records):\n",
    "      self.documents = records  # Initialize self.documents here\n",
    "      if self.method == 'vector' or self.method == 'indexed':\n",
    "        self.tfidf_matrix = self.vectorizer.fit_transform(records)\n",
    "\n",
    "    def retrieve(self, query):\n",
    "        if self.method == 'keyword':\n",
    "            return self.keyword_search(query)\n",
    "        elif self.method == 'vector':\n",
    "            return self.vector_search(query)\n",
    "        elif self.method == 'indexed':\n",
    "            return self.indexed_search(query)\n",
    "\n",
    "    def keyword_search(self, query):\n",
    "        best_score = 0\n",
    "        best_record = None\n",
    "        query_keywords = set(query.lower().split())\n",
    "        for index, doc in enumerate(self.documents):\n",
    "            doc_keywords = set(doc.lower().split())\n",
    "            common_keywords = query_keywords.intersection(doc_keywords)\n",
    "            score = len(common_keywords)\n",
    "            if score > best_score:\n",
    "                best_score = score\n",
    "                best_record = self.documents[index]\n",
    "        return best_record\n",
    "\n",
    "    def vector_search(self, query):\n",
    "        query_tfidf = self.vectorizer.transform([query])\n",
    "        similarities = cosine_similarity(query_tfidf, self.tfidf_matrix)\n",
    "        best_index = similarities.argmax()\n",
    "        return db_records[best_index]\n",
    "\n",
    "    def indexed_search(self, query):\n",
    "        # Assuming the tfidf_matrix is precomputed and stored\n",
    "        query_tfidf = self.vectorizer.transform([query])\n",
    "        similarities = cosine_similarity(query_tfidf, self.tfidf_matrix)\n",
    "        best_index = similarities.argmax()\n",
    "        return db_records[best_index]"
   ]
  },
  {
   "cell_type": "markdown",
   "metadata": {
    "id": "7qHm4saJ8cGk"
   },
   "source": [
    "### Modular RAG Strategies"
   ]
  },
  {
   "cell_type": "code",
   "execution_count": 34,
   "metadata": {
    "colab": {
     "base_uri": "https://localhost:8080/"
    },
    "id": "_kvhIOdY8amp",
    "outputId": "c0a631da-db68-4023-d7b1-dff0586c1dab"
   },
   "outputs": [
    {
     "name": "stdout",
     "output_type": "stream",
     "text": [
      "Response:\n",
      "---------------\n",
      "A RAG vector store is a database or dataset that contains vectorized data\n",
      "points.\n",
      "---------------\n",
      "\n"
     ]
    }
   ],
   "source": [
    "# Usage example\n",
    "retrieval = RetrievalComponent(method='vector')  # Choose from 'keyword', 'vector', 'indexed'\n",
    "retrieval.fit(db_records)\n",
    "best_matching_record = retrieval.retrieve(query)\n",
    "\n",
    "print_formatted_response(best_matching_record)"
   ]
  },
  {
   "cell_type": "markdown",
   "metadata": {
    "id": "DgxXdqzvkYDk"
   },
   "source": [
    "### Metrics"
   ]
  },
  {
   "cell_type": "code",
   "execution_count": 35,
   "metadata": {
    "colab": {
     "base_uri": "https://localhost:8080/"
    },
    "id": "COyYme4IkYDx",
    "outputId": "f6fda5ac-021c-4d98-fe61-b58b5d356dbc"
   },
   "outputs": [
    {
     "name": "stdout",
     "output_type": "stream",
     "text": [
      "Best Cosine Similarity Score: 0.407\n",
      "Response:\n",
      "---------------\n",
      "A RAG vector store is a database or dataset that contains vectorized data\n",
      "points.\n",
      "---------------\n",
      "\n"
     ]
    }
   ],
   "source": [
    "# Cosine Similarity\n",
    "print(f\"Best Cosine Similarity Score: {best_similarity_score:.3f}\")\n",
    "print_formatted_response(best_matching_record)"
   ]
  },
  {
   "cell_type": "code",
   "execution_count": 36,
   "metadata": {
    "colab": {
     "base_uri": "https://localhost:8080/"
    },
    "id": "0YRTpIpzkYDx",
    "outputId": "f35ce40d-5b4e-4917-a9c1-1305df3cc800"
   },
   "outputs": [
    {
     "name": "stdout",
     "output_type": "stream",
     "text": [
      "define a rag store :  A RAG vector store is a database or dataset that contains vectorized data points.\n",
      "Enhanced Similarity: 0.641582812483307\n"
     ]
    }
   ],
   "source": [
    "# Enhanced Similarity\n",
    "response = best_matching_record\n",
    "print(query,\": \", response)\n",
    "similarity_score = calculate_enhanced_similarity(query, response)\n",
    "print(\"Enhanced Similarity:\", similarity_score)"
   ]
  },
  {
   "cell_type": "markdown",
   "metadata": {
    "id": "5TaQa7Dc7JwT"
   },
   "source": [
    "### Augmented Input"
   ]
  },
  {
   "cell_type": "code",
   "execution_count": 37,
   "metadata": {
    "id": "X-hKjhIU7Jwg"
   },
   "outputs": [],
   "source": [
    "augmented_input=query+ \" \"+ best_matching_record"
   ]
  },
  {
   "cell_type": "code",
   "execution_count": 38,
   "metadata": {
    "colab": {
     "base_uri": "https://localhost:8080/"
    },
    "id": "ZhSO-fyZ7Jwg",
    "outputId": "3e17c370-ab59-4ce6-9829-45abe3aff659"
   },
   "outputs": [
    {
     "name": "stdout",
     "output_type": "stream",
     "text": [
      "Response:\n",
      "---------------\n",
      "define a rag store A RAG vector store is a database or dataset that contains\n",
      "vectorized data points.\n",
      "---------------\n",
      "\n"
     ]
    }
   ],
   "source": [
    "print_formatted_response(augmented_input)"
   ]
  },
  {
   "cell_type": "markdown",
   "metadata": {
    "id": "qkyYx_MC7Jwg"
   },
   "source": [
    "### Generation"
   ]
  },
  {
   "cell_type": "code",
   "execution_count": null,
   "metadata": {
    "colab": {
     "base_uri": "https://localhost:8080/"
    },
    "id": "-V3srRHW7Jwh",
    "outputId": "4ebad0d9-0b9e-4ef2-883d-e69fc57b2363"
   },
   "outputs": [
    {
     "name": "stdout",
     "output_type": "stream",
     "text": [
      "Response:\n",
      "---------------\n",
      "Certainly! Let's break down and elaborate on the provided content:  ### Rag\n",
      "Store  The term \"Rag Store\" in this context seems to be a typographical error or\n",
      "an unintended word choice, as it doesn't align with the technical description\n",
      "that follows. It appears there might have been an intention to describe\n",
      "something related to vector storage rather than a physical store for rags.  ###\n",
      "A RAG Vector Store  A **RAG (Retrieval-Augmented Generation) Vector Store** is a\n",
      "database or dataset that contains vectorized data points. This concept is\n",
      "closely associated with machine learning and natural language processing\n",
      "applications, particularly in the context of retrieval-augmented generation\n",
      "models.  #### Key Components:  1. **Vectorization**:     - Data points are\n",
      "converted into numerical vectors through various techniques such as word\n",
      "embeddings (e.g., Word2Vec, GloVe), sentence embeddings (e.g., BERT, RoBERTa),\n",
      "or other feature extraction methods.     2. **Database/Dataset**:    - The\n",
      "vectorized data is stored in a structured format that allows for efficient\n",
      "querying and retrieval. This can be implemented using different types of\n",
      "databases such as relational databases, NoSQL databases, or specialized vector\n",
      "search engines like Faiss (Facebook AI Similarity Search).  3. **Purpose**:    -\n",
      "In the context of RAG models, these vector stores are used to retrieve relevant\n",
      "information from a large corpus of text data when generating responses. This\n",
      "retrieval component is then combined with generative language models to produce\n",
      "more accurate and contextually appropriate outputs.  4. **Applications**:    -\n",
      "Information Retrieval: Finding documents or sentences that closely match the\n",
      "query.    - Recommendation Systems: Recommending items based on user preferences\n",
      "by finding similar vectors in a high-dimensional space.    - Semantic Search:\n",
      "Enhancing search capabilities by understanding the semantic meaning of queries\n",
      "and matching them with relevant content.  ### Summary  A **RAG Vector Store** is\n",
      "essentially a repository for vectorized data points, which are used to support\n",
      "retrieval-augmented generation tasks. This setup allows models to leverage both\n",
      "structured information from vectors and generative capabilities to produce more\n",
      "informed and contextually rich outputs.\n",
      "---------------\n",
      "\n"
     ]
    }
   ],
   "source": [
    "# Call the function and print the result\n",
    "llm_response = call_llm_with_full_text(augmented_input)\n",
    "print_formatted_response(llm_response)\n",
    "\n",
    "# 1m 38.7s ... kitchen computer\n",
    "# 16.7s ... KAUWITB"
   ]
  },
  {
   "cell_type": "code",
   "execution_count": 44,
   "metadata": {},
   "outputs": [
    {
     "name": "stdout",
     "output_type": "stream",
     "text": [
      "Mon Nov 11 09:56:42 2024       \n",
      "+-----------------------------------------------------------------------------------------+\n",
      "| NVIDIA-SMI 550.120                Driver Version: 550.120        CUDA Version: 12.4     |\n",
      "|-----------------------------------------+------------------------+----------------------+\n",
      "| GPU  Name                 Persistence-M | Bus-Id          Disp.A | Volatile Uncorr. ECC |\n",
      "| Fan  Temp   Perf          Pwr:Usage/Cap |           Memory-Usage | GPU-Util  Compute M. |\n",
      "|                                         |                        |               MIG M. |\n",
      "|=========================================+========================+======================|\n",
      "|   0  NVIDIA GeForce RTX 2070 ...    Off |   00000000:2B:00.0  On |                  N/A |\n",
      "| 24%   38C    P2             36W /  215W |    6306MiB /   8192MiB |     20%      Default |\n",
      "|                                         |                        |                  N/A |\n",
      "+-----------------------------------------+------------------------+----------------------+\n",
      "                                                                                         \n",
      "+-----------------------------------------------------------------------------------------+\n",
      "| Processes:                                                                              |\n",
      "|  GPU   GI   CI        PID   Type   Process name                              GPU Memory |\n",
      "|        ID   ID                                                               Usage      |\n",
      "|=========================================================================================|\n",
      "|    0   N/A  N/A      2942      G   /usr/lib/xorg/Xorg                            243MiB |\n",
      "|    0   N/A  N/A      3096      G   /usr/bin/gnome-shell                           37MiB |\n",
      "|    0   N/A  N/A      9058      G   /usr/bin/python3.10                            70MiB |\n",
      "|    0   N/A  N/A      9865      G   ...erProcess --variations-seed-version         94MiB |\n",
      "|    0   N/A  N/A     17024      G   ...ures=SpareRendererForSitePerProcess         55MiB |\n",
      "|    0   N/A  N/A     39756      C   ...ures=SpareRendererForSitePerProcess       5710MiB |\n",
      "|    0   N/A  N/A     52270      G   ...9f313438e22bdb22e85905834e547b72bb8         87MiB |\n",
      "+-----------------------------------------------------------------------------------------+\n"
     ]
    }
   ],
   "source": [
    "!nvidia-smi"
   ]
  }
 ],
 "metadata": {
  "colab": {
   "provenance": []
  },
  "kernelspec": {
   "display_name": "rag_genai",
   "language": "python",
   "name": "python3"
  },
  "language_info": {
   "codemirror_mode": {
    "name": "ipython",
    "version": 3
   },
   "file_extension": ".py",
   "mimetype": "text/x-python",
   "name": "python",
   "nbconvert_exporter": "python",
   "pygments_lexer": "ipython3",
   "version": "3.11.10"
  }
 },
 "nbformat": 4,
 "nbformat_minor": 0
}
